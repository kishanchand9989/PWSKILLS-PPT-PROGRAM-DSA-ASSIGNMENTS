{
 "cells": [
  {
   "cell_type": "markdown",
   "id": "82d68d9c-9f80-49d5-91c1-0203017ee471",
   "metadata": {},
   "source": [
    "## DSA PPT PROGRAM MOCK EXAM"
   ]
  },
  {
   "cell_type": "code",
   "execution_count": null,
   "id": "cdfade82-035b-4d18-bacc-dd38f609f0d3",
   "metadata": {},
   "outputs": [],
   "source": []
  },
  {
   "cell_type": "markdown",
   "id": "5cf4acb3-83c9-493e-8308-9e1a8aba60b1",
   "metadata": {},
   "source": [
    "## Q1\n",
    "Move Zeroes\n",
    "Given an integer array nums, move all 0's to the end of it while maintaining the relative order of the non-zero elements.\n",
    "\n",
    "Note that you must do this in-place without making a copy of the array.\n",
    "\n",
    "Example 1:\n",
    "Input: nums = [0,1,0,3,12]\n",
    "Output: [1,3,12,0,0]\n",
    "\n",
    "Example 2:\n",
    "Input: nums = [0]\n",
    "Output: [0]\n",
    "\n",
    "Constraints:\n",
    "a. 1 <= nums.length <= 10^4\n",
    "b. -2^31 <= nums[i] <= 2^31 - 1"
   ]
  },
  {
   "cell_type": "code",
   "execution_count": null,
   "id": "b219d061-db44-4b7a-9956-1b8907082e0f",
   "metadata": {},
   "outputs": [],
   "source": []
  },
  {
   "cell_type": "code",
   "execution_count": 13,
   "id": "284f21cc-7efb-480d-a0a9-7d6b1b5c6e6c",
   "metadata": {},
   "outputs": [],
   "source": [
    "def  movezeroes(nums):\n",
    "    n=len(nums)\n",
    "    a=n-1\n",
    "    b=0\n",
    "    for i in range(0,n):\n",
    "        if nums[i]!=0:\n",
    "            nums[b]=nums[i]\n",
    "            b=b+1\n",
    "    \n",
    "    while b<=a:\n",
    "        nums[b]=0\n",
    "        b+=1\n",
    "    return nums\n",
    "            \n",
    "    "
   ]
  },
  {
   "cell_type": "code",
   "execution_count": 15,
   "id": "6eb8cf1e-3d96-4ccf-9968-645538b96d2c",
   "metadata": {},
   "outputs": [
    {
     "data": {
      "text/plain": [
       "[1, 3, 12, 0, 0]"
      ]
     },
     "execution_count": 15,
     "metadata": {},
     "output_type": "execute_result"
    }
   ],
   "source": [
    "nums = [0,1,0,3,12]\n",
    "movezeroes(nums)\n"
   ]
  },
  {
   "cell_type": "code",
   "execution_count": 16,
   "id": "7501e45e-e084-47a0-9459-c2dc99027d2f",
   "metadata": {},
   "outputs": [
    {
     "data": {
      "text/plain": [
       "[0]"
      ]
     },
     "execution_count": 16,
     "metadata": {},
     "output_type": "execute_result"
    }
   ],
   "source": [
    "nums=[0]\n",
    "movezeroes(nums)"
   ]
  },
  {
   "cell_type": "code",
   "execution_count": 14,
   "id": "3b3620c2-46da-4bde-95d5-6f1c3933474d",
   "metadata": {},
   "outputs": [
    {
     "data": {
      "text/plain": [
       "[1,\n",
       " 3,\n",
       " 12,\n",
       " 34,\n",
       " 56,\n",
       " 78,\n",
       " 98,\n",
       " 76,\n",
       " 90,\n",
       " 87,\n",
       " 9,\n",
       " 100,\n",
       " 2,\n",
       " 222,\n",
       " 30,\n",
       " 300,\n",
       " 440,\n",
       " 30,\n",
       " 22,\n",
       " 2222,\n",
       " 0,\n",
       " 0,\n",
       " 0,\n",
       " 0,\n",
       " 0,\n",
       " 0,\n",
       " 0,\n",
       " 0,\n",
       " 0,\n",
       " 0,\n",
       " 0]"
      ]
     },
     "execution_count": 14,
     "metadata": {},
     "output_type": "execute_result"
    }
   ],
   "source": [
    "nums=[0,1,0,3,12,34,56,78,0,98,0,76,90,0,87,0,9,0,100,2,0,222,30,0,300,440,30,0,22,0,2222]\n",
    "movezeroes(nums)"
   ]
  },
  {
   "cell_type": "code",
   "execution_count": null,
   "id": "7b4f0a4b-f4ff-42ee-844b-18e4754d3f74",
   "metadata": {},
   "outputs": [],
   "source": []
  },
  {
   "cell_type": "code",
   "execution_count": null,
   "id": "2ed1a265-cb23-4dd4-bcfc-121238b1babd",
   "metadata": {},
   "outputs": [],
   "source": []
  },
  {
   "cell_type": "code",
   "execution_count": 17,
   "id": "e1618224-122f-4f29-9ddc-5d64ee6c687a",
   "metadata": {},
   "outputs": [
    {
     "data": {
      "text/plain": [
       "[1, 3, 12, 0, 0]"
      ]
     },
     "execution_count": 17,
     "metadata": {},
     "output_type": "execute_result"
    }
   ],
   "source": [
    "def zeros(nums):\n",
    "    p=0\n",
    "    for i in range(len(nums)):\n",
    "        if nums[i]!=0:\n",
    "            nums[p]=nums[i]\n",
    "            p=p+1\n",
    "    while p<len(nums):\n",
    "        nums[p]=0\n",
    "        p=p+1\n",
    "    return nums\n",
    "\n",
    "\n",
    "nums=[0,1,0,3,12]\n",
    "zeros(nums)"
   ]
  },
  {
   "cell_type": "code",
   "execution_count": null,
   "id": "7a132247-00d9-4140-8952-9e6caece9e76",
   "metadata": {},
   "outputs": [],
   "source": []
  },
  {
   "cell_type": "code",
   "execution_count": null,
   "id": "1a16c9b2-04e5-4da4-8494-491e3928ccce",
   "metadata": {},
   "outputs": [],
   "source": []
  },
  {
   "cell_type": "code",
   "execution_count": null,
   "id": "1f9b03cd-f86c-4033-afac-5f83c0d2cc3d",
   "metadata": {},
   "outputs": [],
   "source": []
  },
  {
   "cell_type": "markdown",
   "id": "cacf88f4-5a47-4ae4-9917-87a12a23dc8e",
   "metadata": {},
   "source": [
    "## Q2\n",
    "\n",
    "First Unique Character in a String\n",
    "\n",
    "Given a string s, find the first non-repeating character in it and return its index. If it does not exist, return -1.\n",
    "\n",
    "Example 1:\n",
    "Input: s = \"leetcode\"\n",
    "Output: 0\n",
    "\n",
    "Example 2:\n",
    "Input: s = \"loveleetcode\"\n",
    "Output: 2\n",
    "\n",
    "Example 3:\n",
    "Input: s = \"aabb\"\n",
    "Output: -1\n",
    "\n",
    "Constraints:\n",
    "a. 1 <= s.length <= 10^5\n",
    "b. s consists of only lowercase English letters."
   ]
  },
  {
   "cell_type": "code",
   "execution_count": null,
   "id": "af60393a-24c1-4cb9-ae91-b82912d25a16",
   "metadata": {},
   "outputs": [],
   "source": []
  },
  {
   "cell_type": "code",
   "execution_count": 7,
   "id": "e236f683-d813-431f-881b-772c1102f36c",
   "metadata": {},
   "outputs": [],
   "source": [
    "def firstUniqChar(s):\n",
    "    char_count = {}\n",
    "\n",
    "    # Count the occurrences of each character\n",
    "    for char in s:\n",
    "        char_count[char] = char_count.get(char, 0) + 1\n",
    "    \n",
    "    print(char_count)\n",
    "\n",
    "    # Find the first character with count equal to 1\n",
    "    for i in range(len(s)):\n",
    "        if char_count[s[i]] == 1:\n",
    "            return i\n",
    "\n",
    "    return -1\n"
   ]
  },
  {
   "cell_type": "code",
   "execution_count": 8,
   "id": "38cb3173-dfff-47bc-8b4f-79dff0393186",
   "metadata": {},
   "outputs": [
    {
     "name": "stdout",
     "output_type": "stream",
     "text": [
      "{'l': 1, 'e': 3, 't': 1, 'c': 1, 'o': 1, 'd': 1}\n",
      "0\n"
     ]
    }
   ],
   "source": [
    "s = \"leetcode\"\n",
    "print(firstUniqChar(s)) \n"
   ]
  },
  {
   "cell_type": "code",
   "execution_count": 9,
   "id": "36f411b2-69af-4752-b5cc-ea2241860720",
   "metadata": {},
   "outputs": [
    {
     "name": "stdout",
     "output_type": "stream",
     "text": [
      "{'l': 2, 'o': 2, 'v': 1, 'e': 4, 't': 1, 'c': 1, 'd': 1}\n",
      "2\n"
     ]
    }
   ],
   "source": [
    "s = \"loveleetcode\"\n",
    "print(firstUniqChar(s)) \n"
   ]
  },
  {
   "cell_type": "code",
   "execution_count": 10,
   "id": "8c91c3fb-8792-4e4e-8bef-c1a5761380ff",
   "metadata": {},
   "outputs": [
    {
     "name": "stdout",
     "output_type": "stream",
     "text": [
      "{'a': 2, 'b': 2}\n",
      "-1\n"
     ]
    }
   ],
   "source": [
    "\n",
    "s = \"aabb\"\n",
    "print(firstUniqChar(s))  "
   ]
  },
  {
   "cell_type": "code",
   "execution_count": 11,
   "id": "f0a825f8-dccc-4036-b424-64ba1469884c",
   "metadata": {},
   "outputs": [
    {
     "name": "stdout",
     "output_type": "stream",
     "text": [
      "{'i': 2, 's': 2, 'h': 2, 'a': 2, 'n': 2, 'C': 2, 'd': 1, 'K': 1}\n",
      "9\n"
     ]
    }
   ],
   "source": [
    "s = \"ishanChandKisC\"\n",
    "print(firstUniqChar(s)) \n"
   ]
  },
  {
   "cell_type": "code",
   "execution_count": null,
   "id": "e7736fcf-e3f0-43f4-a08d-3c1779e20ba9",
   "metadata": {},
   "outputs": [],
   "source": []
  },
  {
   "cell_type": "code",
   "execution_count": null,
   "id": "574718a5-070d-4417-ac78-5c1388cb1296",
   "metadata": {},
   "outputs": [],
   "source": []
  }
 ],
 "metadata": {
  "kernelspec": {
   "display_name": "Python 3 (ipykernel)",
   "language": "python",
   "name": "python3"
  },
  "language_info": {
   "codemirror_mode": {
    "name": "ipython",
    "version": 3
   },
   "file_extension": ".py",
   "mimetype": "text/x-python",
   "name": "python",
   "nbconvert_exporter": "python",
   "pygments_lexer": "ipython3",
   "version": "3.10.8"
  }
 },
 "nbformat": 4,
 "nbformat_minor": 5
}
