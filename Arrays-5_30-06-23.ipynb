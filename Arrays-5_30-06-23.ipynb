{
 "cells": [
  {
   "cell_type": "code",
   "execution_count": null,
   "id": "18d87911-54f0-4286-bfa7-6091ee5fb079",
   "metadata": {},
   "outputs": [],
   "source": []
  },
  {
   "cell_type": "markdown",
   "id": "f6553483-33c1-477e-ad01-d7cc59067048",
   "metadata": {},
   "source": [
    "## Assignment-5"
   ]
  },
  {
   "cell_type": "code",
   "execution_count": null,
   "id": "a23d95c5-6902-46dd-9846-b2325536c81b",
   "metadata": {},
   "outputs": [],
   "source": []
  },
  {
   "cell_type": "code",
   "execution_count": null,
   "id": "703ab872-9957-4aeb-9700-39e6de9509e3",
   "metadata": {},
   "outputs": [],
   "source": []
  },
  {
   "cell_type": "markdown",
   "id": "0346ed1d-cb69-44a5-be91-020cd27bba25",
   "metadata": {},
   "source": [
    "## Question 1\n",
    "\n",
    "Convert 1D Array Into 2D Array\n",
    "\n",
    "You are given a **0-indexed** 1-dimensional (1D) integer array original, and two integers, m and n. You are tasked with creating a 2-dimensional (2D) array with  m rows and n columns using **all** the elements from original.\n",
    "\n",
    "The elements from indices 0 to n - 1 (**inclusive**) of original should form the first row of the constructed 2D array, the elements from indices n to 2 * n - 1 (**inclusive**) should form the second row of the constructed 2D array, and so on.\n",
    "\n",
    "Return *an* m x n *2D array constructed according to the above procedure, or an empty 2D array if it is impossible*.\n",
    "\n",
    "**Input:** original = [1,2,3,4], m = 2, n = 2\n",
    "\n",
    "**Output:** [[1,2],[3,4]]\n",
    "\n",
    "**Explanation:** The constructed 2D array should contain 2 rows and 2 columns.\n",
    "\n",
    "The first group of n=2 elements in original, [1,2], becomes the first row in the constructed 2D array.\n",
    "\n",
    "The second group of n=2 elements in original, [3,4], becomes the second row in the constructed 2D array.\n"
   ]
  },
  {
   "cell_type": "code",
   "execution_count": 3,
   "id": "2f20af45-2621-4207-9afc-de595be19f24",
   "metadata": {},
   "outputs": [],
   "source": [
    "from collections import deque"
   ]
  },
  {
   "cell_type": "code",
   "execution_count": 39,
   "id": "42ef14b6-8918-4dfe-82e6-3dbb7c0a187a",
   "metadata": {},
   "outputs": [],
   "source": [
    "def twodconversion(original,r,c):\n",
    "    org_r_size=len(original)\n",
    "    org_c_Size =len(original[0])\n",
    "    if len(original)==0 or org_r_size*org_c_Size!=r*c:\n",
    "        return []\n",
    "    else:\n",
    "        mat =[[0]*c for _ in range(r)]\n",
    "        queue =deque()\n",
    "        for i in range(org_r_size):\n",
    "            for j in range(org_c_Size):\n",
    "                queue.append(original[i][j])\n",
    "        print(queue)\n",
    "        for i in range(r):\n",
    "            for j in range(c):\n",
    "                mat[i][j] =queue.popleft()\n",
    "    return mat\n",
    "        \n",
    "    \n",
    "    "
   ]
  },
  {
   "cell_type": "code",
   "execution_count": 44,
   "id": "9c30d893-657b-4501-84dc-9ef66c389bfe",
   "metadata": {},
   "outputs": [
    {
     "name": "stdout",
     "output_type": "stream",
     "text": [
      "deque([1, 2, 3, 4])\n"
     ]
    },
    {
     "data": {
      "text/plain": [
       "[[1, 2], [3, 4]]"
      ]
     },
     "execution_count": 44,
     "metadata": {},
     "output_type": "execute_result"
    }
   ],
   "source": [
    "original=[[1,2,3,4]]\n",
    "twodconversion(original,2,2)"
   ]
  },
  {
   "cell_type": "code",
   "execution_count": null,
   "id": "6b108943-8428-4aea-882f-767c96925298",
   "metadata": {},
   "outputs": [],
   "source": []
  },
  {
   "cell_type": "markdown",
   "id": "29405d28-cf36-4d74-b7b9-6b9b417b19db",
   "metadata": {},
   "source": [
    "**Question 2**\n",
    "\n",
    "You have n coins and you want to build a staircase with these coins. The staircase consists of k rows where the ith row has exactly i coins. The last row of the staircase **may be** incomplete.\n",
    "\n",
    "Given the integer n, return *the number of **complete rows** of the staircase you will build*.\n",
    "\n",
    "Example:-1\n",
    "\n",
    "**Input:** n = 5\n",
    "\n",
    "**Output:** 2\n",
    "\n",
    "**Explanation:** Because the 3rd row is incomplete, we return 2.\n"
   ]
  },
  {
   "cell_type": "code",
   "execution_count": 45,
   "id": "156f743a-23a0-4bf2-bf03-df5ccba68eb3",
   "metadata": {},
   "outputs": [],
   "source": [
    "def completerows(coins):\n",
    "    comp =[i for i in range(1,coins+1)]\n",
    "    c =coins\n",
    "    count=0\n",
    "    for i in comp:\n",
    "        if c-i>=0:\n",
    "            count=count+1\n",
    "        c=c-i\n",
    "    return count"
   ]
  },
  {
   "cell_type": "code",
   "execution_count": 48,
   "id": "0d39b14c-c536-4ac5-9f11-d378085e357b",
   "metadata": {},
   "outputs": [
    {
     "data": {
      "text/plain": [
       "2"
      ]
     },
     "execution_count": 48,
     "metadata": {},
     "output_type": "execute_result"
    }
   ],
   "source": [
    "completerows(5)"
   ]
  },
  {
   "cell_type": "code",
   "execution_count": null,
   "id": "071f1c6b-a7ce-49db-91dd-c11d514228a6",
   "metadata": {},
   "outputs": [],
   "source": []
  },
  {
   "cell_type": "markdown",
   "id": "40e554bc-2f68-4a17-be16-db31a3537eb5",
   "metadata": {},
   "source": [
    "**Question 3**\n",
    "\n",
    "Given an integer array nums sorted in **non-decreasing** order, return *an array of **the squares of each number** sorted in non-decreasing order*.\n",
    "\n",
    "**Example 1:**\n",
    "\n",
    "**Input:** nums = [-4,-1,0,3,10]\n",
    "\n",
    "**Output:** [0,1,9,16,100]\n",
    "\n",
    "**Explanation:** After squaring, the array becomes [16,1,0,9,100].\n",
    "\n",
    "After sorting, it becomes [0,1,9,16,100].\n",
    "\n"
   ]
  },
  {
   "cell_type": "code",
   "execution_count": 61,
   "id": "b7a86c02-d186-4f7f-9edb-b420ffbf9528",
   "metadata": {},
   "outputs": [],
   "source": [
    "import numpy as np\n",
    "\n",
    "def squaring(nums):\n",
    "    sqrs=[]\n",
    "    for i in nums:\n",
    "        sqrs.append(np.square(i))\n",
    "    sqrs.sort()\n",
    "    return sqrs\n",
    "    "
   ]
  },
  {
   "cell_type": "code",
   "execution_count": 62,
   "id": "13c71006-b6da-43bc-b0bb-a4b99940fe51",
   "metadata": {},
   "outputs": [
    {
     "data": {
      "text/plain": [
       "[0, 1, 9, 16, 100]"
      ]
     },
     "execution_count": 62,
     "metadata": {},
     "output_type": "execute_result"
    }
   ],
   "source": [
    "nums =[-4,-1,0,3,10]\n",
    "squaring(nums)"
   ]
  },
  {
   "cell_type": "code",
   "execution_count": null,
   "id": "b3535d62-d563-4de5-a964-ae08100f8298",
   "metadata": {},
   "outputs": [],
   "source": []
  },
  {
   "cell_type": "markdown",
   "id": "20903424-78ca-4ccf-b2cd-8e634923a833",
   "metadata": {},
   "source": [
    "**Question 4**\n",
    "\n",
    "Given two **0-indexed** integer arrays nums1 and nums2, return *a list* answer *of size* 2 *where:*\n",
    "\n",
    "- answer[0] *is a list of all **distinct** integers in* nums1 *which are **not** present in* nums2*.*\n",
    "- answer[1] *is a list of all **distinct** integers in* nums2 *which are **not** present in* nums1.\n",
    "\n",
    "**Note** that the integers in the lists may be returned in **any** order.\n",
    "\n",
    "**Example 1:**\n",
    "\n",
    "**Input:** nums1 = [1,2,3], nums2 = [2,4,6]\n",
    "\n",
    "**Output:** [[1,3],[4,6]]\n",
    "\n",
    "**Explanation:**\n",
    "\n",
    "For nums1, nums1[1] = 2 is present at index 0 of nums2, whereas nums1[0] = 1 and nums1[2] = 3 are not present in nums2. Therefore, answer[0] = [1,3].\n",
    "\n",
    "For nums2, nums2[0] = 2 is present at index 1 of nums1, whereas nums2[1] = 4 and nums2[2] = 6 are not present in nums2. Therefore, answer[1] = [4,6].\n",
    "\n",
    "</aside>"
   ]
  },
  {
   "cell_type": "code",
   "execution_count": null,
   "id": "6df003eb-2653-484e-8586-970b51efd477",
   "metadata": {},
   "outputs": [],
   "source": []
  },
  {
   "cell_type": "code",
   "execution_count": 80,
   "id": "b03511c1-54dc-4737-9b35-c7a43c879b6e",
   "metadata": {},
   "outputs": [],
   "source": [
    "def uniq_ele_list(arr1,arr2):\n",
    "    o_arr1=[]\n",
    "    o_arr2=[]\n",
    "    c_array=[]\n",
    "    for i in arr1:\n",
    "        if i not in arr2:\n",
    "            o_arr1.append(i)\n",
    "    for i in arr2:\n",
    "        if i not in arr1:\n",
    "            o_arr2.append(i)\n",
    "    c_array.append(o_arr1)\n",
    "    c_array.append(o_arr2)\n",
    "    return c_array"
   ]
  },
  {
   "cell_type": "code",
   "execution_count": 81,
   "id": "f347d8d8-6f63-4e60-ac8e-82a920a0de4b",
   "metadata": {},
   "outputs": [
    {
     "data": {
      "text/plain": [
       "[[1, 3], [4, 6]]"
      ]
     },
     "execution_count": 81,
     "metadata": {},
     "output_type": "execute_result"
    }
   ],
   "source": [
    "arr1 =[1,2,3]\n",
    "arr2 =[2,4,6]\n",
    "uniq_ele_list(arr1,arr2)"
   ]
  },
  {
   "cell_type": "code",
   "execution_count": null,
   "id": "3fe543c9-d264-4e92-a8a8-80c3c486c447",
   "metadata": {},
   "outputs": [],
   "source": []
  },
  {
   "cell_type": "markdown",
   "id": "af79e631-31e5-43f0-a4f3-dbb9b26bc531",
   "metadata": {},
   "source": [
    "\n",
    " **Question 5**\n",
    "\n",
    "Given two integer arrays arr1 and arr2, and the integer d, *return the distance value between the two arrays*.\n",
    "\n",
    "The distance value is defined as the number of elements arr1[i] such that there is not any element arr2[j] where |arr1[i]-arr2[j]| <= d.\n",
    "\n",
    "**Example 1:**\n",
    "\n",
    "**Input:** arr1 = [4,5,8], arr2 = [10,9,1,8], d = 2\n",
    "\n",
    "**Output:** 2\n",
    "\n",
    "**Explanation:**\n",
    "\n",
    "For arr1[0]=4 we have:\n",
    "\n",
    "|4-10|=6 > d=2\n",
    "\n",
    "|4-9|=5 > d=2\n",
    "\n",
    "|4-1|=3 > d=2\n",
    "\n",
    "|4-8|=4 > d=2\n",
    "\n",
    "For arr1[1]=5 we have:\n",
    "\n",
    "|5-10|=5 > d=2\n",
    "\n",
    "|5-9|=4 > d=2\n",
    "\n",
    "|5-1|=4 > d=2\n",
    "\n",
    "|5-8|=3 > d=2\n",
    "\n",
    "For arr1[2]=8 we have:\n",
    "\n",
    "**|8-10|=2 <= d=2**\n",
    "\n",
    "**|8-9|=1 <= d=2**\n",
    "\n",
    "|8-1|=7 > d=2\n",
    "\n",
    "**|8-8|=0 <= d=2**\n",
    "\n",
    "</aside>"
   ]
  },
  {
   "cell_type": "code",
   "execution_count": 33,
   "id": "f1ca55b8-06b8-465f-a7d3-aab9e1cd7159",
   "metadata": {},
   "outputs": [],
   "source": [
    "def distance_value(arr1, arr2, d):\n",
    "    distance = 0\n",
    "    \n",
    "    for num1 in arr1:\n",
    "        found = False\n",
    "        for num2 in arr2:\n",
    "            if abs(num1 - num2) <= d:\n",
    "                found = True\n",
    "                break\n",
    "        \n",
    "        if not found:\n",
    "            distance += 1\n",
    "    \n",
    "    return distance\n"
   ]
  },
  {
   "cell_type": "code",
   "execution_count": 34,
   "id": "25b92a0e-5f41-4950-bab0-a4ac92d355ab",
   "metadata": {},
   "outputs": [
    {
     "name": "stdout",
     "output_type": "stream",
     "text": [
      "Distance value: 2\n"
     ]
    }
   ],
   "source": [
    "arr1 = [4, 5, 8]\n",
    "arr2 = [10, 9, 1, 8]\n",
    "d = 2\n",
    "\n",
    "result = distance_value(arr1, arr2, d)\n",
    "print(\"Distance value:\", result)\n"
   ]
  },
  {
   "cell_type": "code",
   "execution_count": null,
   "id": "1a2b1a3a-e3b1-4965-80e2-4e03891aba06",
   "metadata": {},
   "outputs": [],
   "source": []
  },
  {
   "cell_type": "markdown",
   "id": "a50f4db5-99c2-44ec-9300-16a99852b398",
   "metadata": {},
   "source": [
    "\n",
    "**Question 6**\n",
    "\n",
    "Given an integer array nums of length n where all the integers of nums are in the range [1, n] and each integer appears **once** or **twice**, return *an array of all the integers that appears **twice***.\n",
    "\n",
    "You must write an algorithm that runs in O(n) time and uses only constant extra space.\n",
    "\n",
    "**Example 1:**\n",
    "\n",
    "**Input:** nums = [4,3,2,7,8,2,3,1]\n",
    "\n",
    "**Output:**\n",
    "\n",
    "[2,3]\n",
    "\n",
    "</aside>"
   ]
  },
  {
   "cell_type": "code",
   "execution_count": 35,
   "id": "8b8a9c65-6feb-420c-923a-6db8d950edf7",
   "metadata": {},
   "outputs": [],
   "source": [
    "def duplicates(nums):\n",
    "    out=[]\n",
    "    \n",
    "    for i in nums:\n",
    "        val =nums.count(i)\n",
    "        if val>=2 and i not in out:\n",
    "            out.append(i)\n",
    "            \n",
    "    return out"
   ]
  },
  {
   "cell_type": "code",
   "execution_count": 36,
   "id": "64583783-607e-493b-8fe0-9e106bd58d5c",
   "metadata": {},
   "outputs": [
    {
     "data": {
      "text/plain": [
       "[3, 2]"
      ]
     },
     "execution_count": 36,
     "metadata": {},
     "output_type": "execute_result"
    }
   ],
   "source": [
    "nums =[4,3,2,7,8,2,3,1]\n",
    "val =duplicates(nums)\n",
    "val"
   ]
  },
  {
   "cell_type": "code",
   "execution_count": null,
   "id": "cc06d521-d940-4d84-b7ce-1a4f39888615",
   "metadata": {},
   "outputs": [],
   "source": []
  },
  {
   "cell_type": "markdown",
   "id": "9f2f6aa0-2bb0-4570-a971-2c2b3e6731b7",
   "metadata": {},
   "source": [
    " **Question 7**\n",
    "\n",
    "Suppose an array of length n sorted in ascending order is **rotated** between 1 and n times. For example, the array nums = [0,1,2,4,5,6,7] might become:\n",
    "\n",
    "- [4,5,6,7,0,1,2] if it was rotated 4 times.\n",
    "- [0,1,2,4,5,6,7] if it was rotated 7 times.\n",
    "\n",
    "Notice that **rotating** an array [a[0], a[1], a[2], ..., a[n-1]] 1 time results in the array [a[n-1], a[0], a[1], a[2], ..., a[n-2]].\n",
    "\n",
    "Given the sorted rotated array nums of **unique** elements, return *the minimum element of this array*.\n",
    "\n",
    "You must write an algorithm that runs in O(log n) time.\n",
    "\n",
    "**Example 1:**\n",
    "\n",
    "**Input:** nums = [3,4,5,1,2]\n",
    "\n",
    "**Output:** 1\n",
    "\n",
    "**Explanation:**\n",
    "\n",
    "The original array was [1,2,3,4,5] rotated 3 times.\n",
    "\n",
    "</aside>"
   ]
  },
  {
   "cell_type": "code",
   "execution_count": 20,
   "id": "33ddbcb7-94f5-49a2-aa0f-09b7dd2e6c14",
   "metadata": {},
   "outputs": [],
   "source": [
    "def findMin(nums):\n",
    "    left = 0\n",
    "    right = len(nums) - 1\n",
    "    \n",
    "    while left < right:\n",
    "        if nums[left] < nums[right]:\n",
    "            return nums[left]\n",
    "        \n",
    "        mid = left + (right - left) // 2\n",
    "        \n",
    "        if nums[mid] > nums[right]:\n",
    "            left = mid + 1\n",
    "        else:\n",
    "            right = mid\n",
    "    \n",
    "    return nums[left]\n"
   ]
  },
  {
   "cell_type": "code",
   "execution_count": 21,
   "id": "d5416eca-e211-4216-8c3c-93db7795c980",
   "metadata": {},
   "outputs": [
    {
     "name": "stdout",
     "output_type": "stream",
     "text": [
      "1\n"
     ]
    }
   ],
   "source": [
    "nums = [3, 4, 5, 1, 2]\n",
    "minimum = findMin(nums)\n",
    "print(minimum)\n"
   ]
  },
  {
   "cell_type": "code",
   "execution_count": null,
   "id": "65063c98-b469-405e-aba5-a409c36160bf",
   "metadata": {},
   "outputs": [],
   "source": []
  },
  {
   "cell_type": "markdown",
   "id": "d3502705-a99d-43d7-b185-1838b68b19d1",
   "metadata": {},
   "source": [
    "**Question 8**\n",
    "\n",
    "An integer array original is transformed into a **doubled** array changed by appending **twice the value** of every element in original, and then randomly **shuffling** the resulting array.\n",
    "\n",
    "Given an array changed, return original *if* changed *is a **doubled** array. If* changed *is not a **doubled** array, return an empty array. The elements in* original *may be returned in **any** order*.\n",
    "\n",
    "**Example 1:**\n",
    "\n",
    "**Input:** changed = [1,3,4,2,6,8]\n",
    "\n",
    "**Output:** [1,3,4]\n",
    "\n",
    "**Explanation:** One possible original array could be [1,3,4]:\n",
    "\n",
    "- Twice the value of 1 is 1 * 2 = 2.\n",
    "- Twice the value of 3 is 3 * 2 = 6.\n",
    "- Twice the value of 4 is 4 * 2 = 8.\n",
    "\n",
    "Other original arrays could be [4,3,1] or [3,1,4].\n",
    "\n",
    "</aside>"
   ]
  },
  {
   "cell_type": "code",
   "execution_count": null,
   "id": "88181112-6b0a-4897-b0e2-3a6b33c4f26c",
   "metadata": {},
   "outputs": [],
   "source": []
  },
  {
   "cell_type": "code",
   "execution_count": 13,
   "id": "82b8ffa1-9c31-4864-943a-59c22c0b2e73",
   "metadata": {},
   "outputs": [],
   "source": [
    "def checkdoubled(changed):\n",
    "    if len(changed)%2!=0:\n",
    "        return []\n",
    "    original=[]\n",
    "    changed.sort(reverse=False)\n",
    "    for num in changed:\n",
    "        \n",
    "        val=num*2\n",
    "        if val in changed:\n",
    "            original.append(num)\n",
    "            changed.remove(val)\n",
    "        else:\n",
    "            return []\n",
    "    return original\n",
    "        "
   ]
  },
  {
   "cell_type": "code",
   "execution_count": 16,
   "id": "e08d3f33-0d98-4274-aa4c-c5d95484c659",
   "metadata": {},
   "outputs": [
    {
     "data": {
      "text/plain": [
       "[1, 3, 4]"
      ]
     },
     "execution_count": 16,
     "metadata": {},
     "output_type": "execute_result"
    }
   ],
   "source": [
    "changed=[1,3,4,2,6,8]\n",
    "checkdoubled(changed)"
   ]
  },
  {
   "cell_type": "code",
   "execution_count": null,
   "id": "915638c3-db79-40a8-95da-efa4f65bf394",
   "metadata": {},
   "outputs": [],
   "source": []
  }
 ],
 "metadata": {
  "kernelspec": {
   "display_name": "Python 3 (ipykernel)",
   "language": "python",
   "name": "python3"
  },
  "language_info": {
   "codemirror_mode": {
    "name": "ipython",
    "version": 3
   },
   "file_extension": ".py",
   "mimetype": "text/x-python",
   "name": "python",
   "nbconvert_exporter": "python",
   "pygments_lexer": "ipython3",
   "version": "3.10.8"
  }
 },
 "nbformat": 4,
 "nbformat_minor": 5
}
