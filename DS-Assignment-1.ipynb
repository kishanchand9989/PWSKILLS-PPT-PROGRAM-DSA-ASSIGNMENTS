{
 "cells": [
  {
   "cell_type": "markdown",
   "id": "5b66e5e0-0986-4511-bd8b-dc0700b6927a",
   "metadata": {},
   "source": [
    "## Assignment-1"
   ]
  },
  {
   "cell_type": "code",
   "execution_count": null,
   "id": "493643c5-36de-4a3f-a2bd-df7105a97454",
   "metadata": {},
   "outputs": [],
   "source": []
  },
  {
   "cell_type": "code",
   "execution_count": null,
   "id": "7678c1fe-2a50-47b7-b32f-b3be8e791632",
   "metadata": {},
   "outputs": [],
   "source": []
  },
  {
   "cell_type": "markdown",
   "id": "93c8d188-8a7a-40c2-8754-36ddfe182085",
   "metadata": {},
   "source": [
    "## 1. Write a Python program to reverse a string without using any built-in string reversal functions.\n"
   ]
  },
  {
   "cell_type": "code",
   "execution_count": 12,
   "id": "a688610a-9d44-43e8-9b9b-1350227b97c2",
   "metadata": {},
   "outputs": [
    {
     "name": "stdout",
     "output_type": "stream",
     "text": [
      "KishanChand\n",
      "dnahCnahsiK\n"
     ]
    }
   ],
   "source": [
    "x=\"KishanChand\"\n",
    "print(x)\n",
    "print(x[::-1])\n"
   ]
  },
  {
   "cell_type": "code",
   "execution_count": null,
   "id": "760ded5b-bd98-4b99-84c2-676bebce3048",
   "metadata": {},
   "outputs": [],
   "source": []
  },
  {
   "cell_type": "markdown",
   "id": "c61bf605-95e3-41d3-93ca-cd53421a369c",
   "metadata": {},
   "source": [
    "## 2. Implement a function to check if a given string is a palindrome.\n"
   ]
  },
  {
   "cell_type": "code",
   "execution_count": 29,
   "id": "b1434122-cd5b-4208-9fcd-b2f3e002d6e0",
   "metadata": {},
   "outputs": [],
   "source": [
    "def palindrome(strng):\n",
    "    rvr =strng[::-1]\n",
    "    if strng==rvr:\n",
    "        return True\n",
    "    else:\n",
    "        return False"
   ]
  },
  {
   "cell_type": "code",
   "execution_count": 33,
   "id": "5faac8bc-445f-4f50-a406-d94b80a2af4b",
   "metadata": {},
   "outputs": [
    {
     "name": "stdout",
     "output_type": "stream",
     "text": [
      "True\n"
     ]
    }
   ],
   "source": [
    "check =palindrome(\"MADAM\")\n",
    "print(check)"
   ]
  },
  {
   "cell_type": "code",
   "execution_count": 23,
   "id": "f11396dd-84a0-483c-ade6-60d1284386ce",
   "metadata": {},
   "outputs": [
    {
     "data": {
      "text/plain": [
       "True"
      ]
     },
     "execution_count": 23,
     "metadata": {},
     "output_type": "execute_result"
    }
   ],
   "source": [
    "\"hello\"==\"hello\""
   ]
  },
  {
   "cell_type": "markdown",
   "id": "a820656c-b049-4aab-aa99-24d0b88012a1",
   "metadata": {},
   "source": [
    "## 3. Write a program to find the largest element in a given list.\n"
   ]
  },
  {
   "cell_type": "code",
   "execution_count": 41,
   "id": "66725cfb-568d-4f89-8a27-d536f5b82ba6",
   "metadata": {},
   "outputs": [],
   "source": [
    "lst =[1,13,23,42,13,54,11,65,14,76,9,83,1,9,79,66]"
   ]
  },
  {
   "cell_type": "code",
   "execution_count": 42,
   "id": "3087bfdc-3499-4523-a84e-c05cbdb6278a",
   "metadata": {},
   "outputs": [
    {
     "name": "stdout",
     "output_type": "stream",
     "text": [
      "83\n"
     ]
    }
   ],
   "source": [
    "max=lst[0]\n",
    "for i in lst:\n",
    "    if i>max:\n",
    "        max=i\n",
    "    else:\n",
    "        pass\n",
    "print(max)"
   ]
  },
  {
   "cell_type": "markdown",
   "id": "5aaeb022-0913-4030-b48b-c13b55e89ac9",
   "metadata": {},
   "source": [
    "\n",
    "## 4. Implement a function to count the occurrence of each element in a list.\n"
   ]
  },
  {
   "cell_type": "code",
   "execution_count": 73,
   "id": "1bf9a0f5-7e79-4563-a0e5-31b42587dcbf",
   "metadata": {},
   "outputs": [],
   "source": [
    "#from collections import Counter\n",
    "def frequency(freq):\n",
    "    count=[]\n",
    "    for i in freq:\n",
    "        if i not in count:\n",
    "            count.append(i)\n",
    "    f_count=[]\n",
    "    c=0\n",
    "    for i in count:\n",
    "        for j in range(len(freq)):\n",
    "            if i ==freq[j]:\n",
    "                c=c+1\n",
    "            else:\n",
    "                pass\n",
    "        f_count.append([i,c])\n",
    "        c=0\n",
    "               \n",
    "\n",
    "    return f_count"
   ]
  },
  {
   "cell_type": "code",
   "execution_count": null,
   "id": "9ddce5b6-740a-42e4-9205-132bc854921c",
   "metadata": {},
   "outputs": [],
   "source": []
  },
  {
   "cell_type": "code",
   "execution_count": 75,
   "id": "ae74727e-3709-4ec3-99c7-b235e744e832",
   "metadata": {},
   "outputs": [
    {
     "data": {
      "text/plain": [
       "[[1, 1],\n",
       " [2, 2],\n",
       " [3, 3],\n",
       " [4, 4],\n",
       " [5, 5],\n",
       " [6, 6],\n",
       " [7, 7],\n",
       " [8, 8],\n",
       " [12, 2],\n",
       " [13, 1],\n",
       " [14, 1],\n",
       " [11, 1],\n",
       " [23, 2],\n",
       " [21, 1],\n",
       " [24, 2],\n",
       " [22, 1],\n",
       " [25, 1],\n",
       " [50, 1],\n",
       " [100, 1],\n",
       " [400, 4],\n",
       " [500, 3]]"
      ]
     },
     "execution_count": 75,
     "metadata": {},
     "output_type": "execute_result"
    }
   ],
   "source": [
    "freq =[1,2,2,3,3,3,4,4,4,4,5,5,5,5,5,6,6,6,6,6,6,7,7,7,7,7,7,7,8,8,8,8,8,8,8,8,12,13,14,11,12,23,21,23,24,24,22,25,50,100,400,400,400,400,500,500,500]\n",
    "counts =frequency(freq)\n",
    "counts"
   ]
  },
  {
   "cell_type": "code",
   "execution_count": null,
   "id": "d4b9053a-dc97-429a-87cc-4dbf0f9654b1",
   "metadata": {},
   "outputs": [],
   "source": []
  },
  {
   "cell_type": "markdown",
   "id": "0a0eb59b-f4f8-4dca-b04c-bfcf1f7ca1e0",
   "metadata": {},
   "source": [
    "## 5. Write a Python program to find the second largest number in a list.\n"
   ]
  },
  {
   "cell_type": "code",
   "execution_count": 85,
   "id": "220aeccb-f3ea-40c1-bd61-868e7cd8acaa",
   "metadata": {},
   "outputs": [],
   "source": [
    "def second_largest(nums):\n",
    "    nums.sort(reverse=True)\n",
    "    s =nums[1]\n",
    "    \n",
    "    return s\n"
   ]
  },
  {
   "cell_type": "code",
   "execution_count": 86,
   "id": "adcd1b59-a069-4dd6-afb5-3ef114841bfc",
   "metadata": {},
   "outputs": [
    {
     "data": {
      "text/plain": [
       "9"
      ]
     },
     "execution_count": 86,
     "metadata": {},
     "output_type": "execute_result"
    }
   ],
   "source": [
    "nums=[1,10,2,9,3,8,4,7,6]\n",
    "val =second_largest(nums)\n",
    "val"
   ]
  },
  {
   "cell_type": "markdown",
   "id": "0acd9e7f-4cc3-419f-b41f-7a90b1b5a76f",
   "metadata": {},
   "source": [
    "## 6. Implement a function to remove duplicate elements from a list.\n"
   ]
  },
  {
   "cell_type": "code",
   "execution_count": 113,
   "id": "41efac80-b31f-4b4b-98ba-6d6dfcb3b26b",
   "metadata": {},
   "outputs": [],
   "source": [
    "def uniq(lst):\n",
    "    return list(set(lst))"
   ]
  },
  {
   "cell_type": "code",
   "execution_count": 114,
   "id": "f36414f4-30d6-4467-8cdf-a74964a853a2",
   "metadata": {},
   "outputs": [
    {
     "name": "stdout",
     "output_type": "stream",
     "text": [
      "[1, 2, 3, 4, 5, 6, 7, 8, 9, 10, 11, 12, 13, 15]\n"
     ]
    }
   ],
   "source": [
    "lst= [11,2,3,3,4,4,5,4,5,6,7,8,9,9,10,11,12,13,1,4,15]\n",
    "print(uniq(lst))"
   ]
  },
  {
   "cell_type": "code",
   "execution_count": null,
   "id": "628f84ae-2ee6-48e3-b41f-397bea3b4562",
   "metadata": {},
   "outputs": [],
   "source": []
  },
  {
   "cell_type": "code",
   "execution_count": 128,
   "id": "8e6112ab-ad62-4937-ab2e-3a220a0c4e7e",
   "metadata": {},
   "outputs": [],
   "source": [
    "def uniq1(lst):\n",
    "    lst.sort()\n",
    "    uq=[]\n",
    "    print(lst)\n",
    "    for i in lst:\n",
    "        if i in uq:\n",
    "            lst.remove(i)\n",
    "        else:\n",
    "            uq.append(i)\n",
    "    return lst\n",
    "        \n",
    "    "
   ]
  },
  {
   "cell_type": "code",
   "execution_count": 133,
   "id": "7a195fd6-e237-44bc-a653-9b8ce500d891",
   "metadata": {},
   "outputs": [
    {
     "name": "stdout",
     "output_type": "stream",
     "text": [
      "[1, 1, 2, 3, 3, 4, 5, 6, 7, 8, 9, 9, 10, 11, 11, 12, 13, 15, 15, 22, 22]\n",
      "[1, 2, 3, 4, 5, 6, 7, 8, 9, 10, 11, 12, 13, 15, 22, 22]\n"
     ]
    }
   ],
   "source": [
    "lst= [11,2,3,3,4,5,6,7,8,9,9,10,11,12,13,1,15,1,15,22,22]\n",
    "print(uniq1(lst))"
   ]
  },
  {
   "cell_type": "code",
   "execution_count": null,
   "id": "fb69f25d-3cf3-4dc1-9ced-4b311deb0a81",
   "metadata": {},
   "outputs": [],
   "source": []
  },
  {
   "cell_type": "markdown",
   "id": "bbf7b64d-6906-4bb8-8c78-9fa36ac5d6e6",
   "metadata": {},
   "source": [
    "## 7. Write a program to calculate the factorial of a given number.\n",
    "\n"
   ]
  },
  {
   "cell_type": "code",
   "execution_count": 92,
   "id": "41fe520c-6a0f-46ed-bce5-1f2434e0b3cf",
   "metadata": {},
   "outputs": [],
   "source": [
    "def factorial(n):\n",
    "    if n==0:\n",
    "        return 1\n",
    "    else:\n",
    "        ans = n*factorial(n-1)\n",
    "    return ans"
   ]
  },
  {
   "cell_type": "code",
   "execution_count": 96,
   "id": "6944ac63-cc0d-433c-84d1-747f6e35ef4f",
   "metadata": {},
   "outputs": [
    {
     "data": {
      "text/plain": [
       "720"
      ]
     },
     "execution_count": 96,
     "metadata": {},
     "output_type": "execute_result"
    }
   ],
   "source": [
    "val =factorial(6)\n",
    "val"
   ]
  },
  {
   "cell_type": "markdown",
   "id": "cc82e108-5cc3-46af-9975-2550477b59d2",
   "metadata": {},
   "source": [
    "\n",
    "## 8. Implement a function to check if a given number is prime.\n"
   ]
  },
  {
   "cell_type": "code",
   "execution_count": 99,
   "id": "26d90261-6fe5-4dfa-a4b1-85abcedd11e1",
   "metadata": {},
   "outputs": [],
   "source": [
    "def primecheck(val):\n",
    "    for i in range(2,val//2):\n",
    "        if val==1:\n",
    "            return False\n",
    "        if val%i==0:\n",
    "            return False\n",
    "    return True"
   ]
  },
  {
   "cell_type": "code",
   "execution_count": 103,
   "id": "b13fda0e-0018-4f3b-83bc-1df78e1a8884",
   "metadata": {},
   "outputs": [
    {
     "data": {
      "text/plain": [
       "True"
      ]
     },
     "execution_count": 103,
     "metadata": {},
     "output_type": "execute_result"
    }
   ],
   "source": [
    "primecheck(59)\n",
    "# 2, 3, 5, 7, 11, 13, 17, 19, 23, 29, 31, 37, 41, 43, 47, 53, 59, 61, 67, 71, 73, 79, 83, 89, 97 -->list of prime Numbers"
   ]
  },
  {
   "cell_type": "markdown",
   "id": "45bebcb6-a9f3-435d-bb4d-a0d204cbcf40",
   "metadata": {},
   "source": [
    "\n",
    "## 9. Write a Python program to sort a list of integers in ascending order.\n"
   ]
  },
  {
   "cell_type": "code",
   "execution_count": 137,
   "id": "e4472920-7acc-4a55-be3b-dba1029d70e9",
   "metadata": {},
   "outputs": [],
   "source": [
    "def ascend(val):\n",
    "    val.sort()\n",
    "    return val"
   ]
  },
  {
   "cell_type": "code",
   "execution_count": null,
   "id": "1503bffe-d002-4997-a2f6-dd469a3f4f8b",
   "metadata": {},
   "outputs": [],
   "source": []
  },
  {
   "cell_type": "code",
   "execution_count": 147,
   "id": "4a8b4965-a549-49e0-8855-8cc88c67db67",
   "metadata": {},
   "outputs": [
    {
     "data": {
      "text/plain": [
       "[1, 2, 3, 4, 4, 5, 5, 6, 7, 8, 9, 10]"
      ]
     },
     "execution_count": 147,
     "metadata": {},
     "output_type": "execute_result"
    }
   ],
   "source": [
    "val =[10,9,8,7,6,5,4,3,2,1,5,4]\n",
    "ascend(val)\n",
    "#conven(val)"
   ]
  },
  {
   "cell_type": "code",
   "execution_count": null,
   "id": "992133d9-ee8c-4a6b-97a9-d89ca210c81a",
   "metadata": {},
   "outputs": [],
   "source": []
  },
  {
   "cell_type": "markdown",
   "id": "0efaee68-2ad5-4bb9-8ca4-0579134d7b70",
   "metadata": {},
   "source": [
    "## 10. Implement a function to find the sum of all numbers in a list.\n"
   ]
  },
  {
   "cell_type": "code",
   "execution_count": 148,
   "id": "9838392e-57be-4c93-9920-d807e79e9037",
   "metadata": {},
   "outputs": [],
   "source": [
    "def sum(values):\n",
    "    sum =0\n",
    "    for i in values:\n",
    "        sum =sum + i\n",
    "    return sum"
   ]
  },
  {
   "cell_type": "code",
   "execution_count": 150,
   "id": "2445b7e7-2f92-4e7f-9233-4710f785e6ad",
   "metadata": {},
   "outputs": [
    {
     "data": {
      "text/plain": [
       "30"
      ]
     },
     "execution_count": 150,
     "metadata": {},
     "output_type": "execute_result"
    }
   ],
   "source": [
    "values=[1,2,3,4,5,15]\n",
    "sum(values)"
   ]
  },
  {
   "cell_type": "markdown",
   "id": "0405cc0f-ff72-4eaa-aa40-fee52c251fac",
   "metadata": {},
   "source": [
    "## 11. Write a program to find the common elements between two lists.\n"
   ]
  },
  {
   "cell_type": "code",
   "execution_count": 152,
   "id": "1900ddf1-db31-407f-888f-8c391677ea9b",
   "metadata": {},
   "outputs": [],
   "source": [
    "def commonelement(l1,l2):\n",
    "    common_elements=[]\n",
    "    for i in l1:\n",
    "        if i in l2:\n",
    "            common_elements.append(i)\n",
    "        else:\n",
    "            pass\n",
    "    return common_elements"
   ]
  },
  {
   "cell_type": "code",
   "execution_count": 154,
   "id": "8314ea4f-8595-4cce-a618-0f14e5ff7ac0",
   "metadata": {},
   "outputs": [
    {
     "data": {
      "text/plain": [
       "[5, 9]"
      ]
     },
     "execution_count": 154,
     "metadata": {},
     "output_type": "execute_result"
    }
   ],
   "source": [
    "l1=[1,2,3,4,5,9]\n",
    "l2=[5,6,7,8,9]\n",
    "commonelement(l1,l2)"
   ]
  },
  {
   "cell_type": "code",
   "execution_count": null,
   "id": "fa53d160-0f22-44ff-8c75-62cf51b3e30b",
   "metadata": {},
   "outputs": [],
   "source": []
  },
  {
   "cell_type": "markdown",
   "id": "e5673ce1-60b7-4851-9314-a6ff3e2f47bc",
   "metadata": {},
   "source": [
    "\n",
    "## 12. Implement a function to check if a given string is an anagram of another string.\n"
   ]
  },
  {
   "cell_type": "code",
   "execution_count": 1,
   "id": "c30e3bd0-a1de-4b10-9a9a-09909a6bdb30",
   "metadata": {},
   "outputs": [],
   "source": [
    "def ianagram(str1, str2):\n",
    "    # Convert strings to lowercase and remove spaces\n",
    "    str1_upd = str1.lower().replace(\" \", \"\")\n",
    "    str2_upd = str2.lower().replace(\" \", \"\")\n",
    "    \n",
    "    # Check if the lengths of the strings are equal\n",
    "    if len(str1_upd) != len(str2_upd):\n",
    "        return False\n",
    "    \n",
    "    # Convert strings to lists for comparison\n",
    "    list1 = list(str1_upd)\n",
    "    list2 = list(str2_upd)\n",
    "    \n",
    "    # Sort the lists\n",
    "    list1.sort()\n",
    "    list2.sort()\n",
    "    \n",
    "    # Compare the sorted lists\n",
    "    if list1 == list2:\n",
    "        return True\n",
    "    else:\n",
    "        return False\n",
    "\n",
    "\n"
   ]
  },
  {
   "cell_type": "code",
   "execution_count": 2,
   "id": "a8b1080e-6adc-4e46-aed5-4663e739e733",
   "metadata": {},
   "outputs": [
    {
     "data": {
      "text/plain": [
       "True"
      ]
     },
     "execution_count": 2,
     "metadata": {},
     "output_type": "execute_result"
    }
   ],
   "source": [
    "# Test the function\n",
    "str1 = \"listen\"\n",
    "str2 = \"silent\"\n",
    "ianagram(str1, str2) "
   ]
  },
  {
   "cell_type": "code",
   "execution_count": null,
   "id": "751c21e1-7e5d-4728-99ff-6765d5f15d04",
   "metadata": {},
   "outputs": [],
   "source": []
  },
  {
   "cell_type": "markdown",
   "id": "d49ac2a8-7640-4848-9bd5-adf30b8bb8f5",
   "metadata": {},
   "source": [
    "\n",
    "## 13. Write a Python program to generate all permutations of a given string.\n"
   ]
  },
  {
   "cell_type": "code",
   "execution_count": 186,
   "id": "acd6c050-0f27-4e41-8450-d8832c43a9c1",
   "metadata": {},
   "outputs": [
    {
     "name": "stdout",
     "output_type": "stream",
     "text": [
      "abc\n",
      "acb\n",
      "bac\n",
      "bca\n",
      "cab\n",
      "cba\n"
     ]
    }
   ],
   "source": [
    "from itertools import permutations\n",
    "\n",
    "def generate_permutations(string):\n",
    "    # Generate all permutations of the string\n",
    "    perms = permutations(string)\n",
    "\n",
    "    # Print each permutation\n",
    "    for perm in perms:\n",
    "        print(''.join(perm))\n",
    "\n",
    "# Test the function\n",
    "string = \"abc\"\n",
    "generate_permutations(string)\n"
   ]
  },
  {
   "cell_type": "code",
   "execution_count": null,
   "id": "f3daa828-1aa1-4a43-9393-099fd084017c",
   "metadata": {},
   "outputs": [],
   "source": []
  },
  {
   "cell_type": "markdown",
   "id": "15ee6596-9e98-4213-8d9d-415a1c9601ad",
   "metadata": {},
   "source": [
    "## 14. Implement a function to calculate the Fibonacci sequence up to a given number of terms.\n"
   ]
  },
  {
   "cell_type": "code",
   "execution_count": 1,
   "id": "11edc03c-b25a-4f6c-8f5b-4647bec23c6b",
   "metadata": {},
   "outputs": [],
   "source": [
    "# 0,1,1,2,3,5,8,13,21,34,55.......\n"
   ]
  },
  {
   "cell_type": "code",
   "execution_count": 24,
   "id": "77fc938e-ccde-4492-8e1a-f7371188b6e1",
   "metadata": {},
   "outputs": [],
   "source": [
    "def fibannoic(n):\n",
    "    a=0\n",
    "    b=1\n",
    "    count=0\n",
    "    if n==0:\n",
    "        return 0\n",
    "    elif n==1:\n",
    "        return 1\n",
    "    else:\n",
    "        while count<n:\n",
    "            sum =a+b\n",
    "            print(a,end=\" \")\n",
    "            a=b\n",
    "            b=sum\n",
    "            count=count+1\n",
    "         \n",
    "    "
   ]
  },
  {
   "cell_type": "code",
   "execution_count": 30,
   "id": "c76e022e-6919-436e-9814-f966e945435d",
   "metadata": {},
   "outputs": [
    {
     "name": "stdout",
     "output_type": "stream",
     "text": [
      "0 1 1 "
     ]
    }
   ],
   "source": [
    "fibannoic(3)"
   ]
  },
  {
   "cell_type": "markdown",
   "id": "ea753c2f-e73c-4e89-85c7-ed4a2234b566",
   "metadata": {},
   "source": [
    "## 15. Write a program to find the median of a list of numbers.\n"
   ]
  },
  {
   "cell_type": "code",
   "execution_count": 42,
   "id": "247697e7-c486-4d36-ab9e-da19d83d1221",
   "metadata": {},
   "outputs": [],
   "source": [
    "def find_median(lst):\n",
    "    lst.sort()\n",
    "    \n",
    "    n =len(lst)\n",
    "    \n",
    "    mid_index =n//2\n",
    "    \n",
    "    if n%2==0:\n",
    "        median =(lst[mid_index-1]+lst[mid_index])/2\n",
    "        \n",
    "    else:\n",
    "        median = lst[mid_index]\n",
    "    return median  \n",
    "\n",
    "        "
   ]
  },
  {
   "cell_type": "code",
   "execution_count": 46,
   "id": "41444bc2-0a41-4c2a-8d20-33de57cca6f9",
   "metadata": {},
   "outputs": [
    {
     "data": {
      "text/plain": [
       "4.5"
      ]
     },
     "execution_count": 46,
     "metadata": {},
     "output_type": "execute_result"
    }
   ],
   "source": [
    "lst=[1,9,7,6,3,4,5,3]\n",
    "find_median(lst)"
   ]
  },
  {
   "cell_type": "code",
   "execution_count": 47,
   "id": "0e1e27b7-9eaa-4ce0-b037-b59431d52c5f",
   "metadata": {},
   "outputs": [
    {
     "data": {
      "text/plain": [
       "4.5"
      ]
     },
     "execution_count": 47,
     "metadata": {},
     "output_type": "execute_result"
    }
   ],
   "source": [
    "import numpy as np\n",
    "np.median(lst)"
   ]
  },
  {
   "cell_type": "markdown",
   "id": "37930378-bd24-4ae1-a111-1ee56ed72d9b",
   "metadata": {},
   "source": [
    "## 16. Implement a function to check if a given list is sorted in non-decreasing order.\n"
   ]
  },
  {
   "cell_type": "code",
   "execution_count": 102,
   "id": "94b331bf-1142-4a6f-9fe6-13130a1883cb",
   "metadata": {},
   "outputs": [],
   "source": [
    "def sort_asced(lst):\n",
    "    n =len(lst)\n",
    "    for i in range(1,n):\n",
    "        if lst[i]<lst[i-1]:\n",
    "            return False\n",
    "    return True\n",
    "        \n",
    "    \n",
    "            "
   ]
  },
  {
   "cell_type": "code",
   "execution_count": 106,
   "id": "94229c45-3007-4839-865f-034bbb5ef2a2",
   "metadata": {},
   "outputs": [
    {
     "data": {
      "text/plain": [
       "False"
      ]
     },
     "execution_count": 106,
     "metadata": {},
     "output_type": "execute_result"
    }
   ],
   "source": [
    "list =[1,2,3,4,5,8,3]\n",
    "sort_asced(list)"
   ]
  },
  {
   "cell_type": "code",
   "execution_count": null,
   "id": "cb8765e8-8216-468b-b9a1-22c31232743f",
   "metadata": {},
   "outputs": [],
   "source": []
  },
  {
   "cell_type": "markdown",
   "id": "ceca943e-aab7-48d2-a14c-7e50d4cf820a",
   "metadata": {},
   "source": [
    "## 17. Write a Python program to find the intersection of two lists."
   ]
  },
  {
   "cell_type": "code",
   "execution_count": 56,
   "id": "28078ef0-6189-476b-bcac-2e90c4bc968b",
   "metadata": {},
   "outputs": [
    {
     "name": "stdout",
     "output_type": "stream",
     "text": [
      "Intersection: [4, 5]\n"
     ]
    }
   ],
   "source": [
    "list1 = [1, 2, 3, 4, 5]\n",
    "list2 = [4, 5, 6, 7, 8]\n",
    "\n",
    "intersection = set(list1).intersection(list2)\n",
    "\n",
    "print(\"Intersection:\", list(intersection))\n"
   ]
  },
  {
   "cell_type": "code",
   "execution_count": null,
   "id": "607c35fe-383f-4ec5-a3e2-9ac9266b8aa9",
   "metadata": {},
   "outputs": [],
   "source": []
  },
  {
   "cell_type": "markdown",
   "id": "b91bf0c6-d691-4036-a0f3-dc477c0732fa",
   "metadata": {
    "tags": []
   },
   "source": [
    "\n",
    "## 18. Implement a function to find the maximum subarray sum in a given list.\n"
   ]
  },
  {
   "cell_type": "code",
   "execution_count": null,
   "id": "ecceb546-b011-4315-a705-4e5fc0ef877f",
   "metadata": {},
   "outputs": [],
   "source": [
    "Input: nums = [-2,1,-3,4,-1,2,1,-5,4]\n",
    "Output: 6\n",
    " The subarray [4,-1,2,1] has the largest sum 6."
   ]
  },
  {
   "cell_type": "code",
   "execution_count": 3,
   "id": "34cbe944-4b54-4a73-b773-3d5f90102f22",
   "metadata": {},
   "outputs": [
    {
     "name": "stdout",
     "output_type": "stream",
     "text": [
      "6\n"
     ]
    }
   ],
   "source": [
    "nums =[-2,1,-3,4,-1,2,1,-5,4]\n",
    "maximum =max(nums)\n",
    "sum =0\n",
    "for i in nums:\n",
    "    sum+=i\n",
    "    if sum>maximum:\n",
    "        maximum=sum\n",
    "    if sum<0:\n",
    "        sum=0\n",
    "print(maximum)\n",
    "    "
   ]
  },
  {
   "cell_type": "markdown",
   "id": "391b05e0-00a9-4777-8273-f103dd571d49",
   "metadata": {},
   "source": [
    "## 19. Write a program to remove all vowels from a given string.\n"
   ]
  },
  {
   "cell_type": "code",
   "execution_count": 55,
   "id": "4631f4df-6f7e-4dbd-b86a-6b9b3c31a3b1",
   "metadata": {},
   "outputs": [
    {
     "name": "stdout",
     "output_type": "stream",
     "text": [
      "kshn chnd\n"
     ]
    }
   ],
   "source": [
    "a=\"Kishan Chand\"\n",
    "vowels=['a','e','i','o','u']\n",
    "b =a.lower()\n",
    "str=\"\"\n",
    "for i in b:\n",
    "    if i in vowels:\n",
    "        pass\n",
    "    else:\n",
    "        str=str+i\n",
    "print(str)\n",
    "    \n",
    "        \n",
    "        "
   ]
  },
  {
   "cell_type": "code",
   "execution_count": null,
   "id": "570ef183-a87b-4ddf-8bca-2a023ef225e4",
   "metadata": {},
   "outputs": [],
   "source": []
  },
  {
   "cell_type": "markdown",
   "id": "87d259b4-e530-4973-a01d-0e5f789d03c6",
   "metadata": {},
   "source": [
    "## 20. Implement a function to reverse the order of words in a given sentence.\n"
   ]
  },
  {
   "cell_type": "code",
   "execution_count": null,
   "id": "9ea77989-4907-4360-8940-18731ddef039",
   "metadata": {},
   "outputs": [],
   "source": []
  },
  {
   "cell_type": "code",
   "execution_count": 81,
   "id": "c727f64a-63b2-4327-bee0-49490206423a",
   "metadata": {},
   "outputs": [
    {
     "name": "stdout",
     "output_type": "stream",
     "text": [
      "['Hello,', 'how', 'are', 'you?']\n",
      "you? are how Hello,\n"
     ]
    }
   ],
   "source": [
    "def reverse_sentence(sentence):\n",
    "    words = sentence.split()\n",
    "    print(words)\n",
    "    reversed_words = words[::-1]\n",
    "    reversed_sentence = ' '.join(reversed_words)\n",
    "    return reversed_sentence\n",
    "\n",
    "sentence = \"Hello, how are you?\"\n",
    "reversed_sentence = reverse_sentence(sentence)\n",
    "print(reversed_sentence)\n"
   ]
  },
  {
   "cell_type": "code",
   "execution_count": null,
   "id": "e55395d0-db56-466c-b8b2-a9faea61c9c9",
   "metadata": {},
   "outputs": [],
   "source": []
  },
  {
   "cell_type": "markdown",
   "id": "727ede27-7b4e-40ad-8b54-0030534f919c",
   "metadata": {},
   "source": [
    "## 21. Write a Python program to check if two strings are anagrams of each other.\n"
   ]
  },
  {
   "cell_type": "code",
   "execution_count": 4,
   "id": "da19d596-1086-48a6-8e71-8e83f3c047e8",
   "metadata": {},
   "outputs": [
    {
     "name": "stdout",
     "output_type": "stream",
     "text": [
      "False\n"
     ]
    }
   ],
   "source": [
    "def is_anagram(str1, str2):\n",
    "    \n",
    "    str1 = str1.lower().replace(\" \", \"\")\n",
    "    str2 = str2.lower().replace(\" \", \"\")\n",
    "    \n",
    "    \n",
    "    if len(str1) != len(str2):\n",
    "        return False\n",
    "    \n",
    "    \n",
    "    list1 = list(str1)\n",
    "    list2 = list(str2)\n",
    "    \n",
    "    \n",
    "    list1.sort()\n",
    "    list2.sort()\n",
    "    \n",
    "    \n",
    "    if list1 == list2:\n",
    "        return True\n",
    "    else:\n",
    "        return False\n",
    "\n",
    "string3 = \"hello\"\n",
    "string4 = \"world\"\n",
    "print(is_anagram(string3, string4))  \n"
   ]
  },
  {
   "cell_type": "code",
   "execution_count": null,
   "id": "fa57c1b0-9ec5-4a71-b9c5-6502e97abfbf",
   "metadata": {},
   "outputs": [],
   "source": []
  },
  {
   "cell_type": "markdown",
   "id": "e81ecc14-7c2f-4723-9bc1-00d020bde6ff",
   "metadata": {},
   "source": [
    "## 22. Implement a function to find the first non-repeating character in a string.\n"
   ]
  },
  {
   "cell_type": "code",
   "execution_count": 38,
   "id": "494a1331-5459-47ef-8f42-a8308957d9da",
   "metadata": {},
   "outputs": [],
   "source": [
    "def nonrepeatchar(string):\n",
    "    chara={}\n",
    "    for i in string:\n",
    "        if i in chara:\n",
    "            chara[i]+=1\n",
    "        else:\n",
    "            chara[i]=1\n",
    "    print(chara)\n",
    "    for i in string:\n",
    "        if chara[i]==1:\n",
    "            return i\n",
    "    return chara\n",
    "    "
   ]
  },
  {
   "cell_type": "code",
   "execution_count": 40,
   "id": "8f35d8a0-78c8-4dcb-b76f-5570b19157b0",
   "metadata": {},
   "outputs": [
    {
     "name": "stdout",
     "output_type": "stream",
     "text": [
      "{'K': 2, 'i': 1, 's': 1, 'h': 4, 'a': 4, 'n': 3, ' ': 4, 'C': 2, 'd': 2, 'e': 1, 't': 1, 'G': 1, 'o': 1, 'u': 1}\n"
     ]
    },
    {
     "data": {
      "text/plain": [
       "'i'"
      ]
     },
     "execution_count": 40,
     "metadata": {},
     "output_type": "execute_result"
    }
   ],
   "source": [
    "string =\"Kishan Chand Chethan Gouda K\"\n",
    "#string =\"1bcde 1bcde\"\n",
    "nonrepeatchar(string)\n"
   ]
  },
  {
   "cell_type": "markdown",
   "id": "244d8a09-4533-4a22-b617-2d54a2eeb2f5",
   "metadata": {},
   "source": [
    "## 23. Write a program to find the prime factors of a given number.\n",
    "\n"
   ]
  },
  {
   "cell_type": "code",
   "execution_count": 55,
   "id": "17ce1db4-32f5-41e6-a9dc-008caa78f6a8",
   "metadata": {},
   "outputs": [],
   "source": [
    "def prime_factors(n):\n",
    "    factors=[]\n",
    "    divisor=2\n",
    "    \n",
    "    while divisor<=n:\n",
    "        if n%divisor==0:\n",
    "            factors.append(divisor)\n",
    "            n//=divisor\n",
    "        else:\n",
    "            divisor+=1\n",
    "            \n",
    "    return factors\n",
    "            "
   ]
  },
  {
   "cell_type": "code",
   "execution_count": 56,
   "id": "9f7e373a-ae4d-4c1e-8956-e26fcbc0b6bc",
   "metadata": {},
   "outputs": [
    {
     "name": "stdout",
     "output_type": "stream",
     "text": [
      "Prime factors of 81 are: [3, 3, 3, 3]\n"
     ]
    }
   ],
   "source": [
    "# Example usage\n",
    "number = 81\n",
    "prime_factors = prime_factors(number)\n",
    "print(\"Prime factors of\", number, \"are:\", prime_factors)\n"
   ]
  },
  {
   "cell_type": "code",
   "execution_count": 13,
   "id": "71c6c8f9-7ff9-42b6-8d7b-3a6f55ffaaa9",
   "metadata": {},
   "outputs": [
    {
     "name": "stdout",
     "output_type": "stream",
     "text": [
      "[1, 2, 4, 7, 8, 14, 28]\n"
     ]
    },
    {
     "data": {
      "text/plain": [
       "{1: 1, 2: 1, 4: 1, 7: 1, 8: 1, 14: 1, 28: 1}"
      ]
     },
     "execution_count": 13,
     "metadata": {},
     "output_type": "execute_result"
    }
   ],
   "source": [
    "## Factors of a Number\n",
    "\n",
    "a=56\n",
    "factors=[]\n",
    "count={}\n",
    "for i in range(1,a//2+1):\n",
    "    if a%i==0:\n",
    "        factors.append(i)\n",
    "        if i in count:\n",
    "            count[i]+=1\n",
    "        else:\n",
    "            \n",
    "            count[i]=1\n",
    "print(factors)\n",
    "count"
   ]
  },
  {
   "cell_type": "markdown",
   "id": "738d2ffe-f437-4dc0-b87f-3630a92a8d00",
   "metadata": {},
   "source": [
    "## 24. Implement a function to check if a given number is a power of two.\n"
   ]
  },
  {
   "cell_type": "code",
   "execution_count": 7,
   "id": "4a919320-5ab8-42fb-a993-c73da6fb2dbd",
   "metadata": {},
   "outputs": [],
   "source": [
    "\n",
    "import math\n",
    "\n",
    "# Function to check\n",
    "# Log base 2\n",
    "\n",
    "\n",
    "def Log2(x):\n",
    "\tif x == 0:\n",
    "\t\treturn false\n",
    "\n",
    "\treturn (math.log10(x) /\n",
    "\t\t\tmath.log10(2))\n",
    "\n",
    "\n",
    "def isPowerOfTwo(n):\n",
    "\treturn (math.ceil(Log2(n)) ==\n",
    "\t\t\tmath.floor(Log2(n)))\n",
    "\n",
    "\n",
    "'''\n",
    "Example 1: Ceiling Value\n",
    "- Ceiling value of 5.3 is 6 because it rounds up to the nearest integer greater than or equal to 5.3.\n",
    "- Ceiling value of -2.8 is -2 because it rounds up to the nearest integer greater than or equal to -2.8.\n",
    "- Ceiling value of 10 is 10 because it is already an integer.\n",
    "\n",
    "Example 2: Floor Value\n",
    "- Floor value of 5.3 is 5 because it rounds down to the nearest integer less than or equal to 5.3.\n",
    "- Floor value of -2.8 is -3 because it rounds down to the nearest integer less than or equal to -2.8.\n",
    "- Floor value of 10 is 10 because it is already an integer.\n",
    "\n",
    "Example 3: Combined Use\n",
    "- Ceiling value of 3.7 + Floor value of 2.1 is 4 + 2 = 6.\n",
    "- Ceiling value of 9.5 + Floor value of 7.2 is 10 + 7 = 17.\n",
    "\n",
    "These examples demonstrate how the ceiling and floor functions are used to round numbers based on their fractional parts, either rounding up or down to the nearest integer.\n",
    "'''\n"
   ]
  },
  {
   "cell_type": "code",
   "execution_count": 8,
   "id": "b610b7ca-301e-4453-a2fa-e34daad44a35",
   "metadata": {},
   "outputs": [
    {
     "data": {
      "text/plain": [
       "False"
      ]
     },
     "execution_count": 8,
     "metadata": {},
     "output_type": "execute_result"
    }
   ],
   "source": [
    "isPowerOfTwo(25)"
   ]
  },
  {
   "cell_type": "code",
   "execution_count": 9,
   "id": "a1c08bb3-aaa9-4a24-bdb4-1046263ef446",
   "metadata": {},
   "outputs": [
    {
     "data": {
      "text/plain": [
       "True"
      ]
     },
     "execution_count": 9,
     "metadata": {},
     "output_type": "execute_result"
    }
   ],
   "source": [
    "isPowerOfTwo(32)"
   ]
  },
  {
   "cell_type": "code",
   "execution_count": null,
   "id": "f749991c-4353-47dd-a3bf-fbfff398b235",
   "metadata": {},
   "outputs": [],
   "source": []
  },
  {
   "cell_type": "markdown",
   "id": "90c35c85-c011-4649-99d6-3f3ff468a088",
   "metadata": {},
   "source": [
    "\n",
    "## 25. Write a Python program to merge two sorted lists into a single sorted list.\n"
   ]
  },
  {
   "cell_type": "code",
   "execution_count": 105,
   "id": "5a6db83f-52f2-4857-ae29-3dab44737bf5",
   "metadata": {},
   "outputs": [
    {
     "name": "stdout",
     "output_type": "stream",
     "text": [
      "[1, 2, 9, 7, 1, 2, 9, 3, 5, 1]\n"
     ]
    }
   ],
   "source": [
    "\n",
    "a=[1,2,9,7,1]\n",
    "b=[2,9,3,5,1]\n",
    "\n",
    "\n",
    "c=a+b\n",
    "print(c)\n"
   ]
  },
  {
   "cell_type": "code",
   "execution_count": 102,
   "id": "92ee6137-a112-46b9-b223-c7f3df85fc6c",
   "metadata": {},
   "outputs": [],
   "source": [
    "a=[1,2,9,7,1]\n",
    "b=[2,9,3,5,1]\n",
    "c=[]\n",
    "a.sort()\n",
    "b.sort()\n",
    "a.extend(b)\n",
    "a.sort()\n"
   ]
  },
  {
   "cell_type": "code",
   "execution_count": 104,
   "id": "c07d9a42-75d1-4318-9352-55c5131f3ac3",
   "metadata": {},
   "outputs": [
    {
     "data": {
      "text/plain": [
       "[1, 1, 1, 2, 2, 3, 5, 7, 9, 9]"
      ]
     },
     "execution_count": 104,
     "metadata": {},
     "output_type": "execute_result"
    }
   ],
   "source": [
    "a"
   ]
  },
  {
   "cell_type": "markdown",
   "id": "90b09236-3945-431f-aa30-298395ebf0a0",
   "metadata": {},
   "source": [
    "## 26. Implement a function to find the mode of a list of numbers.\n"
   ]
  },
  {
   "cell_type": "code",
   "execution_count": 107,
   "id": "7c0054b4-68e3-4255-994a-7b36ef208d1f",
   "metadata": {},
   "outputs": [
    {
     "data": {
      "text/plain": [
       "5"
      ]
     },
     "execution_count": 107,
     "metadata": {},
     "output_type": "execute_result"
    }
   ],
   "source": [
    "import statistics\n",
    "a=[1,2,3,4,5,6,7,1,2,3,4,5,5,5,5,5]\n",
    "mde = statistics.mode(a)\n",
    "mde"
   ]
  },
  {
   "cell_type": "markdown",
   "id": "491173e1-d96a-4504-af49-c216e24caa21",
   "metadata": {},
   "source": [
    "## 27. Write a program to find the greatest common divisor (GCD) of two numbers.\n"
   ]
  },
  {
   "cell_type": "code",
   "execution_count": 15,
   "id": "52bde4ce-9f15-4769-a3c7-0af385b99c93",
   "metadata": {},
   "outputs": [],
   "source": [
    "def gcd(a, b):\n",
    "    while b != 0:\n",
    "        a, b = b, a % b\n",
    "    return a\n"
   ]
  },
  {
   "cell_type": "code",
   "execution_count": 16,
   "id": "d9b6ae85-6272-4e4a-8fe6-7374053b1837",
   "metadata": {},
   "outputs": [
    {
     "name": "stdout",
     "output_type": "stream",
     "text": [
      "12\n",
      "1\n"
     ]
    }
   ],
   "source": [
    "num1 = 24\n",
    "num2 = 36\n",
    "print(gcd(num1, num2))  # Output: 12\n",
    "\n",
    "num3 = 15\n",
    "num4 = 28\n",
    "print(gcd(num3, num4))  # Output: 1\n"
   ]
  },
  {
   "cell_type": "code",
   "execution_count": null,
   "id": "ccc7f282-a39f-4f22-8ce9-0d493da7383b",
   "metadata": {},
   "outputs": [],
   "source": []
  },
  {
   "cell_type": "code",
   "execution_count": null,
   "id": "f127af1d-7589-4d27-be48-a12e3028ac42",
   "metadata": {},
   "outputs": [],
   "source": []
  },
  {
   "cell_type": "markdown",
   "id": "f29947c5-915b-49e3-95a5-3fce9ab07818",
   "metadata": {},
   "source": [
    "## 28. Implement a function to calculate the square root of a given number.\n"
   ]
  },
  {
   "cell_type": "code",
   "execution_count": 17,
   "id": "7170df87-463d-4ef8-9f0f-cdf18d029d62",
   "metadata": {},
   "outputs": [],
   "source": [
    "def square_root(num):\n",
    "    if num < 0:\n",
    "        raise ValueError(\"Square root is not defined for negative numbers.\")\n",
    "    if num == 0:\n",
    "        return 0\n",
    "    \n",
    "    # Initial guess for the square root\n",
    "    guess = num / 2\n",
    "    \n",
    "    # Update the guess using the Babylonian method\n",
    "    while True:\n",
    "        new_guess = (guess + num / guess) / 2\n",
    "        if abs(new_guess - guess) < 1e-9:\n",
    "            return new_guess\n",
    "        guess = new_guess\n"
   ]
  },
  {
   "cell_type": "code",
   "execution_count": 18,
   "id": "fee332ab-ed4e-41f6-a28b-025d85e7e278",
   "metadata": {},
   "outputs": [
    {
     "name": "stdout",
     "output_type": "stream",
     "text": [
      "3.0\n",
      "1.414213562373095\n"
     ]
    }
   ],
   "source": [
    "num1 = 9\n",
    "print(square_root(num1))  # Output: 3.0\n",
    "\n",
    "num2 = 2\n",
    "print(square_root(num2))  # Output: 1.4142135623730951\n"
   ]
  },
  {
   "cell_type": "code",
   "execution_count": null,
   "id": "c932eaf6-8082-488c-a28a-f6e03673e9c9",
   "metadata": {},
   "outputs": [],
   "source": []
  },
  {
   "cell_type": "code",
   "execution_count": null,
   "id": "52475477-04a9-4b40-ae77-9e12b8ad6806",
   "metadata": {},
   "outputs": [],
   "source": []
  },
  {
   "cell_type": "markdown",
   "id": "50eed4f2-cd60-4870-b0eb-5c933b9cd04e",
   "metadata": {},
   "source": [
    "## 29. Write a Python program to check if a given string is a valid palindrome ignoring non-alphanumeric characters.\n"
   ]
  },
  {
   "cell_type": "code",
   "execution_count": 12,
   "id": "e2d9e83d-b7b8-4e3a-8004-14fea783481d",
   "metadata": {},
   "outputs": [],
   "source": [
    "import re\n",
    "\n",
    "def is_valid_palindrome(s):\n",
    "    # Remove non-alphanumeric characters from the string\n",
    "    s = re.sub(r'[^a-zA-Z0-9]', '', s)\n",
    "    \n",
    "    # Convert the string to lowercase for case-insensitive comparison\n",
    "    s = s.lower()\n",
    "    \n",
    "    # Check if the string is a palindrome\n",
    "    return s == s[::-1]\n"
   ]
  },
  {
   "cell_type": "code",
   "execution_count": 13,
   "id": "3e087356-b6c8-44a6-99d7-609ba6bfe5da",
   "metadata": {},
   "outputs": [
    {
     "name": "stdout",
     "output_type": "stream",
     "text": [
      "True\n",
      "False\n"
     ]
    }
   ],
   "source": [
    "string1 = \"A man, a plan, a canal: Panama\"\n",
    "print(is_valid_palindrome(string1))  # Output: True\n",
    "\n",
    "string2 = \"race a car\"\n",
    "print(is_valid_palindrome(string2))  # Output: False\n"
   ]
  },
  {
   "cell_type": "code",
   "execution_count": null,
   "id": "0e10c4e9-8410-4abe-8047-ea9147da6bd5",
   "metadata": {},
   "outputs": [],
   "source": []
  },
  {
   "cell_type": "code",
   "execution_count": null,
   "id": "c3abd914-901d-40ef-8437-0549ba1191cf",
   "metadata": {},
   "outputs": [],
   "source": []
  },
  {
   "cell_type": "markdown",
   "id": "f8943b17-18f9-41bf-9745-3bdd282afa1b",
   "metadata": {},
   "source": [
    "## 30. Implement a function to find the minimum element in a rotated sorted list.\n",
    "\n"
   ]
  },
  {
   "cell_type": "code",
   "execution_count": 10,
   "id": "4afb976b-7fe1-4af9-a395-005106b29090",
   "metadata": {},
   "outputs": [],
   "source": [
    "def find_min(nums):\n",
    "    left = 0\n",
    "    right = len(nums) - 1\n",
    "    \n",
    "    if nums[left] <= nums[right]:\n",
    "        return nums[left]\n",
    "    \n",
    "    \n",
    "    while left < right:\n",
    "        mid = (left + right) // 2\n",
    "        \n",
    "        \n",
    "        if nums[mid] > nums[right]:\n",
    "            left = mid + 1\n",
    "        \n",
    "        else:\n",
    "            right = mid\n",
    "    \n",
    "    \n",
    "    return nums[left]\n"
   ]
  },
  {
   "cell_type": "code",
   "execution_count": 11,
   "id": "9205b83f-7346-4550-9037-3b74e77bc7a9",
   "metadata": {},
   "outputs": [
    {
     "name": "stdout",
     "output_type": "stream",
     "text": [
      "Minimum element: 0\n"
     ]
    }
   ],
   "source": [
    "nums = [4, 5, 6, 7, 0, 1, 2]\n",
    "min_element = find_min(nums)\n",
    "print(\"Minimum element:\", min_element)\n"
   ]
  },
  {
   "cell_type": "code",
   "execution_count": null,
   "id": "7318d1b8-938d-40a4-873e-0e2de64e0034",
   "metadata": {},
   "outputs": [],
   "source": []
  },
  {
   "cell_type": "markdown",
   "id": "40c6e179-cdc3-4974-9daa-3900dd6c74a0",
   "metadata": {},
   "source": [
    "## 31. Write a program to find the sum of all even numbers in a list.\n"
   ]
  },
  {
   "cell_type": "code",
   "execution_count": 5,
   "id": "03724476-8486-42fa-a031-025555c62121",
   "metadata": {},
   "outputs": [
    {
     "name": "stdout",
     "output_type": "stream",
     "text": [
      "50\n"
     ]
    }
   ],
   "source": [
    "lst =[1,2,3,4,5,6,7,8,9,10,20]\n",
    "sum=0\n",
    "for i in lst:\n",
    "    if i%2==0:\n",
    "        sum =sum+i\n",
    "print(sum)"
   ]
  },
  {
   "cell_type": "code",
   "execution_count": null,
   "id": "6981a5a2-3339-431a-addc-7c21c8ff37a7",
   "metadata": {},
   "outputs": [],
   "source": []
  },
  {
   "cell_type": "code",
   "execution_count": null,
   "id": "cafd0a3b-bbb0-4207-a8ef-7195fe98b74d",
   "metadata": {},
   "outputs": [],
   "source": []
  },
  {
   "cell_type": "markdown",
   "id": "ca48e785-a743-4126-9e1d-f44c85201cdf",
   "metadata": {},
   "source": [
    "## 32. Implement a function to calculate the power of a number using recursion.\n"
   ]
  },
  {
   "cell_type": "code",
   "execution_count": null,
   "id": "e2c4cd71-a548-4683-8808-762bd799e131",
   "metadata": {},
   "outputs": [],
   "source": []
  },
  {
   "cell_type": "code",
   "execution_count": 1,
   "id": "5c7e9f45-073d-41f4-a90d-618b4b498a5a",
   "metadata": {},
   "outputs": [],
   "source": [
    "def power(base, exponent):\n",
    "    # Base case: when exponent is 0, return 1\n",
    "    if exponent == 0:\n",
    "        return 1\n",
    "    \n",
    "    # Recursive case: multiply base with power(base, exponent - 1)\n",
    "    else:\n",
    "        return base * power(base, exponent - 1)\n"
   ]
  },
  {
   "cell_type": "code",
   "execution_count": 2,
   "id": "eecf76ad-e375-47a3-b3be-4d9f874c1f5f",
   "metadata": {},
   "outputs": [
    {
     "data": {
      "text/plain": [
       "32"
      ]
     },
     "execution_count": 2,
     "metadata": {},
     "output_type": "execute_result"
    }
   ],
   "source": [
    "base=2\n",
    "exponent=5\n",
    "power(base,exponent)"
   ]
  },
  {
   "cell_type": "code",
   "execution_count": 7,
   "id": "996fb15a-d882-407d-b42e-5319a14e70a2",
   "metadata": {},
   "outputs": [],
   "source": [
    "'''def power_of_num(number,power):\n",
    "    n=power\n",
    "    count=0\n",
    "    if count==1:\n",
    "        return number*n\n",
    "    else:\n",
    "        while count<n:\n",
    "            val =number*power_of_num(number,power)\n",
    "            count+=1\n",
    "            \n",
    "            \n",
    "    return val'''"
   ]
  },
  {
   "cell_type": "code",
   "execution_count": null,
   "id": "01bf8cd2-050b-4211-9878-caa2c163c761",
   "metadata": {},
   "outputs": [],
   "source": []
  },
  {
   "cell_type": "code",
   "execution_count": null,
   "id": "09cc7b11-c0f3-4c81-a455-b7c27ff29ab8",
   "metadata": {},
   "outputs": [],
   "source": []
  },
  {
   "cell_type": "markdown",
   "id": "42f63047-20e2-4761-a7cc-44ebfbdbaa4a",
   "metadata": {},
   "source": [
    "## 33. Write a Python program to remove duplicates from a list while preserving the order.\n"
   ]
  },
  {
   "cell_type": "code",
   "execution_count": 21,
   "id": "f4febb7f-c352-443d-8e00-bb7bcc4780f7",
   "metadata": {},
   "outputs": [
    {
     "name": "stdout",
     "output_type": "stream",
     "text": [
      "Original list: [1, 2, 3, 3, 4, 2, 5, 6, 5]\n",
      "List after removing duplicates: [1, 2, 3, 4, 5, 6]\n"
     ]
    }
   ],
   "source": [
    "def remove_duplicates(lst):\n",
    "    unique_list = []\n",
    "    for item in lst:\n",
    "        if item not in unique_list:\n",
    "            unique_list.append(item)\n",
    "    return unique_list\n",
    "\n",
    "# Example usage\n",
    "original_list = [1, 2, 3, 3, 4, 2, 5, 6, 5]\n",
    "new_list = remove_duplicates(original_list)\n",
    "print(\"Original list:\", original_list)\n",
    "print(\"List after removing duplicates:\", new_list)\n"
   ]
  },
  {
   "cell_type": "code",
   "execution_count": null,
   "id": "32bfa87d-8e06-4e80-8bdd-a4d81124dee0",
   "metadata": {},
   "outputs": [],
   "source": []
  },
  {
   "cell_type": "markdown",
   "id": "7344625e-807a-4100-a500-05096f7c5c86",
   "metadata": {},
   "source": [
    "## 34. Implement a function to find the longest common prefix among a list of strings.\n"
   ]
  },
  {
   "cell_type": "code",
   "execution_count": 2,
   "id": "a2b99aa0-750e-4a48-a716-548d192bd001",
   "metadata": {},
   "outputs": [
    {
     "name": "stdout",
     "output_type": "stream",
     "text": [
      "Longest common prefix: fl\n"
     ]
    }
   ],
   "source": [
    "def longest_common_prefix(strs):\n",
    "    if not strs:\n",
    "        return \"\"  # Return an empty string if the list is empty\n",
    "\n",
    "    prefix = strs[0]  # Assume the first string as the initial prefix\n",
    "\n",
    "    for i in range(1, len(strs)):\n",
    "        while strs[i].find(prefix) != 0:\n",
    "            prefix = prefix[:-1]  # Remove the last character from the prefix\n",
    "\n",
    "            if not prefix:\n",
    "                return \"\"  # Return an empty string if no common prefix is found\n",
    "\n",
    "    return prefix\n",
    "\n",
    "# Example usage\n",
    "strings = [\"flower\", \"flow\", \"flight\"]\n",
    "common_prefix = longest_common_prefix(strings)\n",
    "print(\"Longest common prefix:\", common_prefix)\n"
   ]
  },
  {
   "cell_type": "code",
   "execution_count": null,
   "id": "75b66013-6061-4c9c-9e7c-b64a0ec9ac2d",
   "metadata": {},
   "outputs": [],
   "source": []
  },
  {
   "cell_type": "code",
   "execution_count": null,
   "id": "ce794d40-efef-4a91-a52a-60e0aff63e12",
   "metadata": {},
   "outputs": [],
   "source": []
  },
  {
   "cell_type": "markdown",
   "id": "694d78eb-c67e-42ce-bb64-f5c0644f89b9",
   "metadata": {},
   "source": [
    "## 35. Write a program to check if a given number is a perfect square.\n"
   ]
  },
  {
   "cell_type": "code",
   "execution_count": null,
   "id": "6e5cc440-9d65-4ec4-bbbd-588e52e00e1a",
   "metadata": {},
   "outputs": [],
   "source": []
  },
  {
   "cell_type": "code",
   "execution_count": 11,
   "id": "5de3df62-ccfc-4902-a47b-5e9a6beeff2c",
   "metadata": {},
   "outputs": [],
   "source": [
    "import math\n",
    "def is_perfect_square(num):\n",
    "    sqr_root_value =math.sqrt(num)\n",
    "    if sqr_root_value==int(sqr_root_value):\n",
    "        return \"It's a Perfect Square\"\n",
    "    else:\n",
    "        return \"not a perfect square\"\n",
    "    "
   ]
  },
  {
   "cell_type": "code",
   "execution_count": 14,
   "id": "b6273cee-acef-4162-92c9-5e4901d31d42",
   "metadata": {},
   "outputs": [
    {
     "data": {
      "text/plain": [
       "\"It's a Perfect Square\""
      ]
     },
     "execution_count": 14,
     "metadata": {},
     "output_type": "execute_result"
    }
   ],
   "source": [
    "num=121\n",
    "is_perfect_square(num)"
   ]
  },
  {
   "cell_type": "markdown",
   "id": "edae3c0f-017c-47e7-b246-652e578a5282",
   "metadata": {},
   "source": [
    "## 36. Implement a function to calculate the product of all elements in a list.\n"
   ]
  },
  {
   "cell_type": "code",
   "execution_count": 2,
   "id": "fcd54698-a16f-4145-aa4d-c9bb146614b2",
   "metadata": {},
   "outputs": [],
   "source": [
    "def product(nums):\n",
    "    prod=1\n",
    "    for i in nums:\n",
    "        prod =i*prod\n",
    "    return prod"
   ]
  },
  {
   "cell_type": "code",
   "execution_count": 4,
   "id": "825be54d-ca6c-4c53-8ac6-d09ac745edf9",
   "metadata": {},
   "outputs": [
    {
     "data": {
      "text/plain": [
       "1200"
      ]
     },
     "execution_count": 4,
     "metadata": {},
     "output_type": "execute_result"
    }
   ],
   "source": [
    "nums=[1,2,3,4,5,10]\n",
    "product(nums)"
   ]
  },
  {
   "cell_type": "code",
   "execution_count": null,
   "id": "ca6a9ca6-ccf8-4923-9163-b7f8a4cec60c",
   "metadata": {},
   "outputs": [],
   "source": []
  },
  {
   "cell_type": "code",
   "execution_count": null,
   "id": "54457f2b-4419-4958-9062-acd095e95032",
   "metadata": {},
   "outputs": [],
   "source": []
  },
  {
   "cell_type": "markdown",
   "id": "ba02bab2-9bcf-42cd-8901-ee7f72cca8ea",
   "metadata": {},
   "source": [
    "## 37. Write a Python program to reverse the order of words in a sentence while preserving the word order.\n"
   ]
  },
  {
   "cell_type": "code",
   "execution_count": 187,
   "id": "65825016-c9ee-4cd9-8f81-af546198191c",
   "metadata": {},
   "outputs": [
    {
     "name": "stdout",
     "output_type": "stream",
     "text": [
      "you? are how Hello,\n"
     ]
    }
   ],
   "source": [
    "def reverse_sentence(sentence):\n",
    "    # Split the sentence into words\n",
    "    words = sentence.split()\n",
    "\n",
    "    \n",
    "    reversed_words = words[::-1]\n",
    "\n",
    "    # Join the reversed words back into a sentence\n",
    "    reversed_sentence = ' '.join(reversed_words)\n",
    "\n",
    "    return reversed_sentence\n",
    "\n",
    "# Test the function\n",
    "sentence = \"Hello, how are you?\"\n",
    "reversed_sentence = reverse_sentence(sentence)\n",
    "print(reversed_sentence)\n"
   ]
  },
  {
   "cell_type": "code",
   "execution_count": null,
   "id": "91aed5d3-20fe-4444-a005-cfb078d12f9a",
   "metadata": {},
   "outputs": [],
   "source": []
  },
  {
   "cell_type": "markdown",
   "id": "edf15b18-53ed-484e-a681-6d8091e76458",
   "metadata": {},
   "source": [
    "## 38. Implement a function to find the missing number in a given list of consecutive numbers.\n"
   ]
  },
  {
   "cell_type": "code",
   "execution_count": 1,
   "id": "5535ca6e-c91f-42a2-aa7c-d1a6c8c41606",
   "metadata": {},
   "outputs": [
    {
     "name": "stdout",
     "output_type": "stream",
     "text": [
      "Missing number: 4\n"
     ]
    }
   ],
   "source": [
    "def find_missing_number(nums):\n",
    "    n = len(nums) + 1\n",
    "    total_sum = (n * (n + 1)) // 2\n",
    "    actual_sum = sum(nums)\n",
    "    missing_number = total_sum - actual_sum\n",
    "    return missing_number\n",
    "\n",
    "# Example usage\n",
    "numbers = [1, 2, 3, 5, 6, 7, 8, 9]\n",
    "missing_number = find_missing_number(numbers)\n",
    "print(\"Missing number:\", missing_number)\n"
   ]
  },
  {
   "cell_type": "code",
   "execution_count": 54,
   "id": "fecb9b52-cf41-4dbc-a91b-68cb55c2cbf8",
   "metadata": {},
   "outputs": [
    {
     "name": "stdout",
     "output_type": "stream",
     "text": [
      "Is Valid Palindrome: False\n"
     ]
    }
   ],
   "source": []
  },
  {
   "cell_type": "raw",
   "id": "b725548d-e310-4ea7-ab57-666d26b3c3d4",
   "metadata": {},
   "source": [
    "'''consecutive_num =[1,2,3,5,6,7]\n",
    "n =len(consecutive_num)\n",
    "maximum =max(consecutive_num)\n",
    "minimum =min(consecutive_num)\n",
    "for i in range(n):\n",
    "    if '''"
   ]
  },
  {
   "cell_type": "code",
   "execution_count": null,
   "id": "7473e6f9-1834-4aed-91a1-f25214213bfd",
   "metadata": {},
   "outputs": [],
   "source": []
  },
  {
   "cell_type": "markdown",
   "id": "32866642-313a-43b7-b00e-799f03ee4c5f",
   "metadata": {},
   "source": [
    "## 39. Write a program to find the sum of digits of a given number.\n"
   ]
  },
  {
   "cell_type": "code",
   "execution_count": 44,
   "id": "17fd7dac-f451-45a2-8067-a5f6387cf683",
   "metadata": {},
   "outputs": [
    {
     "data": {
      "text/plain": [
       "14"
      ]
     },
     "execution_count": 44,
     "metadata": {},
     "output_type": "execute_result"
    }
   ],
   "source": [
    "n=14351\n",
    "sum=0\n",
    "if n<0:\n",
    "    print(\"Enter a positive number\")\n",
    "else:\n",
    "    while n>0:\n",
    "        val =n%10\n",
    "        sum =sum+val\n",
    "        n=n//10\n",
    "sum"
   ]
  },
  {
   "cell_type": "code",
   "execution_count": null,
   "id": "5f29fe15-25bd-4736-b343-3323f237aa22",
   "metadata": {},
   "outputs": [],
   "source": []
  },
  {
   "cell_type": "markdown",
   "id": "3087caea-6b92-4f85-942f-0e3a9ff9e67b",
   "metadata": {},
   "source": [
    "## 40. Implement a function to check if a given string is a valid palindrome considering case sensitivity.\n"
   ]
  },
  {
   "cell_type": "code",
   "execution_count": 56,
   "id": "bd39c51b-5941-4b48-8832-b031c88588f6",
   "metadata": {},
   "outputs": [
    {
     "name": "stdout",
     "output_type": "stream",
     "text": [
      "Is Valid Palindrome: False\n"
     ]
    }
   ],
   "source": [
    "def is_valid_palindrome(s):\n",
    "    left = 0\n",
    "    right = len(s) - 1\n",
    "\n",
    "    while left < right:\n",
    "        # Ignore non-alphanumeric characters\n",
    "        while left < right and not s[left].isalnum():\n",
    "            left += 1\n",
    "        while left < right and not s[right].isalnum():\n",
    "            right -= 1\n",
    "\n",
    "        # Compare characters\n",
    "        if s[left] != s[right]:\n",
    "            return False\n",
    "\n",
    "        left += 1\n",
    "        right -= 1\n",
    "\n",
    "    return True\n",
    "\n",
    "# Example usage\n",
    "string = \"A man, a plan, a canal: Panama\"\n",
    "valid_palindrome = is_valid_palindrome(string)\n",
    "print(\"Is Valid Palindrome:\", valid_palindrome)\n"
   ]
  },
  {
   "cell_type": "code",
   "execution_count": null,
   "id": "536dfee2-2d62-4e95-a3b7-6ac633c2f172",
   "metadata": {},
   "outputs": [],
   "source": []
  },
  {
   "cell_type": "markdown",
   "id": "d90ac5da-065f-427d-96f5-dbcefdc2e7f4",
   "metadata": {},
   "source": [
    "## 41. Write a Python program to find the smallest missing positive integer in a list.\n"
   ]
  },
  {
   "cell_type": "code",
   "execution_count": 37,
   "id": "de9524a8-6603-45b2-9e93-9db5e6847d11",
   "metadata": {},
   "outputs": [],
   "source": [
    "# Python3 Program to find the smallest\n",
    "# positive missing number\n",
    "\n",
    "\n",
    "def solution(A): # Our original array\n",
    "\n",
    "\tm = max(A) # Storing maximum value\n",
    "\tif m < 1:\n",
    "\n",
    "\t\t# In case all values in our array are negative\n",
    "\t\treturn 1\n",
    "\tif len(A) == 1:\n",
    "\n",
    "\t\t# If it contains only one element\n",
    "\t\treturn 2 if A[0] == 1 else 1\n",
    "\tl = [0] * m\n",
    "\tfor i in range(len(A)):\n",
    "\t\tif A[i] > 0:\n",
    "\t\t\tif l[A[i] - 1] != 1:\n",
    "\n",
    "\t\t\t\t# Changing the value status at the index of our list\n",
    "\t\t\t\tl[A[i] - 1] = 1\n",
    "\tfor i in range(len(l)):\n",
    "\n",
    "\t\t# Encountering first 0, i.e, the element with least value\n",
    "\t\tif l[i] == 0:\n",
    "\t\t\treturn i + 1\n",
    "\t\t\t# In case all values are filled between 1 and m\n",
    "\treturn i + 2"
   ]
  },
  {
   "cell_type": "code",
   "execution_count": 38,
   "id": "1224b2b5-ee81-4339-9086-940cded4fa7f",
   "metadata": {},
   "outputs": [
    {
     "data": {
      "text/plain": [
       "6"
      ]
     },
     "execution_count": 38,
     "metadata": {},
     "output_type": "execute_result"
    }
   ],
   "source": [
    "arr = [0, 10, 1,3,5,4,7,8,2,-10,-20]\n",
    "S =solution(arr)\n",
    "S"
   ]
  },
  {
   "cell_type": "code",
   "execution_count": null,
   "id": "40b045e8-d8be-4126-93ef-d92811ed56ec",
   "metadata": {},
   "outputs": [],
   "source": []
  },
  {
   "cell_type": "code",
   "execution_count": null,
   "id": "e18f6515-cbd8-4030-a6f3-af35a83df8a7",
   "metadata": {},
   "outputs": [],
   "source": []
  },
  {
   "cell_type": "markdown",
   "id": "20be0539-6189-4235-a5d3-df061894c9c7",
   "metadata": {},
   "source": [
    "## 42. Implement a function to find the longest palindrome substring in a given string.\n"
   ]
  },
  {
   "cell_type": "code",
   "execution_count": 53,
   "id": "4bc58b3a-bc51-4d33-a656-b5c74ee3a5b7",
   "metadata": {},
   "outputs": [
    {
     "name": "stdout",
     "output_type": "stream",
     "text": [
      "Longest Palindrome Substring: madam\n"
     ]
    }
   ],
   "source": [
    "def longest_palindrome(s):\n",
    "    n = len(s)\n",
    "    if n < 2:\n",
    "        return s\n",
    "\n",
    "    start, end = 0, 0\n",
    "\n",
    "    def expand_around_center(left, right):\n",
    "        while left >= 0 and right < n and s[left] == s[right]:\n",
    "            left -= 1\n",
    "            right += 1\n",
    "        return left + 1, right - 1\n",
    "\n",
    "    for i in range(n):\n",
    "        left1, right1 = expand_around_center(i, i)\n",
    "        left2, right2 = expand_around_center(i, i + 1)\n",
    "\n",
    "        if right1 - left1 > end - start:\n",
    "            start, end = left1, right1\n",
    "\n",
    "        if right2 - left2 > end - start:\n",
    "            start, end = left2, right2\n",
    "\n",
    "    return s[start : end + 1]\n",
    "\n",
    "# Example usage\n",
    "#string = \"babad\"\n",
    "string = \"madam\"\n",
    "longest_palindrome_substring = longest_palindrome(string)\n",
    "print(\"Longest Palindrome Substring:\", longest_palindrome_substring)\n"
   ]
  },
  {
   "cell_type": "code",
   "execution_count": null,
   "id": "c4111548-5236-491d-ba00-7685fc8e6bd8",
   "metadata": {},
   "outputs": [],
   "source": []
  },
  {
   "cell_type": "code",
   "execution_count": null,
   "id": "b73c0ff0-7696-48df-9e19-55e9fc7312bf",
   "metadata": {},
   "outputs": [],
   "source": []
  },
  {
   "cell_type": "markdown",
   "id": "505b9346-cda0-4f47-aa65-75fa0d55e226",
   "metadata": {},
   "source": [
    "\n",
    "## 43. Write a program to find the number of occurrences of a given element in a list.\n"
   ]
  },
  {
   "cell_type": "code",
   "execution_count": 33,
   "id": "1ee78861-60b8-41f8-a967-4285e5033afc",
   "metadata": {},
   "outputs": [
    {
     "name": "stdout",
     "output_type": "stream",
     "text": [
      "12\n"
     ]
    }
   ],
   "source": [
    "lst =[1,1,1,2,2,3,3,4,4,4,5,5,5,6,6,6,7,7,7,7,7,8,8,8,8,8,9,9,9,9,9,9,9,9,9,9,9,9,10]\n",
    "target=9\n",
    "count=0\n",
    "for i in lst:\n",
    "    if i==target:\n",
    "        count+=1\n",
    "print(count)"
   ]
  },
  {
   "cell_type": "code",
   "execution_count": null,
   "id": "b2a79541-157f-48f9-985d-e2be8890388f",
   "metadata": {},
   "outputs": [],
   "source": []
  },
  {
   "cell_type": "markdown",
   "id": "40f9f244-2f53-4e57-bdde-e23d75a34a8f",
   "metadata": {},
   "source": [
    "\n",
    "## 44. Implement a function to check if a given number is a perfect number.\n"
   ]
  },
  {
   "cell_type": "code",
   "execution_count": 1,
   "id": "2a553470-f44b-4cc2-96b7-f1c788403e20",
   "metadata": {},
   "outputs": [
    {
     "name": "stdout",
     "output_type": "stream",
     "text": [
      "28 is a perfect number: True\n"
     ]
    }
   ],
   "source": [
    "def is_perfect_number(num):\n",
    "    # Check if the number is positive\n",
    "    if num <= 0:\n",
    "        return False\n",
    "    \n",
    "    # Find the divisors of the number\n",
    "    divisors = [1]\n",
    "    for i in range(2, int(num**0.5) + 1):\n",
    "        if num % i == 0:\n",
    "            divisors.append(i)\n",
    "            divisors.append(num // i)\n",
    "    \n",
    "    # Check if the sum of the divisors equals the number itself\n",
    "    return sum(divisors) == num\n",
    "\n",
    "# Example usage\n",
    "number = 28\n",
    "is_perfect = is_perfect_number(number)\n",
    "print(f\"{number} is a perfect number: {is_perfect}\")\n"
   ]
  },
  {
   "cell_type": "code",
   "execution_count": null,
   "id": "c686a718-e39f-4495-94f8-a1e72fb4ef8d",
   "metadata": {},
   "outputs": [],
   "source": []
  },
  {
   "cell_type": "code",
   "execution_count": null,
   "id": "f1707f51-390b-4bd9-9624-e22c60a32d59",
   "metadata": {},
   "outputs": [],
   "source": []
  },
  {
   "cell_type": "markdown",
   "id": "42514509-0aa7-49ea-b72d-f53d3391047c",
   "metadata": {},
   "source": [
    "## 45. Write a Python program to remove all duplicates from a string.\n"
   ]
  },
  {
   "cell_type": "code",
   "execution_count": 28,
   "id": "ac65de13-dbf5-4c60-9400-a85bdf23db55",
   "metadata": {},
   "outputs": [],
   "source": [
    "def remove_duplicates(string):\n",
    "    unique_char =set()\n",
    "    \n",
    "    for char in string:\n",
    "        if char not in unique_char:\n",
    "            unique_char.add(char)\n",
    "    #print(unique_char)\n",
    "    strng =''.join(unique_char)\n",
    "    return strng\n",
    "        "
   ]
  },
  {
   "cell_type": "code",
   "execution_count": 29,
   "id": "7111887b-ceb5-49b3-8290-7e13fe3a05fe",
   "metadata": {},
   "outputs": [
    {
     "data": {
      "text/plain": [
       "'EHOL'"
      ]
     },
     "execution_count": 29,
     "metadata": {},
     "output_type": "execute_result"
    }
   ],
   "source": [
    "string=\"HELLOHELLO\"\n",
    "remove_duplicates(string)"
   ]
  },
  {
   "cell_type": "code",
   "execution_count": null,
   "id": "5fb185e6-48ef-4fc6-82b3-cffb30a85f14",
   "metadata": {},
   "outputs": [],
   "source": []
  },
  {
   "cell_type": "markdown",
   "id": "61442049-055b-4d85-b6b6-77907df19de2",
   "metadata": {},
   "source": [
    "\n",
    "## 46. Implement a function to find the first missing positive"
   ]
  },
  {
   "cell_type": "code",
   "execution_count": 34,
   "id": "5a7b1287-9449-4aa9-b297-ac376692bc21",
   "metadata": {},
   "outputs": [],
   "source": [
    "# Python3 Program to find the smallest\n",
    "# positive missing number\n",
    "\n",
    "\n",
    "def solution(A): # Our original array\n",
    "\n",
    "\tm = max(A) # Storing maximum value\n",
    "\tif m < 1:\n",
    "\n",
    "\t\t# In case all values in our array are negative\n",
    "\t\treturn 1\n",
    "\tif len(A) == 1:\n",
    "\n",
    "\t\t# If it contains only one element\n",
    "\t\treturn 2 if A[0] == 1 else 1\n",
    "\tl = [0] * m\n",
    "\tfor i in range(len(A)):\n",
    "\t\tif A[i] > 0:\n",
    "\t\t\tif l[A[i] - 1] != 1:\n",
    "\n",
    "\t\t\t\t# Changing the value status at the index of our list\n",
    "\t\t\t\tl[A[i] - 1] = 1\n",
    "\tfor i in range(len(l)):\n",
    "\n",
    "\t\t# Encountering first 0, i.e, the element with least value\n",
    "\t\tif l[i] == 0:\n",
    "\t\t\treturn i + 1\n",
    "\t\t\t# In case all values are filled between 1 and m\n",
    "\treturn i + 2"
   ]
  },
  {
   "cell_type": "code",
   "execution_count": 36,
   "id": "0525e8b2-6a7f-46a1-b3e4-93c3a070637f",
   "metadata": {},
   "outputs": [
    {
     "data": {
      "text/plain": [
       "4"
      ]
     },
     "execution_count": 36,
     "metadata": {},
     "output_type": "execute_result"
    }
   ],
   "source": [
    "arr = [0, 10, 1,3,5,2,-10,-20]\n",
    "S =solution(arr)\n",
    "S"
   ]
  },
  {
   "cell_type": "code",
   "execution_count": null,
   "id": "3f0a26bb-88fa-4ceb-9bf8-335b98afc1aa",
   "metadata": {},
   "outputs": [],
   "source": []
  },
  {
   "cell_type": "code",
   "execution_count": null,
   "id": "05af1298-fc7f-4570-a1df-de9e972fc016",
   "metadata": {},
   "outputs": [],
   "source": []
  },
  {
   "cell_type": "code",
   "execution_count": null,
   "id": "a660e0c8-c6c1-4781-88d1-333d0a51e1c9",
   "metadata": {},
   "outputs": [],
   "source": []
  },
  {
   "cell_type": "code",
   "execution_count": null,
   "id": "a0937cf0-f6e2-433a-bb11-5546e1a89622",
   "metadata": {},
   "outputs": [],
   "source": []
  }
 ],
 "metadata": {
  "kernelspec": {
   "display_name": "Python 3 (ipykernel)",
   "language": "python",
   "name": "python3"
  },
  "language_info": {
   "codemirror_mode": {
    "name": "ipython",
    "version": 3
   },
   "file_extension": ".py",
   "mimetype": "text/x-python",
   "name": "python",
   "nbconvert_exporter": "python",
   "pygments_lexer": "ipython3",
   "version": "3.10.8"
  }
 },
 "nbformat": 4,
 "nbformat_minor": 5
}
