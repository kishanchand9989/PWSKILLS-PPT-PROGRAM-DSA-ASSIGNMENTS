{
 "cells": [
  {
   "cell_type": "markdown",
   "id": "b55422cd-e762-4a5d-8051-00465027ad19",
   "metadata": {},
   "source": [
    "## **Assignment-4**"
   ]
  },
  {
   "cell_type": "code",
   "execution_count": null,
   "id": "ad5f6704-1c2d-4041-b086-b60216b4a375",
   "metadata": {},
   "outputs": [],
   "source": []
  },
  {
   "cell_type": "markdown",
   "id": "576c17ff-6a3e-4c97-a538-142ff541b805",
   "metadata": {},
   "source": [
    "## Question 1\n",
    "Given three integer arrays arr1, arr2 and arr3 sorted in strictly increasing order, return a sorted array of only the integers that appeared in all three arrays.\n",
    "\n",
    "Example 1:\n",
    "\n",
    "Input: arr1 = [1,2,3,4,5], arr2 = [1,2,5,7,9], arr3 = [1,3,4,5,8]\n",
    "\n",
    "Output: [1,5]\n",
    "\n",
    "Explanation: Only 1 and 5 appeared in the three arrays.\n"
   ]
  },
  {
   "cell_type": "code",
   "execution_count": 133,
   "id": "5a4a2e7e-d85c-4f9d-955a-4cf8948212f9",
   "metadata": {},
   "outputs": [],
   "source": [
    "def common(m1,m2,m3):\n",
    "    out=[]\n",
    "    \n",
    "    for i in m1:\n",
    "        if i in m1:\n",
    "            if i in m2:\n",
    "                if i in m3:\n",
    "                    out.append(i)\n",
    "                    \n",
    "    return out"
   ]
  },
  {
   "cell_type": "code",
   "execution_count": 136,
   "id": "19add6df-9e9c-4fab-b037-56f2a6d7fceb",
   "metadata": {},
   "outputs": [
    {
     "data": {
      "text/plain": [
       "[1, 3, 5, 0]"
      ]
     },
     "execution_count": 136,
     "metadata": {},
     "output_type": "execute_result"
    }
   ],
   "source": [
    "m1=[1,2,3,4,5,0]\n",
    "m2=[1,2,5,7,9,3,0]\n",
    "m3=[1,3,4,5,8,0]\n",
    "common(m1,m2,m3)"
   ]
  },
  {
   "cell_type": "code",
   "execution_count": null,
   "id": "4a7fe6c0-6400-49e8-9c5c-f778a9a8d01c",
   "metadata": {},
   "outputs": [],
   "source": []
  },
  {
   "cell_type": "code",
   "execution_count": null,
   "id": "8ce03d68-99d0-4200-8aff-c361735fb0bb",
   "metadata": {},
   "outputs": [],
   "source": []
  },
  {
   "cell_type": "code",
   "execution_count": null,
   "id": "567feb71-8bff-4360-a2ea-9dd7807ce15d",
   "metadata": {},
   "outputs": [],
   "source": []
  },
  {
   "cell_type": "markdown",
   "id": "b902230c-5978-4451-b452-498aa6633367",
   "metadata": {},
   "source": [
    "## Question 2\n",
    "\n",
    "Given two 0-indexed integer arrays nums1 and nums2, return a list answer of size 2 where:\n",
    "\n",
    "- answer[0] is a list of all distinct integers in nums1 which are not present in nums2.\n",
    "- answer[1] is a list of all distinct integers in nums2 which are not present in nums1.\n",
    "\n",
    "Note that the integers in the lists may be returned in **any** order.\n",
    "\n",
    "Example 1:\n",
    "\n",
    "Input: nums1 = [1,2,3], nums2 = [2,4,6]\n",
    "\n",
    "Output: [[1,3],[4,6]]\n",
    "\n",
    "Explanation:\n",
    "\n",
    "For nums1, nums1[1] = 2 is present at index 0 of nums2, whereas nums1[0] = 1 and nums1[2] = 3 are not present in nums2. Therefore, answer[0] = [1,3].\n",
    "\n",
    "For nums2, nums2[0] = 2 is present at index 1 of nums1, whereas nums2[1] = 4 and nums2[2] = 6 are not present in nums2. Therefore, answer[1] = [4,6].\n"
   ]
  },
  {
   "cell_type": "code",
   "execution_count": 126,
   "id": "bed0f816-4fa3-488c-8622-ae4d85063298",
   "metadata": {},
   "outputs": [],
   "source": [
    "def uniq(l1,l2):\n",
    "    l1_s =len(l1)\n",
    "    l2_s =len(l2)\n",
    "    result=[[],[]]\n",
    "    for i in l1:\n",
    "        lst1=[]\n",
    "        if i not in l2:\n",
    "            result[0].append(i)\n",
    "            \n",
    "    for i in l2:\n",
    "        lst2=[]\n",
    "        if i not in l1:\n",
    "            result[1].append(i)\n",
    "    return result\n",
    "    \n",
    "            \n",
    "    "
   ]
  },
  {
   "cell_type": "code",
   "execution_count": null,
   "id": "de5a1618-eedd-4f25-9d19-752ed19ee963",
   "metadata": {},
   "outputs": [],
   "source": []
  },
  {
   "cell_type": "code",
   "execution_count": 127,
   "id": "e913e2ae-9d10-4d26-be53-886a83baef5d",
   "metadata": {},
   "outputs": [
    {
     "data": {
      "text/plain": [
       "[[1, 3, 1], [6, 7, 0]]"
      ]
     },
     "execution_count": 127,
     "metadata": {},
     "output_type": "execute_result"
    }
   ],
   "source": [
    "l1=[1,2,3,4,5,1]\n",
    "l2=[2,4,6,5,7,0]\n",
    "uniq(l1,l2)\n"
   ]
  },
  {
   "cell_type": "code",
   "execution_count": 100,
   "id": "2ea23700-3b93-474e-89b5-cf7eca73b321",
   "metadata": {},
   "outputs": [
    {
     "data": {
      "text/plain": [
       "3"
      ]
     },
     "execution_count": 100,
     "metadata": {},
     "output_type": "execute_result"
    }
   ],
   "source": [
    "len(l1)"
   ]
  },
  {
   "cell_type": "code",
   "execution_count": null,
   "id": "fbe10f96-71ff-47bd-861c-610a96c65262",
   "metadata": {},
   "outputs": [],
   "source": []
  },
  {
   "cell_type": "markdown",
   "id": "8aff4bd4-4746-4017-8489-fc7ae69ffaab",
   "metadata": {},
   "source": [
    "## Question 3\n",
    "\n",
    "Given a 2D integer array matrix, return the transpose of matrix.\n",
    "\n",
    "The transpose of a matrix is the matrix flipped over its main diagonal, switching the matrix's row and column indices.\n",
    "\n",
    "Example 1:\n",
    "\n",
    "Input: matrix = [[1,2,3],[4,5,6],[7,8,9]]\n",
    "\n",
    "Output: [[1,4,7],[2,5,8],[3,6,9]]\n"
   ]
  },
  {
   "cell_type": "code",
   "execution_count": 94,
   "id": "b2e943de-e9ca-478a-8e96-55faadb4d566",
   "metadata": {},
   "outputs": [],
   "source": [
    "def transpose(matrix):\n",
    "    r=len(matrix)\n",
    "    c=len(matrix[0])\n",
    "    for i in range(r):\n",
    "        for j in range(i+1,c):\n",
    "            temp=matrix[i][j]\n",
    "            matrix[i][j] =matrix[j][i]\n",
    "            matrix[j][i] =temp\n",
    "    return matrix\n",
    "            "
   ]
  },
  {
   "cell_type": "code",
   "execution_count": 96,
   "id": "02f50099-76a7-4611-b790-ab00981e31b1",
   "metadata": {},
   "outputs": [
    {
     "data": {
      "text/plain": [
       "[[1, 4, 7], [2, 5, 8], [3, 6, 9]]"
      ]
     },
     "execution_count": 96,
     "metadata": {},
     "output_type": "execute_result"
    }
   ],
   "source": [
    "transpose([[1,2,3],[4,5,6],[7,8,9]])"
   ]
  },
  {
   "cell_type": "markdown",
   "id": "9b77799d-33f9-4901-9353-85b61bc35a20",
   "metadata": {},
   "source": [
    "## Question 4\n",
    "\n",
    "Given an integer array nums of 2n integers, group these integers into n pairs (a1, b1), (a2, b2), ..., (an, bn) such that the sum of min(ai, bi) for all i is maximized. Return the maximized sum.\n",
    "\n",
    "Example 1:\n",
    "\n",
    "Input: nums = [1,4,3,2]\n",
    "\n",
    "Output: 4\n",
    "\n",
    "Explanation: All possible pairings (ignoring the ordering of elements) are:\n",
    "\n",
    "1. (1, 4), (2, 3) -> min(1, 4) + min(2, 3) = 1 + 2 = 3\n",
    "\n",
    "2. (1, 3), (2, 4) -> min(1, 3) + min(2, 4) = 1 + 2 = 3\n",
    "\n",
    "3. (1, 2), (3, 4) -> min(1, 2) + min(3, 4) = 1 + 3 = 4\n",
    "\n",
    "So the maximum possible sum is 4.\n"
   ]
  },
  {
   "cell_type": "code",
   "execution_count": 139,
   "id": "6218235b-282d-4a56-aca1-3f373a78ab96",
   "metadata": {},
   "outputs": [],
   "source": [
    "#from itertools import combinations\n",
    "\n",
    "#nums = [1, 2, 3, 4]\n",
    "#pairs = list(combinations(nums, 2))\n",
    "\n",
    "#print(pairs)\n",
    "\n",
    "\n",
    "import numpy as np\n",
    "nums = [1, 2, 3, 4]\n",
    "pairs = []\n",
    "#max_val=0\n",
    "def maxsum(nums):\n",
    "    max_val=0\n",
    "    for i in range(len(nums)):\n",
    "        for j in range(i + 1, len(nums)):\n",
    "            pairs.append((nums[i], nums[j]))\n",
    "    print(pairs)\n",
    "        \n",
    "        \n",
    "    for i in range(len(pairs)):\n",
    "        for j in range(0,len(pairs[0])):\n",
    "            val=min(pairs[i][j],pairs[i][j+1])\n",
    "            print(val)\n",
    "            max_val =max(max_val,val)\n",
    "            j=2\n",
    "        j=0\n",
    "\n",
    "    return max_val\n",
    "#def maxsum(nums,n):\n",
    "#    l =len(nums)\n",
    "#    maxi=0\n",
    "#    for j in range(0,l+1):\n",
    "#        if j==l-1:\n",
    "#            break\n",
    "#        else:\n",
    "#            val=min(nums[j],nums[j+1])\n",
    "#            maxi =max(maxi,val)\n",
    "#            j=j+2\n",
    "#    return maxi\n",
    " "
   ]
  },
  {
   "cell_type": "code",
   "execution_count": null,
   "id": "4f66fd58-9e2d-4f4c-88a8-70a6fbe72a7e",
   "metadata": {},
   "outputs": [],
   "source": []
  },
  {
   "cell_type": "code",
   "execution_count": 140,
   "id": "30d4ff44-c7a5-4a09-80ac-8a3694c61c47",
   "metadata": {},
   "outputs": [
    {
     "name": "stdout",
     "output_type": "stream",
     "text": [
      "[(1, 4), (1, 3), (1, 2), (4, 3), (4, 2), (3, 2)]\n",
      "1\n"
     ]
    },
    {
     "ename": "TypeError",
     "evalue": "'int' object is not callable",
     "output_type": "error",
     "traceback": [
      "\u001b[0;31m---------------------------------------------------------------------------\u001b[0m",
      "\u001b[0;31mTypeError\u001b[0m                                 Traceback (most recent call last)",
      "Cell \u001b[0;32mIn[140], line 4\u001b[0m\n\u001b[1;32m      2\u001b[0m n\u001b[38;5;241m=\u001b[39m\u001b[38;5;28mlen\u001b[39m(nums)\u001b[38;5;241m/\u001b[39m\u001b[38;5;241m/\u001b[39m\u001b[38;5;241m2\u001b[39m\n\u001b[1;32m      3\u001b[0m n\n\u001b[0;32m----> 4\u001b[0m \u001b[43mmaxsum\u001b[49m\u001b[43m(\u001b[49m\u001b[43mnums\u001b[49m\u001b[43m)\u001b[49m\n\u001b[1;32m      5\u001b[0m \u001b[38;5;66;03m#array_pair_sum(nums,n)\u001b[39;00m\n",
      "Cell \u001b[0;32mIn[139], line 25\u001b[0m, in \u001b[0;36mmaxsum\u001b[0;34m(nums)\u001b[0m\n\u001b[1;32m     23\u001b[0m     val\u001b[38;5;241m=\u001b[39m\u001b[38;5;28mmin\u001b[39m(pairs[i][j],pairs[i][j\u001b[38;5;241m+\u001b[39m\u001b[38;5;241m1\u001b[39m])\n\u001b[1;32m     24\u001b[0m     \u001b[38;5;28mprint\u001b[39m(val)\n\u001b[0;32m---> 25\u001b[0m     max_val \u001b[38;5;241m=\u001b[39m\u001b[38;5;28;43mmax\u001b[39;49m\u001b[43m(\u001b[49m\u001b[43mmax_val\u001b[49m\u001b[43m,\u001b[49m\u001b[43mval\u001b[49m\u001b[43m)\u001b[49m\n\u001b[1;32m     26\u001b[0m     j\u001b[38;5;241m=\u001b[39m\u001b[38;5;241m2\u001b[39m\n\u001b[1;32m     27\u001b[0m j\u001b[38;5;241m=\u001b[39m\u001b[38;5;241m0\u001b[39m\n",
      "\u001b[0;31mTypeError\u001b[0m: 'int' object is not callable"
     ]
    }
   ],
   "source": [
    "nums=[1,4,3,2]\n",
    "n=len(nums)//2\n",
    "n\n",
    "maxsum(nums)\n",
    "#array_pair_sum(nums,n)"
   ]
  },
  {
   "cell_type": "code",
   "execution_count": null,
   "id": "02c55ef8-a6b4-41cc-b300-412bc718f312",
   "metadata": {},
   "outputs": [],
   "source": []
  },
  {
   "cell_type": "markdown",
   "id": "627e8aaf-b722-49a5-9cd2-b3121c263946",
   "metadata": {},
   "source": [
    "##  Question 5\n",
    "You have n coins and you want to build a staircase with these coins. The staircase consists of k rows where the ith row has exactly i coins. The last row of the staircase **may be** incomplete.\n",
    "\n",
    "Given the integer n, return *the number of **complete rows** of the staircase you will build.\n",
    "\n",
    "**Input:** n = 5\n",
    "\n",
    "**Output:** 2\n",
    "\n",
    "**Explanation:** Because the 3rd row is incomplete, we return 2."
   ]
  },
  {
   "cell_type": "code",
   "execution_count": 12,
   "id": "618552b7-4605-4e87-8ec9-360713d930e3",
   "metadata": {},
   "outputs": [],
   "source": [
    "def completerows(coins):\n",
    "    comp =[i for i in range(1,coins+1)]\n",
    "    c =coins\n",
    "    count=0\n",
    "    for i in comp:\n",
    "        if c-i>=0:\n",
    "            count=count+1\n",
    "        c=c-i\n",
    "    return count"
   ]
  },
  {
   "cell_type": "code",
   "execution_count": 14,
   "id": "f92f3bbe-f353-40e1-83e0-60f52442b564",
   "metadata": {},
   "outputs": [
    {
     "data": {
      "text/plain": [
       "2"
      ]
     },
     "execution_count": 14,
     "metadata": {},
     "output_type": "execute_result"
    }
   ],
   "source": [
    "coins =5\n",
    "completerows(coins)"
   ]
  },
  {
   "cell_type": "code",
   "execution_count": null,
   "id": "b4fced4d-61ef-4617-ab9d-4c4097fe81ee",
   "metadata": {},
   "outputs": [],
   "source": []
  },
  {
   "cell_type": "markdown",
   "id": "06f78824-d8f7-4620-baf2-07e285499076",
   "metadata": {},
   "source": [
    "## Question 6\n",
    "Given an integer array nums sorted in **non-decreasing** order, return *an array of **the squares of each number** sorted in non-decreasing order*.\n",
    "\n",
    "Example 1:\n",
    "\n",
    "Input: nums = [-4,-1,0,3,10]\n",
    "\n",
    "Output: [0,1,9,16,100]\n",
    "\n",
    "Explanation: After squaring, the array becomes [16,1,0,9,100].\n",
    "After sorting, it becomes [0,1,9,16,100]\n"
   ]
  },
  {
   "cell_type": "code",
   "execution_count": 35,
   "id": "e037df54-0355-4429-80eb-3e565d0cd146",
   "metadata": {},
   "outputs": [],
   "source": [
    "import numpy as np\n",
    "def arr(nums):\n",
    "    lt=[]\n",
    "    for i in nums:\n",
    "        lt.append(np.square(i))\n",
    "    st =np.sort(lt)\n",
    "    return st\n",
    "        "
   ]
  },
  {
   "cell_type": "code",
   "execution_count": 38,
   "id": "cdd73069-19df-4b17-b8dd-cedc2661ba75",
   "metadata": {},
   "outputs": [
    {
     "data": {
      "text/plain": [
       "array([  0,   1,   9,  16, 100])"
      ]
     },
     "execution_count": 38,
     "metadata": {},
     "output_type": "execute_result"
    }
   ],
   "source": [
    "nums=[-4,-1,0,3,10]\n",
    "arr(nums)"
   ]
  },
  {
   "cell_type": "code",
   "execution_count": 24,
   "id": "a13ee098-53cc-4a63-93de-c99670329389",
   "metadata": {},
   "outputs": [
    {
     "data": {
      "text/plain": [
       "25"
      ]
     },
     "execution_count": 24,
     "metadata": {},
     "output_type": "execute_result"
    }
   ],
   "source": [
    "import numpy as np\n",
    "np.square(5)"
   ]
  },
  {
   "cell_type": "markdown",
   "id": "6821c094-4be5-4952-bd13-b3b025dac588",
   "metadata": {},
   "source": [
    "## Question 7\n",
    "\n",
    "You are given an m x n matrix M initialized with all 0's and an array of operations ops, where ops[i] = [ai, bi] means M[x][y] should be incremented by one for all 0 <= x < ai and 0 <= y < bi.\n",
    "\n",
    "Count and return *the number of maximum integers in the matrix after performing all the operations\n",
    "\n",
    "Example 1:\n",
    "\n",
    "Input: m = 3, n = 3, ops = [[2,2],[3,3]]\n",
    "\n",
    "Output: 4\n",
    "\n",
    "Explanation: The maximum integer in M is 2, and there are four of it in M. So return 4.\n"
   ]
  },
  {
   "cell_type": "code",
   "execution_count": 17,
   "id": "60ecd423-fc9a-48fd-bc57-656ed596baa6",
   "metadata": {},
   "outputs": [],
   "source": [
    "from typing import List\n",
    "\n",
    "def max_count(m: int, n: int, ops: List[List[int]]) -> int:\n",
    "    min_a, min_b = m, n\n",
    "\n",
    "    for op in ops:\n",
    "        min_a = min(min_a, op[0])\n",
    "        min_b = min(min_b, op[1])\n",
    "\n",
    "    return min_a * min_b\n"
   ]
  },
  {
   "cell_type": "code",
   "execution_count": 19,
   "id": "73d1ac9f-686d-4a01-84b7-cead06897bca",
   "metadata": {},
   "outputs": [
    {
     "name": "stdout",
     "output_type": "stream",
     "text": [
      "4\n"
     ]
    }
   ],
   "source": [
    "m = 3\n",
    "n = 3\n",
    "ops = [[2, 2], [3, 3]]\n",
    "result = max_count(m, n, ops)\n",
    "print(result)\n"
   ]
  },
  {
   "cell_type": "code",
   "execution_count": null,
   "id": "4caf3309-63d1-4224-bf52-3bc681547661",
   "metadata": {},
   "outputs": [],
   "source": []
  },
  {
   "cell_type": "code",
   "execution_count": null,
   "id": "6b619837-6039-4832-aa01-a086585a0a2d",
   "metadata": {},
   "outputs": [],
   "source": []
  },
  {
   "cell_type": "markdown",
   "id": "f347b8c8-0fb8-4eec-8e6e-ba146a2a4a40",
   "metadata": {},
   "source": [
    "\n",
    "## Question 8\n",
    "\n",
    "Given the array nums consisting of 2n elements in the form [x1,x2,...,xn,y1,y2,...,yn].\n",
    "\n",
    "Return the array in the form [x1,y1,x2,y2,...,xn,yn].\n",
    "\n",
    "Example 1:\n",
    "\n",
    "Input: nums = [2,5,1,3,4,7], n = 3\n",
    "\n",
    "Output: [2,3,5,4,1,7]\n",
    "\n",
    "Explanation: Since x1=2, x2=5, x3=1, y1=3, y2=4, y3=7 then the answer is [2,3,5,4,1,7].\n"
   ]
  },
  {
   "cell_type": "code",
   "execution_count": 10,
   "id": "cd50f9b8-bd4e-433d-9b49-f290417cf2d3",
   "metadata": {},
   "outputs": [],
   "source": [
    "def points(nums,n):\n",
    "    g =len(nums)\n",
    "    out=[]\n",
    "    for i in range(g):\n",
    "        if i<n:\n",
    "            out.append(nums[i])\n",
    "            j=i+n\n",
    "            out.append(nums[j])\n",
    "    return out"
   ]
  },
  {
   "cell_type": "code",
   "execution_count": 11,
   "id": "ff872c82-319b-4f78-b7fd-59255d29cee2",
   "metadata": {},
   "outputs": [
    {
     "data": {
      "text/plain": [
       "[2, 3, 5, 4, 1, 7]"
      ]
     },
     "execution_count": 11,
     "metadata": {},
     "output_type": "execute_result"
    }
   ],
   "source": [
    "nums =[2,5,1,3,4,7]\n",
    "n=3\n",
    "points(nums,n)"
   ]
  },
  {
   "cell_type": "code",
   "execution_count": 12,
   "id": "59f4fe49-524b-42c4-bcf1-df57bddefca1",
   "metadata": {},
   "outputs": [
    {
     "data": {
      "text/plain": [
       "[2, 4, 5, 7, 1, 9, 3, 4]"
      ]
     },
     "execution_count": 12,
     "metadata": {},
     "output_type": "execute_result"
    }
   ],
   "source": [
    "nums =[2,5,1,3,4,7,9,4]\n",
    "n=4\n",
    "points(nums,n)"
   ]
  },
  {
   "cell_type": "code",
   "execution_count": null,
   "id": "3ed377a4-919f-4f41-9817-948b8328f0bb",
   "metadata": {},
   "outputs": [],
   "source": []
  },
  {
   "cell_type": "code",
   "execution_count": null,
   "id": "2d0968d6-2230-44b6-acc0-15b7012d0540",
   "metadata": {},
   "outputs": [],
   "source": []
  }
 ],
 "metadata": {
  "kernelspec": {
   "display_name": "Python 3 (ipykernel)",
   "language": "python",
   "name": "python3"
  },
  "language_info": {
   "codemirror_mode": {
    "name": "ipython",
    "version": 3
   },
   "file_extension": ".py",
   "mimetype": "text/x-python",
   "name": "python",
   "nbconvert_exporter": "python",
   "pygments_lexer": "ipython3",
   "version": "3.10.8"
  }
 },
 "nbformat": 4,
 "nbformat_minor": 5
}
