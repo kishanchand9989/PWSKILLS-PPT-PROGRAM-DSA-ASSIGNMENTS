{
 "cells": [
  {
   "cell_type": "markdown",
   "id": "ea9de578-d223-4ce8-b6ec-28cb37ff47eb",
   "metadata": {},
   "source": [
    "## Assignment-3"
   ]
  },
  {
   "cell_type": "code",
   "execution_count": null,
   "id": "9d4f160e-2357-4e83-b759-2bc776dc122d",
   "metadata": {},
   "outputs": [],
   "source": []
  },
  {
   "cell_type": "markdown",
   "id": "22a482df-b2b4-443b-93af-5bb611a76aee",
   "metadata": {},
   "source": [
    "1. Scenario: A company wants to analyze the sales performance of its products in different regions. They have collected the following data:\n",
    "   Region A: [10, 15, 12, 8, 14]\n",
    "   Region B: [18, 20, 16, 22, 25]\n",
    "   Calculate the mean sales for each region.\n",
    "\n"
   ]
  },
  {
   "cell_type": "code",
   "execution_count": 2,
   "id": "88e0ecbd-41bc-4e61-8166-814fc7151c28",
   "metadata": {},
   "outputs": [],
   "source": [
    "import numpy as np\n",
    "A =[10,15,12,8,14]\n",
    "B =[18,20,16,22,25]\n",
    "regA = np.mean(A)\n",
    "regB = np.mean(B)"
   ]
  },
  {
   "cell_type": "code",
   "execution_count": 3,
   "id": "461ddb6f-f439-4e51-99f4-7e7dfcab6760",
   "metadata": {},
   "outputs": [
    {
     "data": {
      "text/plain": [
       "(11.8, 20.2)"
      ]
     },
     "execution_count": 3,
     "metadata": {},
     "output_type": "execute_result"
    }
   ],
   "source": [
    "regA,regB"
   ]
  },
  {
   "cell_type": "markdown",
   "id": "d24dbdda-dd35-49ed-a5aa-1f4586b2966e",
   "metadata": {},
   "source": [
    "2. Scenario: A survey is conducted to measure customer satisfaction on a scale of 1 to 5. The data collected is as follows:\n",
    "   [4, 5, 2, 3, 5, 4, 3, 2, 4, 5]\n",
    "   Calculate the mode of the survey responses.\n",
    "\n"
   ]
  },
  {
   "cell_type": "code",
   "execution_count": 14,
   "id": "8b3aadda-969c-432d-86c5-3350cedd29e2",
   "metadata": {},
   "outputs": [
    {
     "data": {
      "text/plain": [
       "4"
      ]
     },
     "execution_count": 14,
     "metadata": {},
     "output_type": "execute_result"
    }
   ],
   "source": [
    "from statistics import mode\n",
    "#st =statistics()\n",
    "ratings =[4,5,2,3,5,4,3,2,4,5]\n",
    "mode(ratings)"
   ]
  },
  {
   "cell_type": "code",
   "execution_count": null,
   "id": "91a2d987-4939-477e-9821-47ad4d3e214d",
   "metadata": {},
   "outputs": [],
   "source": []
  },
  {
   "cell_type": "code",
   "execution_count": null,
   "id": "8ced9c44-1d91-4e65-8cbe-203c225d143b",
   "metadata": {},
   "outputs": [],
   "source": []
  },
  {
   "cell_type": "code",
   "execution_count": null,
   "id": "59686ffa-347c-40cb-a34e-d0be295cfc9b",
   "metadata": {},
   "outputs": [],
   "source": [
    "3. Scenario: A company wants to compare the salaries of two departments. The salary data for Department A and Department B are as follows:\n",
    "   Department A: [5000, 6000, 5500, 7000]\n",
    "   Department B: [4500, 5500, 5800, 6000, 5200]\n",
    "   Calculate the median salary for each department.\n",
    "\n"
   ]
  },
  {
   "cell_type": "code",
   "execution_count": 15,
   "id": "d41ef49d-ba7b-4b4b-8197-969c09cc73cc",
   "metadata": {},
   "outputs": [],
   "source": [
    "depA =[5000,6000,5500,7000]\n",
    "depB =[4500,5500,5800,6000,5200]\n",
    "depA_med_salary =np.median(depA)\n",
    "depB_med_salary =np.median(depB)"
   ]
  },
  {
   "cell_type": "code",
   "execution_count": 16,
   "id": "f96291b5-8ac1-4c30-8d77-c9ed5fea128c",
   "metadata": {},
   "outputs": [
    {
     "data": {
      "text/plain": [
       "(5750.0, 5500.0)"
      ]
     },
     "execution_count": 16,
     "metadata": {},
     "output_type": "execute_result"
    }
   ],
   "source": [
    "(depA_med_salary,depB_med_salary)"
   ]
  },
  {
   "cell_type": "code",
   "execution_count": null,
   "id": "8e3019fd-9e9c-4954-b516-b9bf6011a62f",
   "metadata": {},
   "outputs": [],
   "source": []
  },
  {
   "cell_type": "code",
   "execution_count": null,
   "id": "c2e78721-0ea7-4501-a79b-a9214aecab24",
   "metadata": {},
   "outputs": [],
   "source": [
    "4. Scenario: A data analyst wants to determine the variability in the daily stock prices of a company. The data collected is as follows:\n",
    "   [25.5, 24.8, 26.1, 25.3, 24.9]\n",
    "   Calculate the range of the stock prices.\n"
   ]
  },
  {
   "cell_type": "code",
   "execution_count": 20,
   "id": "a31bea7c-790c-4ca3-84e2-44297852a072",
   "metadata": {},
   "outputs": [],
   "source": [
    "stock_data = [25.5, 24.8, 26.1, 25.3, 24.9]\n",
    "stock_data.sort()\n",
    "Range =max(stock_data)-min(stock_data)\n"
   ]
  },
  {
   "cell_type": "code",
   "execution_count": 21,
   "id": "62a9f205-781f-459b-a532-c9622322338d",
   "metadata": {},
   "outputs": [
    {
     "data": {
      "text/plain": [
       "1.3000000000000007"
      ]
     },
     "execution_count": 21,
     "metadata": {},
     "output_type": "execute_result"
    }
   ],
   "source": [
    "Range"
   ]
  },
  {
   "cell_type": "code",
   "execution_count": null,
   "id": "b7693c1f-8bb2-4139-95f3-b648eeeb8153",
   "metadata": {},
   "outputs": [],
   "source": []
  },
  {
   "cell_type": "code",
   "execution_count": null,
   "id": "edf71181-6385-4338-9e82-4c145eb7c082",
   "metadata": {},
   "outputs": [],
   "source": [
    "5. Scenario: A study is conducted to compare the performance of two different teaching methods. The test scores of the students in each group are as follows:\n",
    "   Group A: [85, 90, 92, 88, 91]\n",
    "   Group B: [82, 88, 90, 86, 87]\n",
    "   Perform a t-test to determine if there is a significant difference in the mean scores between the two groups.\n"
   ]
  },
  {
   "cell_type": "code",
   "execution_count": null,
   "id": "e0d953fd-71cf-4ce1-b300-652b9fffb819",
   "metadata": {},
   "outputs": [],
   "source": []
  },
  {
   "cell_type": "code",
   "execution_count": 7,
   "id": "b6739a45-9e6b-4b19-ab3b-19eacf798568",
   "metadata": {},
   "outputs": [
    {
     "name": "stdout",
     "output_type": "stream",
     "text": [
      "1.4312528946642733\n",
      "0.19023970239078333\n",
      "There is no significant difference in the mean scores between the two groups.\n"
     ]
    }
   ],
   "source": [
    "import scipy.stats as stats\n",
    "\n",
    "# Test scores of Group A\n",
    "group_a = [85, 90, 92, 88, 91]\n",
    "\n",
    "# Test scores of Group B\n",
    "group_b = [82, 88, 90, 86, 87]\n",
    "\n",
    "# Perform the independent t-test\n",
    "t_statistic, p_value = stats.ttest_ind(group_a, group_b)\n",
    "\n",
    "print(t_statistic)\n",
    "print(p_value)\n",
    "\n",
    "# Determine the significance level (alpha value)\n",
    "alpha = 0.05\n",
    "\n",
    "# Compare the p-value with the significance level\n",
    "if p_value < alpha:\n",
    "    print(\"There is a significant difference in the mean scores between the two groups.\")\n",
    "else:\n",
    "    print(\"There is no significant difference in the mean scores between the two groups.\")\n"
   ]
  },
  {
   "cell_type": "code",
   "execution_count": null,
   "id": "541047f1-9bd8-488f-94b7-e98ee18b1b89",
   "metadata": {},
   "outputs": [],
   "source": [
    "To calculate the t-test manually, you can follow these steps:\n",
    "\n",
    "1. Calculate the sample means of each group:\n",
    "   - Group A: [85, 90, 92, 88, 91]\n",
    "   - Group B: [82, 88, 90, 86, 87]\n",
    "\n",
    "   Mean of Group A (x̄₁) = (85 + 90 + 92 + 88 + 91) / 5 = 88.4\n",
    "   Mean of Group B (x̄₂) = (82 + 88 + 90 + 86 + 87) / 5 = 86.6\n",
    "\n",
    "2. Calculate the sample variances of each group:\n",
    "   - Group A:\n",
    "     - Subtract the mean of Group A from each score and square the differences:\n",
    "       (85 - 88.4)² = 11.56\n",
    "       (90 - 88.4)² = 2.56\n",
    "       (92 - 88.4)² = 12.96\n",
    "       (88 - 88.4)² = 0.16\n",
    "       (91 - 88.4)² = 6.76\n",
    "     - Sum up the squared differences and divide by (n-1), where n is the sample size:\n",
    "       Variance of Group A (s₁²) = (11.56 + 2.56 + 12.96 + 0.16 + 6.76) / (5 - 1) = 8.3\n",
    "\n",
    "   - Group B:\n",
    "     - Subtract the mean of Group B from each score and square the differences:\n",
    "       (82 - 86.6)² = 20.16\n",
    "       (88 - 86.6)² = 2.44\n",
    "       (90 - 86.6)² = 11.56\n",
    "       (86 - 86.6)² = 0.36\n",
    "       (87 - 86.6)² = 0.16\n",
    "     - Sum up the squared differences and divide by (n-1), where n is the sample size:\n",
    "       Variance of Group B (s₂²) = (20.16 + 2.44 + 11.56 + 0.36 + 0.16) / (5 - 1) = 8.1\n",
    "\n",
    "3. Calculate the pooled standard error:\n",
    "   Pooled standard error (SE) = √[(s₁²/n₁) + (s₂²/n₂)]\n",
    "   SE = √[(8.3/5) + (8.1/5)] = √(1.66 + 1.62) = √3.28 = 1.81\n",
    "\n",
    "4. Calculate the t-statistic:\n",
    "   t-statistic = (x̄₁ - x̄₂) / SE\n",
    "   t-statistic = (88.4 - 86.6) / 1.81 = 1.0 / 1.81 = 0.55\n",
    "\n",
    "5. Determine the degrees of freedom (df):\n",
    "   Degrees of freedom (df) = n₁ + n₂ - 2\n",
    "   df = 5 + 5 - 2 = 8\n",
    "\n",
    "6. Look up the critical value of t for the desired significance level (alpha) and degrees of freedom (df). Let's assume alpha = 0.05 (95% confidence level) for this example. \n",
    "\n",
    "   By looking up the critical value in a t-distribution table or using statistical software, we find that the critical value for a two-tailed test with df = 8 and alpha = 0.05 is approximately ±2.306.\n",
    "\n",
    "7. Compare the calculated t-statistic with the critical value:\n",
    "   - If the absolute value of the t-statistic is greater than the critical value, reject the null hypothesis and conclude that there is a significant difference between the two groups.\n",
    "   - If the absolute value of the t-statistic is less than or equal to the critical value, fail to reject the null hypothesis and conclude that there is no significant difference between the two groups.\n",
    "\n",
    "In this example, the calculated t-statistic (0.55) is less than the critical value (±2.306), indicating that we fail to reject the null hypothesis. \n",
    "Therefore, we conclude that there is no significant difference in the mean scores between Group A and Group B."
   ]
  },
  {
   "cell_type": "code",
   "execution_count": null,
   "id": "187446f7-7a3a-4ceb-b809-f7f469174843",
   "metadata": {},
   "outputs": [],
   "source": []
  },
  {
   "cell_type": "code",
   "execution_count": null,
   "id": "46529a63-5e16-4d43-9e64-0870eb3b7551",
   "metadata": {},
   "outputs": [],
   "source": []
  },
  {
   "cell_type": "code",
   "execution_count": null,
   "id": "8a2e52f9-dc5d-408a-809f-bbd75e5c5370",
   "metadata": {},
   "outputs": [],
   "source": [
    "6. Scenario: A company wants to analyze the relationship between advertising expenditure and sales. The data collected is as follows:\n",
    "   Advertising Expenditure (in thousands): [10, 15, 12, 8, 14]\n",
    "   Sales (in thousands): [25, 30, 28, 20, 26]\n",
    "   Calculate the correlation coefficient between advertising expenditure and sales.\n",
    "\n"
   ]
  },
  {
   "cell_type": "code",
   "execution_count": null,
   "id": "9e12b24b-0853-41e1-a40f-e0aab5b60d0b",
   "metadata": {},
   "outputs": [],
   "source": []
  },
  {
   "cell_type": "code",
   "execution_count": null,
   "id": "698e840f-64b9-403c-b9df-918e004adba0",
   "metadata": {},
   "outputs": [],
   "source": [
    "To calculate the correlation coefficient manually, you can follow these steps:\n",
    "\n",
    "1. Calculate the mean of both the advertising expenditure and sales values.\n",
    "   - Mean of advertising expenditure (x̄) = (10 + 15 + 12 + 8 + 14) / 5 = 11.8\n",
    "   - Mean of sales (ȳ) = (25 + 30 + 28 + 20 + 26) / 5 = 25.8\n",
    "\n",
    "2. Calculate the deviations from the mean for both variables.\n",
    "   - Deviations from the mean of advertising expenditure (x):\n",
    "     [10 - 11.8, 15 - 11.8, 12 - 11.8, 8 - 11.8, 14 - 11.8] = [-1.8, 3.2, 0.2, -3.8, 2.2]\n",
    "\n",
    "   - Deviations from the mean of sales (y):\n",
    "     [25 - 25.8, 30 - 25.8, 28 - 25.8, 20 - 25.8, 26 - 25.8] = [-0.8, 4.2, 2.2, -5.8, 0.2]\n",
    "\n",
    "3. Calculate the product of the deviations for each pair of values.\n",
    "   - Products of deviations: [-1.8 * -0.8, 3.2 * 4.2, 0.2 * 2.2, -3.8 * -5.8, 2.2 * 0.2] = [1.44, 13.44, 0.44, 22.04, 0.44]\n",
    "\n",
    "4. Calculate the sum of the products of deviations.\n",
    "   - Sum of products of deviations = 1.44 + 13.44 + 0.44 + 22.04 + 0.44 = 37.8\n",
    "\n",
    "5. Calculate the standard deviation of both variables.\n",
    "   - Standard deviation of advertising expenditure (σx):\n",
    "     √(((-1.8)^2 + 3.2^2 + 0.2^2 + (-3.8)^2 + 2.2^2) / 5) ≈ 3.015\n",
    "\n",
    "   - Standard deviation of sales (σy):\n",
    "     √(((-0.8)^2 + 4.2^2 + 2.2^2 + (-5.8)^2 + 0.2^2) / 5) ≈ 3.678\n",
    "\n",
    "6. Calculate the correlation coefficient (r) using the formula:\n",
    "   r = Σ((x - x̄) * (y - ȳ)) / (n * σx * σy)\n",
    "\n",
    "   - Correlation coefficient (r) ≈ 37.8 / (5 * 3.015 * 3.678) ≈ 0.353\n",
    "\n",
    "Therefore, the correlation coefficient between advertising expenditure and sales is approximately 0.353, indicating a moderate positive correlation."
   ]
  },
  {
   "cell_type": "code",
   "execution_count": 4,
   "id": "55fca058-4cad-4851-a857-d3958a532fd0",
   "metadata": {},
   "outputs": [
    {
     "data": {
      "text/plain": [
       "array([1560])"
      ]
     },
     "execution_count": 4,
     "metadata": {},
     "output_type": "execute_result"
    }
   ],
   "source": [
    "import numpy as np\n",
    "exp =[10,15,12,8,14]\n",
    "sales =[25,30,28,20,26]\n",
    "np.correlate(exp,sales)"
   ]
  },
  {
   "cell_type": "code",
   "execution_count": null,
   "id": "dd4f89fe-6245-41e1-b9d9-df65b46a1323",
   "metadata": {},
   "outputs": [],
   "source": []
  },
  {
   "cell_type": "code",
   "execution_count": null,
   "id": "c0cf25e3-72ff-4e1d-ad14-fed25a6e03ee",
   "metadata": {},
   "outputs": [],
   "source": []
  },
  {
   "cell_type": "code",
   "execution_count": null,
   "id": "b9c91d20-3f3d-47e8-bdc7-29b8b634bc17",
   "metadata": {},
   "outputs": [],
   "source": [
    "7. Scenario: A survey is conducted to measure the heights of a group of people. The data collected is as follows:\n",
    "   [160, 170, 165, 155, 175, 180, 170]\n",
    "   Calculate the standard deviation of the heights.\n",
    "\n"
   ]
  },
  {
   "cell_type": "code",
   "execution_count": 6,
   "id": "72fc05c7-9cc2-47cb-923d-95f1dafcf656",
   "metadata": {},
   "outputs": [
    {
     "name": "stdout",
     "output_type": "stream",
     "text": [
      "Standard Deviation: 7.953949089757174\n"
     ]
    }
   ],
   "source": [
    "import math\n",
    "\n",
    "heights = [160, 170, 165, 155, 175, 180, 170]\n",
    "\n",
    "mean_height = sum(heights) / len(heights)\n",
    "\n",
    "differences = [(height - mean_height) for height in heights]\n",
    "squared_differences = [diff ** 2 for diff in differences]\n",
    "mean_squared_diff = sum(squared_differences) / len(squared_differences)\n",
    "standard_deviation = math.sqrt(mean_squared_diff)\n",
    "\n",
    "print(\"Standard Deviation:\", standard_deviation)\n"
   ]
  },
  {
   "cell_type": "code",
   "execution_count": 7,
   "id": "cecd9a0b-b510-44f7-b1ca-34ccadf282ed",
   "metadata": {},
   "outputs": [
    {
     "data": {
      "text/plain": [
       "7.953949089757174"
      ]
     },
     "execution_count": 7,
     "metadata": {},
     "output_type": "execute_result"
    }
   ],
   "source": [
    "heights =[160,170,165,155,175,180,170]\n",
    "np.std(heights)"
   ]
  },
  {
   "cell_type": "code",
   "execution_count": null,
   "id": "5a35bc87-5201-4a98-b8d0-a99ba8aea4ae",
   "metadata": {},
   "outputs": [],
   "source": []
  },
  {
   "cell_type": "code",
   "execution_count": null,
   "id": "5b3bea4a-6d62-4f00-875f-6e57bd7bd3e1",
   "metadata": {},
   "outputs": [],
   "source": [
    "8. Scenario: A company wants to analyze the relationship between employee tenure and job satisfaction. The data collected is as follows:\n",
    "   Employee Tenure (in years): [2, 3, 5, 4, 6, 2, 4]\n",
    "   Job Satisfaction (on a scale of 1 to 10): [7, 8, 6, 9, 5, 7, 6]\n",
    "   Perform a linear regression analysis to predict job satisfaction based on employee tenure.\n"
   ]
  },
  {
   "cell_type": "code",
   "execution_count": null,
   "id": "07dba816-0d95-43f8-9885-9d04d012d1fc",
   "metadata": {},
   "outputs": [],
   "source": []
  },
  {
   "cell_type": "code",
   "execution_count": 15,
   "id": "4703eab1-1f67-45e9-9a02-68cf753c70ab",
   "metadata": {},
   "outputs": [
    {
     "name": "stdout",
     "output_type": "stream",
     "text": [
      "[[2]\n",
      " [3]\n",
      " [5]\n",
      " [4]\n",
      " [6]\n",
      " [2]\n",
      " [4]]\n",
      "[8.12765957 5.31914894 4.38297872]\n",
      "Coefficients: [-0.46808511]\n",
      "Intercept: 8.595744680851062\n"
     ]
    },
    {
     "data": {
      "image/png": "[encoded data removed]",
      "text/plain": [
       "<Figure size 640x480 with 1 Axes>"
      ]
     },
     "metadata": {},
     "output_type": "display_data"
    }
   ],
   "source": [
    "import numpy as np\n",
    "from sklearn.linear_model import LinearRegression\n",
    "import matplotlib.pyplot as plt\n",
    "\n",
    "tenure = np.array([2, 3, 5, 4, 6, 2, 4])\n",
    "satisfaction = np.array([7, 8, 6, 9, 5, 7, 6])\n",
    "\n",
    "# Reshape the tenure array\n",
    "tenure_reshaped = tenure.reshape(-1, 1)\n",
    "\n",
    "print(tenure_reshaped)\n",
    "\n",
    "# Create an instance of the linear regression model\n",
    "model = LinearRegression()\n",
    "\n",
    "# Fit the model to the data\n",
    "pnts =model.fit(tenure_reshaped, satisfaction)\n",
    "#print(pnts)\n",
    "\n",
    "# Predict job satisfaction for new tenure values\n",
    "new_tenure = np.array([[1], [7], [9]])\n",
    "predicted_satisfaction = model.predict(new_tenure)\n",
    "\n",
    "print(predicted_satisfaction)\n",
    "\n",
    "# Print the coefficients and intercept of the model\n",
    "print(\"Coefficients:\", model.coef_)\n",
    "print(\"Intercept:\", model.intercept_)\n",
    "\n",
    "# Plot the data points and the linear regression line\n",
    "plt.scatter(tenure, satisfaction, color='blue', label='Data')\n",
    "plt.plot(tenure, model.predict(tenure_reshaped), color='red', label='Linear Regression')\n",
    "plt.xlabel('Employee Tenure')\n",
    "plt.ylabel('Job Satisfaction')\n",
    "plt.title('Linear Regression Analysis')\n",
    "plt.legend()\n",
    "plt.show()\n"
   ]
  },
  {
   "cell_type": "code",
   "execution_count": null,
   "id": "5382ca81-e090-42bd-9d9c-1680a221e6fd",
   "metadata": {},
   "outputs": [],
   "source": []
  },
  {
   "cell_type": "code",
   "execution_count": null,
   "id": "38c674d2-3a08-45e3-a99e-3eb0ae148af2",
   "metadata": {},
   "outputs": [],
   "source": []
  },
  {
   "cell_type": "code",
   "execution_count": null,
   "id": "be50bc61-0f65-434b-b8b2-4d0f44ebf74d",
   "metadata": {},
   "outputs": [],
   "source": []
  },
  {
   "cell_type": "code",
   "execution_count": null,
   "id": "bd84c7ef-9e1c-42b6-b5c5-6beb2f372295",
   "metadata": {},
   "outputs": [],
   "source": [
    "9. Scenario: A study is conducted to compare the effectiveness of two different medications. The recovery times of the patients in each group are as follows:\n",
    "   Medication A: [10, 12, 14, 11, 13]\n",
    "   Medication B: [15, 17, 16, 14, 18]\n",
    "   Perform an analysis of variance (ANOVA) to determine if there is a significant difference in the mean recovery times between the two medications.\n"
   ]
  },
  {
   "cell_type": "code",
   "execution_count": null,
   "id": "cebbd5d7-483a-4897-adb2-fcdc365442ba",
   "metadata": {},
   "outputs": [],
   "source": [
    "To perform an analysis of variance (ANOVA) manually, you can follow these steps:\n",
    "\n",
    "1. Calculate the mean recovery time for each group.\n",
    "\n",
    "   Medication A: (10 + 12 + 14 + 11 + 13) / 5 = 12\n",
    "   Medication B: (15 + 17 + 16 + 14 + 18) / 5 = 16\n",
    "\n",
    "2. Calculate the overall mean recovery time.\n",
    "\n",
    "   Overall mean = (12 + 16) / 2 = 14\n",
    "\n",
    "3. Calculate the sum of squares between groups (SSbetween). SSbetween measures the variability between the group means.\n",
    "\n",
    "   SSbetween = (nA * (meanA - overall mean)^2) + (nB * (meanB - overall mean)^2)\n",
    "\n",
    "   nA = number of patients in Medication A = 5\n",
    "   nB = number of patients in Medication B = 5\n",
    "   meanA = mean recovery time for Medication A = 12\n",
    "   meanB = mean recovery time for Medication B = 16\n",
    "   overall mean = 14\n",
    "\n",
    "   SSbetween = (5 * (12 - 14)^2) + (5 * (16 - 14)^2) = 40 + 40 = 80\n",
    "\n",
    "4. Calculate the sum of squares within groups (SSwithin). SSwithin measures the variability within each group.\n",
    "\n",
    "   SSwithin = Σ((xi - meani)^2)\n",
    "\n",
    "   xi = individual recovery time in each group\n",
    "   meani = mean recovery time in each group\n",
    "\n",
    "   SSwithin for Medication A = (10 - 12)^2 + (12 - 12)^2 + (14 - 12)^2 + (11 - 12)^2 + (13 - 12)^2 = 2 + 0 + 2 + 1 + 1 = 6\n",
    "   SSwithin for Medication B = (15 - 16)^2 + (17 - 16)^2 + (16 - 16)^2 + (14 - 16)^2 + (18 - 16)^2 = 1 + 1 + 0 + 4 + 4 = 10\n",
    "\n",
    "   SSwithin = SSwithin for Medication A + SSwithin for Medication B = 6 + 10 = 16\n",
    "\n",
    "5. Calculate the degrees of freedom (df) for both SSbetween and SSwithin.\n",
    "\n",
    "   dfbetween = number of groups - 1 = 2 - 1 = 1\n",
    "   dfwithin = total number of observations - number of groups = 10 - 2 = 8\n",
    "\n",
    "6. Calculate the mean squares between groups (MSbetween).\n",
    "\n",
    "   MSbetween = SSbetween / dfbetween = 80 / 1 = 80\n",
    "\n",
    "7. Calculate the mean squares within groups (MSwithin).\n",
    "\n",
    "   MSwithin = SSwithin / dfwithin = 16 / 8 = 2\n",
    "\n",
    "8. Calculate the F-statistic.\n",
    "\n",
    "   F = MSbetween / MSwithin = 80 / 2 = 40\n",
    "\n",
    "9. Look up the critical F-value from the F-distribution table for the given significance level (α) and degrees of freedom (dfbetween and dfwithin). For a two-tailed test with α = 0.05 and dfbetween = 1 and dfwithin = 8, the critical F-value is approximately 5.32.\n",
    "\n",
    "10. Compare the calculated F-statistic to the critical F-value. If the calculated F-statistic is greater than the critical F-value, reject the null hypothesis. Otherwise, fail to reject the null hypothesis.\n",
    "\n",
    "   Since 40 is greater than 5.32, we reject the null hypothesis.\n",
    "\n",
    "Therefore, there is a significant difference in the mean recovery times between the two medications based on the analysis of variance (ANOVA)."
   ]
  },
  {
   "cell_type": "code",
   "execution_count": null,
   "id": "007ecaa1-24ea-4b95-9ae2-ff6c72bdfb2b",
   "metadata": {},
   "outputs": [],
   "source": []
  },
  {
   "cell_type": "code",
   "execution_count": null,
   "id": "eae9e91f-4c20-4122-9b7e-3d013f38601f",
   "metadata": {},
   "outputs": [],
   "source": []
  },
  {
   "cell_type": "markdown",
   "id": "2d69b786-53d0-49ea-b3c2-6a5cb7380b02",
   "metadata": {},
   "source": [
    "10. Scenario: A company wants to analyze customer feedback ratings on a scale of 1 to 10. The data collected is as follows: [8, 9, 7, 6, 8, 10, 9, 8, 7, 8] Calculate the 75th percentile of  the feedback ratings.\n"
   ]
  },
  {
   "cell_type": "code",
   "execution_count": null,
   "id": "9087e01d-3428-4f32-91fa-4a7e8838f91b",
   "metadata": {},
   "outputs": [],
   "source": []
  },
  {
   "cell_type": "code",
   "execution_count": 20,
   "id": "cc282126-25cd-4223-bcc3-ea6c18b890a3",
   "metadata": {},
   "outputs": [
    {
     "data": {
      "image/png": "[encoded data removed]",
      "text/plain": [
       "<Figure size 640x480 with 1 Axes>"
      ]
     },
     "metadata": {},
     "output_type": "display_data"
    }
   ],
   "source": [
    "import matplotlib.pyplot as plt\n",
    "\n",
    "ratings = [8, 9, 7, 6, 8, 10, 9, 8, 7, 8]\n",
    "\n",
    "# Create a box plot\n",
    "plt.boxplot(ratings)\n",
    "\n",
    "# Highlight the 75th percentile\n",
    "plt.scatter(1, np.percentile(ratings, 75), color='red', label='75th percentile')\n",
    "\n",
    "# Add labels and title\n",
    "plt.xlabel('Ratings')\n",
    "plt.ylabel('Value')\n",
    "plt.title('Box Plot')\n",
    "\n",
    "plt.legend()\n",
    "\n",
    "# Display the plot\n",
    "plt.show()\n"
   ]
  },
  {
   "cell_type": "code",
   "execution_count": 19,
   "id": "0d7f682b-8c8b-404a-a06f-5f53a1ee3fbe",
   "metadata": {},
   "outputs": [
    {
     "name": "stdout",
     "output_type": "stream",
     "text": [
      "[ 6  7  7  8  8  8  8  9  9 10]\n",
      "75th percentile: 8.75\n"
     ]
    }
   ],
   "source": [
    "import numpy as np\n",
    "\n",
    "ratings = np.array([8, 9, 7, 6, 8, 10, 9, 8, 7, 8])\n",
    "ratings.sort()\n",
    "print(ratings)\n",
    "# Calculate the 75th percentile\n",
    "percentile_75 = np.percentile(ratings, 75)\n",
    "\n",
    "print(\"75th percentile:\", percentile_75)\n"
   ]
  },
  {
   "cell_type": "code",
   "execution_count": null,
   "id": "e3a67741-a599-418e-8d62-662c7bad4d26",
   "metadata": {},
   "outputs": [],
   "source": []
  },
  {
   "cell_type": "markdown",
   "id": "52fd1773-270a-41ed-b9a5-3b02d8e9efef",
   "metadata": {},
   "source": [
    "11. Scenario: A quality control department wants to test the weight consistency of a product. The weights of a sample of products are as follows:\n",
    "    [10.2, 9.8, 10.0, 10.5, 10.3, 10.1]\n",
    "    Perform a hypothesis test to determine if the mean weight differs significantly from 10 grams.\n"
   ]
  },
  {
   "cell_type": "code",
   "execution_count": null,
   "id": "d4ea86ae-3941-4ff9-b6f1-7aa92407aae2",
   "metadata": {},
   "outputs": [],
   "source": [
    "H0: The mean weight is equal to 10 grams.\n",
    "Ha: The mean weight is not equal to 10 grams.\n",
    "\n",
    "alpha =0.05"
   ]
  },
  {
   "cell_type": "code",
   "execution_count": 22,
   "id": "b4491afc-5d23-4c44-a827-6ba25a20eccc",
   "metadata": {},
   "outputs": [
    {
     "name": "stdout",
     "output_type": "stream",
     "text": [
      "1.5126584522688367\n",
      "0.19077595151110102\n",
      "Fail to reject the null hypothesis. The mean weight does not differ significantly from 10 grams.\n"
     ]
    }
   ],
   "source": [
    "import numpy as np\n",
    "from scipy import stats\n",
    "\n",
    "# Given data\n",
    "weights = np.array([10.2, 9.8, 10.0, 10.5, 10.3, 10.1])\n",
    "\n",
    "# Hypothesized mean\n",
    "hypothesized_mean = 10\n",
    "\n",
    "# Perform one-sample t-test\n",
    "t_statistic, p_value = stats.ttest_1samp(weights, hypothesized_mean)\n",
    "\n",
    "print(t_statistic)\n",
    "print(p_value)\n",
    "# Define the significance level\n",
    "alpha = 0.05\n",
    "\n",
    "# Compare the p-value with the significance level\n",
    "if p_value < alpha:\n",
    "    print(\"Reject the null hypothesis. The mean weight differs significantly from 10 grams.\")\n",
    "else:\n",
    "    print(\"Fail to reject the null hypothesis. The mean weight does not differ significantly from 10 grams.\")\n"
   ]
  },
  {
   "cell_type": "code",
   "execution_count": null,
   "id": "2a0146f4-18a8-4b64-ba62-181ba180524f",
   "metadata": {},
   "outputs": [],
   "source": []
  },
  {
   "cell_type": "code",
   "execution_count": null,
   "id": "c4662ded-f40e-4edb-8486-16346862f05f",
   "metadata": {},
   "outputs": [],
   "source": []
  },
  {
   "cell_type": "code",
   "execution_count": null,
   "id": "a3b58de3-6781-4b23-9f4b-8837e338c281",
   "metadata": {},
   "outputs": [],
   "source": [
    "\n",
    "12. Scenario: A company wants to analyze the click-through rates of two different website designs. The number of clicks for each design is as follows:\n",
    "    Design A: [100, 120, 110, 90, 95]\n",
    "    Design B: [80, 85, 90, 95, 100]\n",
    "    Perform a chi-square test to determine if there is a significant difference in the click-through rates between the two designs.\n",
    "\n"
   ]
  },
  {
   "cell_type": "code",
   "execution_count": null,
   "id": "c69ba8c2-03c7-44a8-a453-08d0655c1b1d",
   "metadata": {},
   "outputs": [],
   "source": [
    "H0: click through rates of two designs are same\n",
    "Ha: click through rates are different with each other\n",
    "\n",
    "\n",
    "alpha =0.05"
   ]
  },
  {
   "cell_type": "code",
   "execution_count": 27,
   "id": "695b7a70-0288-4c9a-ba68-0157045b8f3b",
   "metadata": {},
   "outputs": [],
   "source": [
    "Design_A =[100,120,110,90,95]\n",
    "Design_B =[80,85,90,95,100]\n",
    "\n",
    "mn_dA =np.median(Design_A)\n",
    "mn_dB =np.median(Design_B)"
   ]
  },
  {
   "cell_type": "code",
   "execution_count": 28,
   "id": "2d2fbe0d-42f3-4594-b945-985428df2cb9",
   "metadata": {},
   "outputs": [
    {
     "data": {
      "text/plain": [
       "(100.0, 90.0)"
      ]
     },
     "execution_count": 28,
     "metadata": {},
     "output_type": "execute_result"
    }
   ],
   "source": [
    "(mn_dA,mn_dB)"
   ]
  },
  {
   "cell_type": "code",
   "execution_count": 29,
   "id": "b19b3d10-3677-4e34-a2de-27477f79bc00",
   "metadata": {},
   "outputs": [],
   "source": [
    "chi2_A =np.sum((Design_A-mn_dA)**2 /mn_dA)\n",
    "chi2_B =np.sum((Design_B-mn_dB)**2 /mn_dB)"
   ]
  },
  {
   "cell_type": "code",
   "execution_count": 30,
   "id": "572d27c2-b79e-455c-a77a-14d3f171b753",
   "metadata": {},
   "outputs": [
    {
     "data": {
      "text/plain": [
       "(6.25, 2.7777777777777777)"
      ]
     },
     "execution_count": 30,
     "metadata": {},
     "output_type": "execute_result"
    }
   ],
   "source": [
    "chi2_A,chi2_B"
   ]
  },
  {
   "cell_type": "code",
   "execution_count": null,
   "id": "71d6f524-0c09-4861-bd4c-de958b0b75b9",
   "metadata": {},
   "outputs": [],
   "source": [
    "From above chi2 tests we can clearly say that there is existence of significane difference"
   ]
  },
  {
   "cell_type": "code",
   "execution_count": null,
   "id": "04e8ee9b-9463-4163-acb4-6891f788d12c",
   "metadata": {},
   "outputs": [],
   "source": []
  },
  {
   "cell_type": "code",
   "execution_count": 32,
   "id": "bef88311-aead-46f2-b968-9dbc9cf1f43c",
   "metadata": {},
   "outputs": [
    {
     "ename": "TypeError",
     "evalue": "unsupported operand type(s) for -: 'chi2_gen' and 'int'",
     "output_type": "error",
     "traceback": [
      "\u001b[0;31m---------------------------------------------------------------------------\u001b[0m",
      "\u001b[0;31mTypeError\u001b[0m                                 Traceback (most recent call last)",
      "Cell \u001b[0;32mIn[32], line 22\u001b[0m\n\u001b[1;32m     20\u001b[0m \u001b[38;5;66;03m# Perform chi-square test\u001b[39;00m\n\u001b[1;32m     21\u001b[0m \u001b[38;5;28;01mfrom\u001b[39;00m \u001b[38;5;21;01mscipy\u001b[39;00m\u001b[38;5;21;01m.\u001b[39;00m\u001b[38;5;21;01mstats\u001b[39;00m \u001b[38;5;28;01mimport\u001b[39;00m chi2\n\u001b[0;32m---> 22\u001b[0m p_value \u001b[38;5;241m=\u001b[39m \u001b[38;5;241m1\u001b[39m\u001b[38;5;241m-\u001b[39m\u001b[43mchi2\u001b[49m\u001b[38;5;241;43m.\u001b[39;49m\u001b[43mcdf\u001b[49m\u001b[43m(\u001b[49m\u001b[43mchi2\u001b[49m\u001b[43m,\u001b[49m\u001b[43m \u001b[49m\u001b[43mdf\u001b[49m\u001b[43m)\u001b[49m\n\u001b[1;32m     24\u001b[0m \u001b[38;5;66;03m# Print the chi-square statistic and p-value\u001b[39;00m\n\u001b[1;32m     25\u001b[0m \u001b[38;5;28mprint\u001b[39m(\u001b[38;5;124m\"\u001b[39m\u001b[38;5;124mChi-square statistic:\u001b[39m\u001b[38;5;124m\"\u001b[39m, chi2)\n",
      "File \u001b[0;32m/opt/conda/lib/python3.10/site-packages/scipy/stats/_distn_infrastructure.py:2168\u001b[0m, in \u001b[0;36mrv_continuous.cdf\u001b[0;34m(self, x, *args, **kwds)\u001b[0m\n\u001b[1;32m   2166\u001b[0m _a, _b \u001b[38;5;241m=\u001b[39m \u001b[38;5;28mself\u001b[39m\u001b[38;5;241m.\u001b[39m_get_support(\u001b[38;5;241m*\u001b[39margs)\n\u001b[1;32m   2167\u001b[0m dtyp \u001b[38;5;241m=\u001b[39m np\u001b[38;5;241m.\u001b[39mfind_common_type([x\u001b[38;5;241m.\u001b[39mdtype, np\u001b[38;5;241m.\u001b[39mfloat64], [])\n\u001b[0;32m-> 2168\u001b[0m x \u001b[38;5;241m=\u001b[39m np\u001b[38;5;241m.\u001b[39masarray((\u001b[43mx\u001b[49m\u001b[43m \u001b[49m\u001b[38;5;241;43m-\u001b[39;49m\u001b[43m \u001b[49m\u001b[43mloc\u001b[49m)\u001b[38;5;241m/\u001b[39mscale, dtype\u001b[38;5;241m=\u001b[39mdtyp)\n\u001b[1;32m   2169\u001b[0m cond0 \u001b[38;5;241m=\u001b[39m \u001b[38;5;28mself\u001b[39m\u001b[38;5;241m.\u001b[39m_argcheck(\u001b[38;5;241m*\u001b[39margs) \u001b[38;5;241m&\u001b[39m (scale \u001b[38;5;241m>\u001b[39m \u001b[38;5;241m0\u001b[39m)\n\u001b[1;32m   2170\u001b[0m cond1 \u001b[38;5;241m=\u001b[39m \u001b[38;5;28mself\u001b[39m\u001b[38;5;241m.\u001b[39m_open_support_mask(x, \u001b[38;5;241m*\u001b[39margs) \u001b[38;5;241m&\u001b[39m (scale \u001b[38;5;241m>\u001b[39m \u001b[38;5;241m0\u001b[39m)\n",
      "\u001b[0;31mTypeError\u001b[0m: unsupported operand type(s) for -: 'chi2_gen' and 'int'"
     ]
    }
   ],
   "source": [
    "import numpy as np\n",
    "\n",
    "# Observed frequencies\n",
    "observed = np.array([[100, 120, 110, 90, 95],\n",
    "                    [80, 85, 90, 95, 100]])\n",
    "\n",
    "# Calculate expected frequencies\n",
    "row_totals = observed.sum(axis=1)\n",
    "col_totals = observed.sum(axis=0)\n",
    "total = observed.sum()\n",
    "expected = np.outer(row_totals, col_totals) / total\n",
    "\n",
    "# Calculate chi-square statistic\n",
    "chi2 = np.sum((observed - expected)**2 / expected)\n",
    "\n",
    "# Determine degrees of freedom\n",
    "rows, cols = observed.shape\n",
    "df = (rows - 1) * (cols - 1)\n",
    "\n",
    "# Perform chi-square test\n",
    "from scipy.stats import chi2\n",
    "p_value = 1-chi2.cdf(chi2, df)\n",
    "\n",
    "# Print the chi-square statistic and p-value\n",
    "print(\"Chi-square statistic:\", chi2)\n",
    "print(\"P-value:\", p_value)\n"
   ]
  },
  {
   "cell_type": "code",
   "execution_count": null,
   "id": "1d239fec-187c-43ac-b13b-414daaeee750",
   "metadata": {},
   "outputs": [],
   "source": []
  },
  {
   "cell_type": "code",
   "execution_count": 31,
   "id": "8d21c1d4-ed1c-49b7-b6c9-9b4c9346e389",
   "metadata": {},
   "outputs": [
    {
     "data": {
      "text/plain": [
       "-1"
      ]
     },
     "execution_count": 31,
     "metadata": {},
     "output_type": "execute_result"
    }
   ],
   "source": [
    "3-4"
   ]
  },
  {
   "cell_type": "code",
   "execution_count": null,
   "id": "983ffdb5-9760-4d45-8cab-2fc656d82a99",
   "metadata": {},
   "outputs": [],
   "source": []
  },
  {
   "cell_type": "code",
   "execution_count": null,
   "id": "e7e7976e-34b4-472c-9eb7-fb2b4b12a4ab",
   "metadata": {},
   "outputs": [],
   "source": [
    "from chisquare table with 0.05 significance value and 5 degree of freedom we have critical value as 9.488"
   ]
  },
  {
   "cell_type": "code",
   "execution_count": null,
   "id": "d7f20cab-9b05-4747-b23e-5a5e3fddce8e",
   "metadata": {},
   "outputs": [],
   "source": []
  },
  {
   "cell_type": "code",
   "execution_count": null,
   "id": "8549b379-8369-4006-aaeb-d29b8d4f11bb",
   "metadata": {},
   "outputs": [],
   "source": []
  },
  {
   "cell_type": "markdown",
   "id": "c3b1529e-aae8-452d-a69e-d0f4a9210fc0",
   "metadata": {},
   "source": [
    "13. Scenario: A survey is conducted to measure customer satisfaction with a product on a scale of 1 to 10. The data collected is as follows:\n",
    "    [7, 9, 6, 8, 10, 7, 8, 9, 7, 8]\n",
    "    Calculate the 95% confidence interval for the population mean satisfaction score.\n",
    "\n"
   ]
  },
  {
   "cell_type": "code",
   "execution_count": 87,
   "id": "3b646814-bb98-4bb7-9046-b7a9b1992f20",
   "metadata": {},
   "outputs": [
    {
     "name": "stdout",
     "output_type": "stream",
     "text": [
      "Confidence Interval: [7.04, 8.76]\n"
     ]
    }
   ],
   "source": [
    "import numpy as np\n",
    "from scipy import stats\n",
    "\n",
    "# Customer satisfaction scores\n",
    "scores = [7, 9, 6, 8, 10, 7, 8, 9, 7, 8]\n",
    "\n",
    "# Calculate the sample mean and standard deviation\n",
    "sample_mean = np.mean(scores)\n",
    "sample_std = np.std(scores, ddof=1)\n",
    "\n",
    "# Set the confidence level (1 - alpha)\n",
    "confidence_level = 0.95\n",
    "\n",
    "# Calculate the critical value (z-score) based on the confidence level\n",
    "critical_value = stats.t.ppf((1 + confidence_level) / 2, df=len(scores) - 1)\n",
    "\n",
    "# Calculate the margin of error\n",
    "margin_of_error = critical_value * (sample_std / np.sqrt(len(scores)))\n",
    "\n",
    "# Calculate the lower and upper bounds of the confidence interval\n",
    "lower_bound = sample_mean - margin_of_error\n",
    "upper_bound = sample_mean + margin_of_error\n",
    "\n",
    "# Print the confidence interval\n",
    "print(\"Confidence Interval: [{:.2f}, {:.2f}]\".format(lower_bound, upper_bound))\n"
   ]
  },
  {
   "cell_type": "code",
   "execution_count": null,
   "id": "76b4aa38-8988-4051-8e5f-3a332c016162",
   "metadata": {},
   "outputs": [],
   "source": []
  },
  {
   "cell_type": "code",
   "execution_count": null,
   "id": "e07e50a5-7c65-4c15-bbae-f827f3c54273",
   "metadata": {},
   "outputs": [],
   "source": []
  },
  {
   "cell_type": "code",
   "execution_count": null,
   "id": "1fb8ed46-8d63-442c-864a-9796f187af7b",
   "metadata": {},
   "outputs": [],
   "source": [
    "14. Scenario: A company wants to analyze the effect of temperature on product performance. The data collected is as follows:\n",
    "    Temperature (in degrees Celsius): [20, 22, 23, 19, 21]\n",
    "    Performance (on a scale of 1 to 10): [8, 7, 9, 6, 8]\n",
    "    Perform a simple linear regression to predict performance based on temperature.\n"
   ]
  },
  {
   "cell_type": "code",
   "execution_count": 84,
   "id": "17359773-199f-4b0d-b237-3618e99cd8a5",
   "metadata": {},
   "outputs": [
    {
     "name": "stdout",
     "output_type": "stream",
     "text": [
      "Regression Equation: Performance = 0.5000000000000012 * Temperature + -2.9000000000000314\n"
     ]
    },
    {
     "data": {
      "image/png": "[encoded data removed]",
      "text/plain": [
       "<Figure size 640x480 with 1 Axes>"
      ]
     },
     "metadata": {},
     "output_type": "display_data"
    }
   ],
   "source": [
    "import numpy as np\n",
    "import matplotlib.pyplot as plt\n",
    "\n",
    "# Temperature (in degrees Celsius)\n",
    "temperature = [20, 22, 23, 19, 21]\n",
    "\n",
    "# Performance (on a scale of 1 to 10)\n",
    "performance = [8, 7, 9, 6, 8]\n",
    "\n",
    "# Perform simple linear regression\n",
    "coefficients = np.polyfit(temperature, performance, 1)\n",
    "slope = coefficients[0]\n",
    "intercept = coefficients[1]\n",
    "\n",
    "# Print the regression equation\n",
    "print(\"Regression Equation: Performance =\", slope, \"* Temperature +\", intercept)\n",
    "\n",
    "# Generate the regression line\n",
    "regression_line = slope * np.array(temperature) + intercept\n",
    "\n",
    "# Plot the data points and regression line\n",
    "plt.scatter(temperature, performance, color='b', label='Data Points')\n",
    "plt.plot(temperature, regression_line, color='r', label='Regression Line')\n",
    "plt.xlabel('Temperature (degrees Celsius)')\n",
    "plt.ylabel('Performance')\n",
    "plt.title('Linear Regression: Temperature vs. Performance')\n",
    "plt.legend()\n",
    "plt.show()\n"
   ]
  },
  {
   "cell_type": "code",
   "execution_count": null,
   "id": "151cd2e9-6e8a-4dfb-a05c-a8332b6bf173",
   "metadata": {},
   "outputs": [],
   "source": []
  },
  {
   "cell_type": "code",
   "execution_count": null,
   "id": "c7d26144-a8ba-453f-9074-e4e78fa4ebc6",
   "metadata": {},
   "outputs": [],
   "source": []
  },
  {
   "cell_type": "code",
   "execution_count": null,
   "id": "1f227b07-8bb7-4d25-906f-4623950f8e57",
   "metadata": {},
   "outputs": [],
   "source": [
    "15. Scenario: A study is conducted to compare the preferences of two groups of participants. The preferences are measured on a Likert scale from 1 to 5. The data collected is as follows:\n",
    "    Group A: [4, 3, 5, 2, 4]\n",
    "    Group B: [3, 2, 4, 3, 3]\n",
    "    Perform a Mann-Whitney U test to determine if there is a significant difference in the median preferences between the two groups.\n"
   ]
  },
  {
   "cell_type": "code",
   "execution_count": null,
   "id": "ec5d3313-58e6-4204-8312-affeb7a17eef",
   "metadata": {},
   "outputs": [],
   "source": [
    "To perform a Mann-Whitney U test manually, you can follow these steps:\n",
    "\n",
    "1. Combine the preferences of both groups and rank them in ascending order.\n",
    "\n",
    "   All preferences: [4, 3, 5, 2, 4, 3, 2, 4, 3, 3]\n",
    "\n",
    "2. Assign ranks to the preferences, considering ties. Assign the average rank for tied values.\n",
    "\n",
    "   All preferences: [4, 3, 5, 2, 4, 3, 2, 4, 3, 3]\n",
    "   Ranks: [7, 4.5, 10, 1, 7, 4.5, 1, 7, 4.5, 4.5]\n",
    "\n",
    "3. Calculate the sum of ranks for each group.\n",
    "\n",
    "   Group A: 7 + 4.5 + 10 + 1 + 7 = 29.5\n",
    "   Group B: 4.5 + 1 + 7 + 4.5 + 4.5 = 22\n",
    "\n",
    "4. Calculate the U statistic for each group. U statistic for Group A is the sum of ranks in Group A minus (nA * (nA + 1)) / 2, where nA is the number of samples in Group A. U statistic for Group B is the sum of ranks in Group B minus (nB * (nB + 1)) / 2, where nB is the number of samples in Group B.\n",
    "\n",
    "   Group A: 29.5 - (5 * (5 + 1)) / 2 = 29.5 - 15 = 14.5\n",
    "   Group B: 22 - (5 * (5 + 1)) / 2 = 22 - 15 = 7\n",
    "\n",
    "5. Determine the smaller U statistic.\n",
    "\n",
    "   Smaller U statistic: min(14.5, 7) = 7\n",
    "\n",
    "6. Calculate the expected value of U (Ue) using the formula:\n",
    "\n",
    "   Ue = (nA * nB) / 2\n",
    "\n",
    "   nA = number of samples in Group A = 5\n",
    "   nB = number of samples in Group B = 5\n",
    "\n",
    "   Ue = (5 * 5) / 2 = 25 / 2 = 12.5\n",
    "\n",
    "7. Calculate the standard deviation of U (σU) using the formula:\n",
    "\n",
    "   σU = sqrt((nA * nB * (nA + nB + 1)) / 12)\n",
    "\n",
    "   σU = sqrt((5 * 5 * (5 + 5 + 1)) / 12) = sqrt(275 / 12) ≈ 5.07\n",
    "\n",
    "8. Calculate the z-score using the formula:\n",
    "\n",
    "   z = (U - Ue) / σU\n",
    "\n",
    "   z = (7 - 12.5) / 5.07 ≈ -1.09\n",
    "\n",
    "9. Look up the critical z-value from the standard normal distribution table for the given significance level (α). For a two-tailed test with α = 0.05, the critical z-value is approximately ±1.96.\n",
    "\n",
    "10. Compare the calculated z-score to the critical z-value. If the calculated z-score falls within the critical region (outside the range of -1.96 to 1.96), reject the null hypothesis. Otherwise, fail to reject the null hypothesis.\n",
    "\n",
    "   Since -1.09 falls within the range of -1.96 to 1.96, we fail to reject the null hypothesis.\n",
    "\n",
    "Therefore, there is no significant difference in the median preferences between the two groups based on the Mann-Whitney U test."
   ]
  },
  {
   "cell_type": "code",
   "execution_count": null,
   "id": "1d215fc9-8e79-4ced-aee0-cc718273bd6c",
   "metadata": {},
   "outputs": [],
   "source": []
  },
  {
   "cell_type": "code",
   "execution_count": null,
   "id": "c96b4c1b-303b-4007-9fc9-1db7bdd53957",
   "metadata": {},
   "outputs": [],
   "source": []
  },
  {
   "cell_type": "markdown",
   "id": "c284bd2a-3887-4c09-b22b-dab1b0337420",
   "metadata": {},
   "source": [
    "16. Scenario: A company wants to analyze the distribution of customer ages. The data collected is as follows:\n",
    "    [25, 30, 35, 40, 45, 50, 55, 60, 65, 70]\n",
    "    Calculate the interquartile range (IQR) of the ages.\n",
    "\n"
   ]
  },
  {
   "cell_type": "code",
   "execution_count": 82,
   "id": "4d367b4d-2f0f-4e5a-963d-b651833828bd",
   "metadata": {},
   "outputs": [
    {
     "name": "stdout",
     "output_type": "stream",
     "text": [
      "36.25 58.75\n"
     ]
    }
   ],
   "source": [
    "import numpy as np\n",
    "ages = [25,30,35,40,45,50,55,60,65,70]\n",
    "q1 =np.percentile(ages,25)\n",
    "q3 =np.percentile(ages,75)\n",
    "print(q1,q3)\n",
    "iqr =q3-q1\n",
    "#print(iqr)"
   ]
  },
  {
   "cell_type": "code",
   "execution_count": 83,
   "id": "b0f47e07-b10d-480b-8057-a6a99d0a0b46",
   "metadata": {},
   "outputs": [
    {
     "data": {
      "text/plain": [
       "22.5"
      ]
     },
     "execution_count": 83,
     "metadata": {},
     "output_type": "execute_result"
    }
   ],
   "source": [
    "iqr"
   ]
  },
  {
   "cell_type": "code",
   "execution_count": null,
   "id": "edd445be-ef75-4a93-8c8d-44fe927dbc98",
   "metadata": {},
   "outputs": [],
   "source": []
  },
  {
   "cell_type": "markdown",
   "id": "dba1df53-3e8a-4e72-9414-78b9a5d8db27",
   "metadata": {},
   "source": [
    "17. Scenario: A study is conducted to compare the performance of three different machine learning algorithms. The accuracy scores for each algorithm are as follows:\n",
    "    Algorithm A: [0.85, 0.80, 0.82, 0.87, 0.83]\n",
    "    Algorithm B: [0.78, 0.82, 0.84, 0.80, 0.79]\n",
    "    Algorithm C: [0.90, 0.88, 0.89, 0.86, 0.87]\n",
    "    Perform a Kruskal-Wallis test to determine if there is a significant difference in the median accuracy scores between the algorithms.\n",
    "\n"
   ]
  },
  {
   "cell_type": "code",
   "execution_count": null,
   "id": "683dda52-fe7b-433d-80ee-b360ca876b69",
   "metadata": {},
   "outputs": [],
   "source": [
    "To perform a Kruskal-Wallis test manually, you can follow these steps:\n",
    "\n",
    "1. Rank the accuracy scores across all algorithms from lowest to highest, ignoring ties. Assign a rank to each score.\n",
    "\n",
    "   Algorithm A: [0.85, 0.80, 0.82, 0.87, 0.83] -> [4, 1, 2, 5, 3]\n",
    "   Algorithm B: [0.78, 0.82, 0.84, 0.80, 0.79] -> [1, 3, 4, 2, 1]\n",
    "   Algorithm C: [0.90, 0.88, 0.89, 0.86, 0.87] -> [5, 4, 5, 3, 4]\n",
    "\n",
    "2. Calculate the sum of ranks for each algorithm.\n",
    "\n",
    "   Algorithm A: 4 + 1 + 2 + 5 + 3 = 15\n",
    "   Algorithm B: 1 + 3 + 4 + 2 + 1 = 11\n",
    "   Algorithm C: 5 + 4 + 5 + 3 + 4 = 21\n",
    "\n",
    "3. Calculate the mean rank for each algorithm.\n",
    "\n",
    "   Algorithm A: 15 / 5 = 3\n",
    "   Algorithm B: 11 / 5 = 2.2\n",
    "   Algorithm C: 21 / 5 = 4.2\n",
    "\n",
    "4. Calculate the sum of squared deviations for each algorithm.\n",
    "\n",
    "   Algorithm A: (4 - 3)^2 + (1 - 3)^2 + (2 - 3)^2 + (5 - 3)^2 + (3 - 3)^2 = 6\n",
    "   Algorithm B: (1 - 2.2)^2 + (3 - 2.2)^2 + (4 - 2.2)^2 + (2 - 2.2)^2 + (1 - 2.2)^2 = 4.8\n",
    "   Algorithm C: (5 - 4.2)^2 + (4 - 4.2)^2 + (5 - 4.2)^2 + (3 - 4.2)^2 + (4 - 4.2)^2 = 2.8\n",
    "\n",
    "5. Calculate the Kruskal-Wallis H statistic using the formula:\n",
    "\n",
    "   H = (12 / (n * (n + 1))) * Σ((R_i - (n + 1) / 2)^2 / ni)\n",
    "\n",
    "   n = total number of samples = 15\n",
    "   R_i = sum of ranks for each algorithm\n",
    "   ni = number of samples in each group\n",
    "\n",
    "   H = (12 / (15 * (15 + 1))) * ((6 / 5) + (4.8 / 5) + (2.8 / 5))\n",
    "     ≈ 0.137\n",
    "\n",
    "6. Determine the degrees of freedom (df) using the formula:\n",
    "\n",
    "   df = k - 1\n",
    "\n",
    "   k = number of groups = 3\n",
    "\n",
    "   df = 3 - 1 = 2\n",
    "\n",
    "7. Compare the calculated H statistic to the critical value from the chi-square distribution table for the given significance level (α) and degrees of freedom (df). If the calculated H statistic is greater than the critical value, reject the null hypothesis. Otherwise, fail to reject the null hypothesis.\n",
    "\n",
    "   The critical value for α = 0.05 and df = 2 is approximately 5.991.\n",
    "\n",
    "   Since 0.137 < 5.991, we fail to reject the null hypothesis.\n",
    "\n",
    "Therefore, there is no significant difference in the median accuracy scores between the algorithms based on the Kruskal-Wallis test."
   ]
  },
  {
   "cell_type": "code",
   "execution_count": null,
   "id": "a806717c-0849-4c47-b861-c620448729a3",
   "metadata": {},
   "outputs": [],
   "source": []
  },
  {
   "cell_type": "code",
   "execution_count": null,
   "id": "5179504d-f1bf-4d87-9a05-12b1633b072c",
   "metadata": {},
   "outputs": [],
   "source": []
  },
  {
   "cell_type": "code",
   "execution_count": null,
   "id": "13a71235-8584-40ed-a539-f8b367e3e337",
   "metadata": {},
   "outputs": [],
   "source": [
    "18. Scenario: A company wants to analyze the effect of price on sales. The data collected is as follows:\n",
    "    Price (in dollars): [10, 15, 12, 8, 14]\n",
    "    Sales: [100, 80, 90, 110, 95]\n",
    "    Perform a simple linear regression to predict\n",
    "     sales based on price.\n"
   ]
  },
  {
   "cell_type": "code",
   "execution_count": 27,
   "id": "9503cd94-821a-46d7-a1ec-17e7a70f5b33",
   "metadata": {},
   "outputs": [
    {
     "name": "stdout",
     "output_type": "stream",
     "text": [
      "Intercept: 136.3719512195122\n",
      "Coefficient: -3.5060975609756113\n"
     ]
    }
   ],
   "source": [
    "#To perform a simple linear regression to predict sales based on price, you can use Python's `statsmodels` library. Here's an example code:\n",
    "\n",
    "#```python\n",
    "import numpy as np\n",
    "import statsmodels.api as sm\n",
    "\n",
    "# Price (in dollars)\n",
    "X = np.array([10, 15, 12, 8, 14])\n",
    "# Sales\n",
    "y = np.array([100, 80, 90, 110, 95])\n",
    "\n",
    "# Add a constant column to the X matrix\n",
    "X = sm.add_constant(X)\n",
    "\n",
    "# Fit the linear regression model\n",
    "model = sm.OLS(y, X)\n",
    "results = model.fit()\n",
    "\n",
    "\n",
    "# Print the regression coefficients\n",
    "print(\"Intercept:\", results.params[0])\n",
    "print(\"Coefficient:\", results.params[1])\n"
   ]
  },
  {
   "cell_type": "code",
   "execution_count": null,
   "id": "87bccd5c-2fbd-4455-916d-3d695084d1a3",
   "metadata": {},
   "outputs": [],
   "source": []
  },
  {
   "cell_type": "markdown",
   "id": "1feaa191-a074-431b-9a9c-2a2cc450158c",
   "metadata": {},
   "source": [
    "\n",
    "19. Scenario: A survey is conducted to measure the satisfaction levels of customers with a new product. The data collected is as follows:\n",
    "    [7, 8, 9, 6, 8, 7, 9, 7, 8, 7]\n",
    "    Calculate the standard error of the mean satisfaction score.\n"
   ]
  },
  {
   "cell_type": "code",
   "execution_count": 66,
   "id": "fa4c18ec-dc8b-4254-ba7b-1cece6b60a73",
   "metadata": {},
   "outputs": [],
   "source": [
    "import math\n",
    "#standard error = standard deviation / sqrt(n)\n",
    "prod_data =[7,8,9,6,8,7,9,7,8,7]\n",
    "prod_mean =np.mean(prod_data)\n",
    "prod_mean\n",
    "#differences between each observation and the mean:\n",
    "#difference =[-0.6,0.4,1.4,-1.6,0.4,-0.6,1.4,-0.6,0.4,-0.6]\n",
    "difernce =[]\n",
    "for i in prod_data:\n",
    "    difernce.append(round(i-prod_mean,2))\n",
    "sum=0\n",
    "va =[round(i*i,2) for i in difernce]\n",
    "for i in va:\n",
    "    sum =sum+i\n",
    "variance =round(sum,2)/10\n",
    "std =math.sqrt(variance)\n",
    "\n",
    "#Calculating the standard error of the mean satisfaction score:\n",
    "   #- Standard Error = Standard Deviation / sqrt(n) \n",
    "std_error= std / math.sqrt(10) \n"
   ]
  },
  {
   "cell_type": "code",
   "execution_count": 65,
   "id": "d53d6cbc-1e2e-41ec-a813-c3943ac06933",
   "metadata": {},
   "outputs": [
    {
     "data": {
      "text/plain": [
       "0.28982753492378877"
      ]
     },
     "execution_count": 65,
     "metadata": {},
     "output_type": "execute_result"
    }
   ],
   "source": [
    "std_error"
   ]
  },
  {
   "cell_type": "code",
   "execution_count": null,
   "id": "8d2fceb1-5ea2-4a3c-8d35-3b22bab49129",
   "metadata": {},
   "outputs": [],
   "source": [
    "20. Scenario: A company wants to analyze the relationship between advertising expenditure and sales. The data collected is as follows:\n",
    "    Advertising Expenditure (in thousands): [10, 15, 12, 8, 14]\n",
    "    Sales (in thousands): [25, 30, 28, 20, 26]\n",
    "    Perform a multiple regression analysis to predict sales based on advertising expenditure.\n"
   ]
  },
  {
   "cell_type": "code",
   "execution_count": null,
   "id": "64da9a4c-47d8-4629-a49e-582ca4f92ab0",
   "metadata": {},
   "outputs": [],
   "source": []
  },
  {
   "cell_type": "code",
   "execution_count": 26,
   "id": "661bb321-d4df-4494-a38d-6875dcbe1105",
   "metadata": {},
   "outputs": [
    {
     "name": "stdout",
     "output_type": "stream",
     "text": [
      "[10 15 12  8 14]\n",
      "[[ 1. 10.]\n",
      " [ 1. 15.]\n",
      " [ 1. 12.]\n",
      " [ 1.  8.]\n",
      " [ 1. 14.]]\n",
      "[12.20121951  1.15243902]\n",
      "Intercept: 12.201219512195118\n",
      "Coefficient: 1.1524390243902434\n",
      "Predicted Sales: 30.64024390243901\n"
     ]
    },
    {
     "data": {
      "image/png": "[encoded data removed]",
      "text/plain": [
       "<Figure size 640x480 with 1 Axes>"
      ]
     },
     "metadata": {},
     "output_type": "display_data"
    }
   ],
   "source": [
    "import numpy as np\n",
    "import statsmodels.api as sm\n",
    "import matplotlib.pyplot as plt\n",
    "\n",
    "# Advertising Expenditure (in thousands)\n",
    "X = np.array([10, 15, 12, 8, 14])\n",
    "# Sales (in thousands)\n",
    "y = np.array([25, 30, 28, 20, 26])\n",
    "print(X)\n",
    "# Add a constant column to the X matrix\n",
    "X = sm.add_constant(X)\n",
    "print(X)\n",
    "# Fit the multiple regression model\n",
    "model = sm.OLS(y, X)\n",
    "results = model.fit()\n",
    "\n",
    "print(results.params)\n",
    "plt.plot(X,y)\n",
    "# Print the regression coefficients\n",
    "print(\"Intercept:\", results.params[0])\n",
    "print(\"Coefficient:\", results.params[1])\n",
    "\n",
    "# Predict sales for a new advertising expenditure\n",
    "new_expenditure = 16\n",
    "new_expenditure_with_constant = np.array([1, new_expenditure])\n",
    "predicted_sales = np.dot(new_expenditure_with_constant, results.params)\n",
    "print(\"Predicted Sales:\", predicted_sales)\n"
   ]
  },
  {
   "cell_type": "code",
   "execution_count": null,
   "id": "869f21c2-4e7a-42a2-8a7d-0202bac9968c",
   "metadata": {},
   "outputs": [],
   "source": []
  },
  {
   "cell_type": "code",
   "execution_count": null,
   "id": "b18eb477-b185-4e5f-a87c-152c226f02c5",
   "metadata": {},
   "outputs": [],
   "source": []
  },
  {
   "cell_type": "code",
   "execution_count": null,
   "id": "df8cfb2d-e6ff-44cb-900a-ce5cbd9a01bd",
   "metadata": {},
   "outputs": [],
   "source": []
  },
  {
   "cell_type": "code",
   "execution_count": null,
   "id": "98c588a0-fe61-4976-aa16-d05afd329afe",
   "metadata": {},
   "outputs": [],
   "source": []
  },
  {
   "cell_type": "code",
   "execution_count": null,
   "id": "9b69bbf9-cbd1-49ea-8a8a-8045fd58208b",
   "metadata": {},
   "outputs": [],
   "source": []
  },
  {
   "cell_type": "code",
   "execution_count": null,
   "id": "df938fd0-15b0-4c75-852c-57e998cf6c54",
   "metadata": {},
   "outputs": [],
   "source": []
  },
  {
   "cell_type": "code",
   "execution_count": null,
   "id": "af77c9e3-de54-4a00-9827-e91dd8c08b8d",
   "metadata": {},
   "outputs": [],
   "source": []
  }
 ],
 "metadata": {
  "kernelspec": {
   "display_name": "Python 3 (ipykernel)",
   "language": "python",
   "name": "python3"
  },
  "language_info": {
   "codemirror_mode": {
    "name": "ipython",
    "version": 3
   },
   "file_extension": ".py",
   "mimetype": "text/x-python",
   "name": "python",
   "nbconvert_exporter": "python",
   "pygments_lexer": "ipython3",
   "version": "3.10.8"
  }
 },
 "nbformat": 4,
 "nbformat_minor": 5
}
