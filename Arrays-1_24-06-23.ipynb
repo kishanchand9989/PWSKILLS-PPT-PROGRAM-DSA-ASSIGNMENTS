{
 "cells": [
  {
   "cell_type": "markdown",
   "id": "3d54ca2e-141f-4dee-87ca-65982066388a",
   "metadata": {},
   "source": [
    "##                                                      ASSIGNMENT -1"
   ]
  },
  {
   "cell_type": "markdown",
   "id": "6c875cb5-1b05-4991-a381-bd4fadec2d7c",
   "metadata": {},
   "source": [
    "### ARRAYS"
   ]
  },
  {
   "cell_type": "markdown",
   "id": "d83f1be8-5444-4bd3-8d74-16c47f794a1e",
   "metadata": {},
   "source": [
    "\n",
    " Q1. Given an array of integers nums and an integer target, return indices of the two numbers such that they add up to target.\n",
    "\n",
    "You may assume that each input would have exactly one solution, and you may not use the same element twice.\n",
    "\n",
    "You can return the answer in any order.\n",
    "\n",
    "Example:\n",
    "Input: nums = [2,7,11,15], target = 9\n",
    "Output0 [0,1]\n",
    "\n"
   ]
  },
  {
   "cell_type": "code",
   "execution_count": null,
   "id": "67c267d0-a0e6-4792-93f0-0b996e2e5d7a",
   "metadata": {},
   "outputs": [],
   "source": []
  },
  {
   "cell_type": "code",
   "execution_count": 18,
   "id": "4bb2f2b1-456c-4fcf-bf8c-bf414cb93cd5",
   "metadata": {},
   "outputs": [
    {
     "data": {
      "text/plain": [
       "[0, 1]"
      ]
     },
     "execution_count": 18,
     "metadata": {},
     "output_type": "execute_result"
    }
   ],
   "source": [
    "nums=[2,7,11,15]\n",
    "target =9\n",
    "\n",
    "def sum_indexes(nums,target):\n",
    "    num_map={}\n",
    "    for i,j in enumerate(nums):\n",
    "        complement =target-j\n",
    "        \n",
    "        if complement in num_map:\n",
    "            return [num_map[complement],i]\n",
    "        num_map[j]=i\n",
    "    return []\n",
    "sum_indexes(nums,target)\n",
    "    "
   ]
  },
  {
   "cell_type": "code",
   "execution_count": null,
   "id": "5fe9e4be-b2ee-47e0-8a14-61928bba4397",
   "metadata": {},
   "outputs": [],
   "source": []
  },
  {
   "cell_type": "code",
   "execution_count": null,
   "id": "04619184-7fe8-4419-809a-e0893da5b75c",
   "metadata": {},
   "outputs": [],
   "source": []
  },
  {
   "cell_type": "markdown",
   "id": "7bef5c1d-b569-4cca-9ab5-d20ec703b923",
   "metadata": {},
   "source": [
    "\n",
    "Q2. Given an integer array nums and an integer val, remove all occurrences of val in nums in-place. The order of the elements may be changed. Then return the number of elements in nums which are not equal to val.\n",
    "\n",
    "Consider the number of elements in nums which are not equal to val be k, to get accepted, you need to do the following things:\n",
    "\n",
    "- Change the array nums such that the first k elements of nums contain the elements which are not equal to val. The remaining elements of nums are not important as well as the size of nums.\n",
    "- Return k.\n",
    "\n",
    "Example :\n",
    "Input: nums = [3,2,2,3], val = 3\n",
    "Output: 2, nums = [2,2,_*,_*]\n",
    "\n",
    "Your function should return k = 2, with the first two elements of nums being 2. It does not matter what you leave beyond the returned k (hence they are underscores)[\n"
   ]
  },
  {
   "cell_type": "code",
   "execution_count": 21,
   "id": "d271604d-cfe7-4ca4-9082-7194870b7ff3",
   "metadata": {},
   "outputs": [
    {
     "name": "stdout",
     "output_type": "stream",
     "text": [
      "[3, 2, 2, 3, 1, 4, 5, 6, 7, 8, 5, 3, 2, 4, 67, 8, 90, 1]\n",
      "18\n"
     ]
    }
   ],
   "source": [
    "nums=[3,2,2,3,1,4,5,6,7,8,5,3,2,4,67,8,90,11,1,11,11,]\n",
    "val =11\n",
    "def removal(nums,val):\n",
    "    vals=[]\n",
    "    for i in nums:\n",
    "        if i!=val:\n",
    "            vals.append(i)\n",
    "    return vals\n",
    "val_count =removal(nums,val)\n",
    "print(val_count)\n",
    "print(len(val_count))"
   ]
  },
  {
   "cell_type": "code",
   "execution_count": null,
   "id": "77d9ac6e-06ed-4424-98eb-8d3be74e9933",
   "metadata": {},
   "outputs": [],
   "source": []
  },
  {
   "cell_type": "code",
   "execution_count": null,
   "id": "be5b7231-05d9-4913-9293-995e02ce572e",
   "metadata": {},
   "outputs": [],
   "source": []
  },
  {
   "cell_type": "code",
   "execution_count": null,
   "id": "a34ec388-49ea-4b68-b7ac-69eb7102ab1d",
   "metadata": {},
   "outputs": [],
   "source": [
    "Q3.Given a sorted array of distinct integers and a target value, return the index if the target is found. If not, return the index where it would be if it were inserted in order.\n",
    "\n",
    "You must write an algorithm with O(log n) runtime complexity.\n",
    "\n",
    "Example 1:\n",
    "Input: nums = [1,3,5,6], target = 5\n",
    "\n",
    "Output: 2"
   ]
  },
  {
   "cell_type": "code",
   "execution_count": 13,
   "id": "2a2754ba-3ee4-4234-852f-fa3fa0bf2d68",
   "metadata": {},
   "outputs": [
    {
     "name": "stdout",
     "output_type": "stream",
     "text": [
      "2\n"
     ]
    }
   ],
   "source": [
    "def searchInsert(nums, target):\n",
    "    left = 0\n",
    "    right = len(nums) - 1\n",
    "\n",
    "    while left <= right:\n",
    "        mid = (left + right) // 2\n",
    "\n",
    "        if nums[mid] == target:\n",
    "            return mid\n",
    "        elif nums[mid] < target:\n",
    "            left = mid + 1\n",
    "        else:\n",
    "            right = mid - 1\n",
    "\n",
    "    return left\n",
    "\n",
    "# Example usage\n",
    "nums = [1, 3, 5, 6]\n",
    "target = 5\n",
    "\n",
    "index = searchInsert(nums, target)\n",
    "print(index)  \n"
   ]
  },
  {
   "cell_type": "code",
   "execution_count": null,
   "id": "fd398b01-c0c3-4eb8-a914-477f2a624ab3",
   "metadata": {},
   "outputs": [],
   "source": []
  },
  {
   "cell_type": "code",
   "execution_count": null,
   "id": "b093b2f1-bd4d-4d4d-9c4a-34f31fa42352",
   "metadata": {},
   "outputs": [],
   "source": []
  },
  {
   "cell_type": "markdown",
   "id": "62da6c53-314f-42c7-b821-3e9134c0ee8d",
   "metadata": {},
   "source": [
    "Q4. You are given a large integer represented as an integer array digits, where each digits[i] is the ith digit of the integer. The digits are ordered from most significant to least significant in left-to-right order. The large integer does not contain any leading 0's.\n",
    "\n",
    "Increment the large integer by one and return the resulting array of digits.\n",
    "\n",
    "Example 1:\n",
    "Input: digits = [1,2,3]\n",
    "Output: [1,2,4]\n",
    "\n",
    "Explanation: The array represents the integer 123.\n",
    "\n",
    "Incrementing by one gives 123 + 1 = 124.\n",
    "Thus, the result should be [1,2,4].\n"
   ]
  },
  {
   "cell_type": "code",
   "execution_count": 45,
   "id": "d51e0dda-9809-410c-a08c-81f512b62658",
   "metadata": {},
   "outputs": [
    {
     "name": "stdout",
     "output_type": "stream",
     "text": [
      "[1, 2, 9]\n"
     ]
    }
   ],
   "source": [
    "def plusOne(digits):\n",
    "    n = len(digits)\n",
    "    carry = 1\n",
    "\n",
    "    for i in range(n - 1, -1, -1):\n",
    "        total = digits[i] + carry\n",
    "        digits[i] = total % 10\n",
    "        carry = total // 10\n",
    "\n",
    "    if carry > 0:\n",
    "        digits.insert(0, carry)\n",
    "\n",
    "    return digits\n",
    "\n",
    "\n",
    "digits = [1, 2, 8]\n",
    "result = plusOne(digits)\n",
    "print(result)  \n"
   ]
  },
  {
   "cell_type": "code",
   "execution_count": null,
   "id": "0acdad82-987b-47d5-bfe4-5e74a865242d",
   "metadata": {},
   "outputs": [],
   "source": []
  },
  {
   "cell_type": "code",
   "execution_count": null,
   "id": "efb256c7-0e1a-4be7-9cd5-bd90ce59aa68",
   "metadata": {},
   "outputs": [],
   "source": []
  },
  {
   "cell_type": "markdown",
   "id": "738fe4e3-c178-4884-b707-cbc6307aafd3",
   "metadata": {},
   "source": [
    "Q5.   You are given two integer arrays nums1 and nums2, sorted in non-decreasing order, and two integers m and n, representing the number of elements in nums1 and nums2 respectively.\n",
    "\n",
    "Merge nums1 and nums2 into a single array sorted in non-decreasing order.\n",
    "\n",
    "The final sorted array should not be returned by the function, but instead be stored inside the array nums1. To accommodate this, nums1 has a length of m + n, where the first m elements denote the elements that should be merged, and the last n elements are set to 0 and should be ignored. nums2 has a length of n.\n",
    "\n",
    "Example 1:\n",
    "Input: nums1 = [1,2,3,0,0,0], m = 3, nums2 = [2,5,6], n = 3\n",
    "Output: [1,2,2,3,5,6]\n",
    "\n",
    "The arrays we are merging are [1,2,3] and [2,5,6].\n",
    "The result of the merge is [1,2,2,3,5,6] with the underlined elements coming from nums1.\n"
   ]
  },
  {
   "cell_type": "code",
   "execution_count": 25,
   "id": "62c09d6b-3a26-4751-be44-f24694c348fc",
   "metadata": {},
   "outputs": [
    {
     "name": "stdout",
     "output_type": "stream",
     "text": [
      "[1, 2, 2, 3, 5, 6]\n"
     ]
    }
   ],
   "source": [
    "def merge(nums1, m, nums2, n):\n",
    "    ptr1 = m - 1\n",
    "    ptr2 = n - 1\n",
    "    merged_ptr = m + n - 1\n",
    "    \n",
    "    while ptr1 >= 0 and ptr2 >= 0:\n",
    "        if nums1[ptr1] >= nums2[ptr2]:\n",
    "            nums1[merged_ptr] = nums1[ptr1]\n",
    "            ptr1 -= 1\n",
    "        else:\n",
    "            nums1[merged_ptr] = nums2[ptr2]\n",
    "            ptr2 -= 1\n",
    "        merged_ptr -= 1\n",
    "    \n",
    "    while ptr2 >= 0:\n",
    "        nums1[merged_ptr] = nums2[ptr2]\n",
    "        ptr2 -= 1\n",
    "        merged_ptr -= 1\n",
    "        \n",
    "        \n",
    "nums1 = [1, 2, 3, 0, 0, 0]\n",
    "m = 3\n",
    "nums2 = [2, 5, 6]\n",
    "n = 3\n",
    "\n",
    "merge(nums1, m, nums2, n)\n",
    "print(nums1)\n"
   ]
  },
  {
   "cell_type": "code",
   "execution_count": null,
   "id": "1c92aada-be40-4ad5-acb1-b41ebe8e3d5a",
   "metadata": {},
   "outputs": [],
   "source": []
  },
  {
   "cell_type": "code",
   "execution_count": null,
   "id": "020e315a-13bb-4b6f-96b4-43ff36cab8f1",
   "metadata": {},
   "outputs": [],
   "source": []
  },
  {
   "cell_type": "code",
   "execution_count": null,
   "id": "60685d19-7c2f-480c-9f1d-2ec4b95de24e",
   "metadata": {},
   "outputs": [],
   "source": [
    "Q6.  Given an integer array nums, return true if any value appears at least twice in the array, and return false if every element is distinct.\n",
    "\n",
    "Example 1:\n",
    "Input: nums = [1,2,3,1]\n",
    "\n",
    "Output: true"
   ]
  },
  {
   "cell_type": "code",
   "execution_count": 14,
   "id": "987c54d1-3fa6-46fb-9f32-27c9fe99c3c7",
   "metadata": {},
   "outputs": [
    {
     "data": {
      "text/plain": [
       "True"
      ]
     },
     "execution_count": 14,
     "metadata": {},
     "output_type": "execute_result"
    }
   ],
   "source": [
    "def check(nums):\n",
    "    num_set=[]\n",
    "    for i in nums:\n",
    "        if i in num_set:\n",
    "            return True\n",
    "        else:\n",
    "            num_set.append(i)\n",
    "    return False\n",
    "            \n",
    "    \n",
    "\n",
    "\n",
    "nums=[1,2,3,1]\n",
    "check(nums)"
   ]
  },
  {
   "cell_type": "code",
   "execution_count": null,
   "id": "196c4cc4-f65e-4984-99c9-ecfd7f6b556d",
   "metadata": {},
   "outputs": [],
   "source": []
  },
  {
   "cell_type": "code",
   "execution_count": null,
   "id": "2d64255d-25e8-439b-9d49-f089d749f4a9",
   "metadata": {},
   "outputs": [],
   "source": []
  },
  {
   "cell_type": "code",
   "execution_count": null,
   "id": "521ba3c6-454c-41fe-b205-bbbbc8033ee8",
   "metadata": {},
   "outputs": [],
   "source": [
    "Q7. Given an integer array nums, move all 0 s to the end of it while maintaining the relative order of the nonzero elements.\n",
    "\n",
    "Note that you must do this in-place without making a copy of the array.\n",
    "\n",
    "Example 1:\n",
    "Input: nums = [0,1,0,3,12]\n",
    "Output: [1,3,12,0,0]\n"
   ]
  },
  {
   "cell_type": "code",
   "execution_count": 17,
   "id": "d5a1a6d8-8575-4102-a7d5-4bac5e7d3362",
   "metadata": {},
   "outputs": [],
   "source": [
    "def sorting_zero(nums):\n",
    "    size =len(nums)\n",
    "    zero_count=0\n",
    "    \n",
    "    for i in range(size):\n",
    "        if(nums[i]!=0):\n",
    "            nums[i-zero_count]=nums[i]\n",
    "        else:\n",
    "            zero_count += 1\n",
    "    for i in range(size-zero_count,size):\n",
    "        nums[i]=0\n",
    "        \n",
    "nums=[0,1,0,3,12]\n",
    "sorting_zero(nums)\n"
   ]
  },
  {
   "cell_type": "code",
   "execution_count": 18,
   "id": "740ab057-89b6-44fa-9e2d-19b4f321abf7",
   "metadata": {},
   "outputs": [
    {
     "data": {
      "text/plain": [
       "[1, 3, 12, 0, 0]"
      ]
     },
     "execution_count": 18,
     "metadata": {},
     "output_type": "execute_result"
    }
   ],
   "source": [
    "nums"
   ]
  },
  {
   "cell_type": "code",
   "execution_count": null,
   "id": "2b8b077b-1a42-4ba7-95d0-6d47563ff413",
   "metadata": {},
   "outputs": [],
   "source": []
  },
  {
   "cell_type": "code",
   "execution_count": null,
   "id": "e752e702-a781-4c20-af28-6a48da356bfa",
   "metadata": {},
   "outputs": [],
   "source": []
  },
  {
   "cell_type": "code",
   "execution_count": null,
   "id": "91c341ee-2c6f-4261-9538-e18e700b1fc6",
   "metadata": {},
   "outputs": [],
   "source": [
    "\n",
    "Q8. You have a set of integers s, which originally contains all the numbers from 1 to n. Unfortunately, due to some error, one of the numbers in s got duplicated to another number in the set, which results in repetition of one number and loss of another number.\n",
    "\n",
    "You are given an integer array nums representing the data status of this set after the error.\n",
    "\n",
    "Find the number that occurs twice and the number that is missing and return them in the form of an array.\n",
    "\n",
    "Example 1:\n",
    "Input: nums = [1,2,2,4]\n",
    "Output: [2,3]\n"
   ]
  },
  {
   "cell_type": "code",
   "execution_count": 9,
   "id": "5f431674-8cfc-4c03-a8bd-688af2f3c9f0",
   "metadata": {},
   "outputs": [
    {
     "name": "stdout",
     "output_type": "stream",
     "text": [
      "[0, 0, 0, 0, 0]\n",
      "[2, 3]\n"
     ]
    }
   ],
   "source": [
    "def findErrorNums(nums):\n",
    "    n = len(nums)\n",
    "    count = [0] * (n + 1)\n",
    "    duplicate = -1\n",
    "    missing = -1\n",
    "    print(count)\n",
    "    \n",
    "    # Count the occurrences of each number in nums\n",
    "    for num in nums:\n",
    "        count[num] += 1\n",
    "    \n",
    "    # Find the number that occurs twice and the number that is missing\n",
    "    for i in range(1, n + 1):\n",
    "        if count[i] == 2:\n",
    "            duplicate = i\n",
    "        elif count[i] == 0:\n",
    "            missing = i\n",
    "    \n",
    "    return [duplicate, missing]\n",
    "\n",
    "# Example usage\n",
    "nums = [1, 2, 2, 4]\n",
    "result = findErrorNums(nums)\n",
    "print(result)  # Output: [2, 3]\n"
   ]
  },
  {
   "cell_type": "code",
   "execution_count": null,
   "id": "318c30f7-395c-46e4-8bfc-aaa8edb6e503",
   "metadata": {},
   "outputs": [],
   "source": []
  },
  {
   "cell_type": "code",
   "execution_count": null,
   "id": "247393d1-4429-4982-9bfb-5a3c0e741bec",
   "metadata": {},
   "outputs": [],
   "source": []
  }
 ],
 "metadata": {
  "kernelspec": {
   "display_name": "Python 3 (ipykernel)",
   "language": "python",
   "name": "python3"
  },
  "language_info": {
   "codemirror_mode": {
    "name": "ipython",
    "version": 3
   },
   "file_extension": ".py",
   "mimetype": "text/x-python",
   "name": "python",
   "nbconvert_exporter": "python",
   "pygments_lexer": "ipython3",
   "version": "3.10.8"
  }
 },
 "nbformat": 4,
 "nbformat_minor": 5
}
